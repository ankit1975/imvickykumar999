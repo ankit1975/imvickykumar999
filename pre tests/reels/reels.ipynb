{
 "cells": [
  {
   "cell_type": "markdown",
   "metadata": {},
   "source": [
    "# https://copyassignment.com/download-instagram-reels-using-python/"
   ]
  },
  {
   "cell_type": "code",
   "execution_count": 1,
   "metadata": {},
   "outputs": [
    {
     "name": "stdout",
     "output_type": "stream",
     "text": [
      "Collecting insta-scrape\n",
      "  Using cached insta_scrape-2.1.2-py3-none-any.whl (26 kB)\n",
      "Requirement already satisfied: beautifulsoup4 in c:\\users\\vicky\\anaconda3\\lib\\site-packages (from insta-scrape) (4.9.1)\n",
      "Requirement already satisfied: requests in c:\\users\\vicky\\anaconda3\\lib\\site-packages (from insta-scrape) (2.24.0)\n",
      "Requirement already satisfied: soupsieve>1.2 in c:\\users\\vicky\\anaconda3\\lib\\site-packages (from beautifulsoup4->insta-scrape) (2.0.1)\n",
      "Requirement already satisfied: chardet<4,>=3.0.2 in c:\\users\\vicky\\anaconda3\\lib\\site-packages (from requests->insta-scrape) (3.0.4)\n",
      "Requirement already satisfied: urllib3!=1.25.0,!=1.25.1,<1.26,>=1.21.1 in c:\\users\\vicky\\anaconda3\\lib\\site-packages (from requests->insta-scrape) (1.25.11)\n",
      "Requirement already satisfied: certifi>=2017.4.17 in c:\\users\\vicky\\anaconda3\\lib\\site-packages (from requests->insta-scrape) (2020.6.20)\n",
      "Requirement already satisfied: idna<3,>=2.5 in c:\\users\\vicky\\anaconda3\\lib\\site-packages (from requests->insta-scrape) (2.10)\n",
      "Installing collected packages: insta-scrape\n",
      "Successfully installed insta-scrape-2.1.2\n"
     ]
    }
   ],
   "source": [
    "!pip3 install insta-scrape"
   ]
  },
  {
   "cell_type": "code",
   "execution_count": 4,
   "metadata": {},
   "outputs": [],
   "source": [
    "import time\n",
    "\n",
    "def download(link):\n",
    "    try:\n",
    "        if (link):\n",
    "\n",
    "            SESSIONID = \"18614737527%3ApTLwFoXv5BZohu%3A4\"\n",
    "            headers = {\n",
    "            \"User-Agent\": \"Mozilla/5.0 (Windows NT 10.0; Win64; x64) AppleWebKit/537.36 (KHTML, like Gecko) Chrome/79.0.3945.74 Safari/537.36 Edg/79.0.309.43\",\n",
    "            \"cookie\":f'sessionid={SESSIONID};'\n",
    "            }\n",
    "\n",
    "            google_reel=Reel(link)\n",
    "            google_reel.scrape(headers=headers)\n",
    "            google_reel.download(fp=f\"{int(time.time())}.mp4\")\n",
    "        else:\n",
    "            print(\"Empty field\",\"Please fill out the field\")\n",
    "    except Exception as e:\n",
    "        print(e)"
   ]
  },
  {
   "cell_type": "code",
   "execution_count": 5,
   "metadata": {},
   "outputs": [],
   "source": [
    "download('https://www.instagram.com/p/CThgGVnJIpU/')"
   ]
  },
  {
   "cell_type": "code",
   "execution_count": null,
   "metadata": {},
   "outputs": [],
   "source": []
  }
 ],
 "metadata": {
  "kernelspec": {
   "display_name": "Python 3",
   "language": "python",
   "name": "python3"
  },
  "language_info": {
   "codemirror_mode": {
    "name": "ipython",
    "version": 3
   },
   "file_extension": ".py",
   "mimetype": "text/x-python",
   "name": "python",
   "nbconvert_exporter": "python",
   "pygments_lexer": "ipython3",
   "version": "3.8.3"
  }
 },
 "nbformat": 4,
 "nbformat_minor": 4
}
