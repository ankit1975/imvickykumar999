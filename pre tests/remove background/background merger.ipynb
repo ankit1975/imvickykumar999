{
 "cells": [
  {
   "cell_type": "code",
   "execution_count": 5,
   "metadata": {},
   "outputs": [],
   "source": [
    "# !pip install removebg\n",
    "\n",
    "from removebg import RemoveBg\n",
    "\n",
    "rmbg = RemoveBg(\"d5DKkXhbhpc3g93qWknBnDKG\", \"error.log\")\n",
    "rmbg.remove_background_from_img_file(\"vix.jpeg\")"
   ]
  },
  {
   "cell_type": "code",
   "execution_count": 7,
   "metadata": {},
   "outputs": [],
   "source": [
    "from PIL import Image\n",
    "\n",
    "background = Image.open(\"dubai.jpeg\")\n",
    "foreground = Image.open(\"vix.jpeg_no_bg.png\")\n",
    "\n",
    "background.paste(foreground, (0, 0), foreground)\n",
    "background.show()"
   ]
  },
  {
   "cell_type": "code",
   "execution_count": null,
   "metadata": {},
   "outputs": [],
   "source": [
    "from PIL import Image\n",
    "image = Image.open(\"path/.../image.png\")\n",
    "image = image.resize((500,500),Image.ANTIALIAS)\n",
    "image.save(fp=\"newimage.png\")"
   ]
  }
 ],
 "metadata": {
  "kernelspec": {
   "display_name": "Python 3",
   "language": "python",
   "name": "python3"
  },
  "language_info": {
   "codemirror_mode": {
    "name": "ipython",
    "version": 3
   },
   "file_extension": ".py",
   "mimetype": "text/x-python",
   "name": "python",
   "nbconvert_exporter": "python",
   "pygments_lexer": "ipython3",
   "version": "3.8.3"
  }
 },
 "nbformat": 4,
 "nbformat_minor": 4
}
