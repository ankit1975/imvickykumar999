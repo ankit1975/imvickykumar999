{
 "cells": [
  {
   "cell_type": "markdown",
   "metadata": {},
   "source": [
    "# https://rapidapi.com/tipsters/api/shazam-core/"
   ]
  },
  {
   "cell_type": "code",
   "execution_count": 1,
   "metadata": {},
   "outputs": [
    {
     "name": "stdout",
     "output_type": "stream",
     "text": [
      "Collecting ShazamAPI\n",
      "  Downloading ShazamAPI-0.0.2-py3-none-any.whl (8.8 kB)\n",
      "Requirement already satisfied: numpy in c:\\users\\vicky\\anaconda3\\lib\\site-packages (from ShazamAPI) (1.19.5)\n",
      "Requirement already satisfied: requests in c:\\users\\vicky\\anaconda3\\lib\\site-packages (from ShazamAPI) (2.24.0)\n",
      "Requirement already satisfied: pydub in c:\\users\\vicky\\anaconda3\\lib\\site-packages (from ShazamAPI) (0.25.1)\n",
      "Requirement already satisfied: idna<3,>=2.5 in c:\\users\\vicky\\anaconda3\\lib\\site-packages (from requests->ShazamAPI) (2.10)\n",
      "Requirement already satisfied: certifi>=2017.4.17 in c:\\users\\vicky\\anaconda3\\lib\\site-packages (from requests->ShazamAPI) (2020.6.20)\n",
      "Requirement already satisfied: chardet<4,>=3.0.2 in c:\\users\\vicky\\anaconda3\\lib\\site-packages (from requests->ShazamAPI) (3.0.4)\n",
      "Requirement already satisfied: urllib3!=1.25.0,!=1.25.1,<1.26,>=1.21.1 in c:\\users\\vicky\\anaconda3\\lib\\site-packages (from requests->ShazamAPI) (1.25.11)\n",
      "Installing collected packages: ShazamAPI\n",
      "Successfully installed ShazamAPI-0.0.2\n"
     ]
    }
   ],
   "source": [
    "!pip install ShazamAPI"
   ]
  },
  {
   "cell_type": "code",
   "execution_count": 3,
   "metadata": {
    "scrolled": true
   },
   "outputs": [
    {
     "ename": "FileNotFoundError",
     "evalue": "[WinError 2] The system cannot find the file specified",
     "output_type": "error",
     "traceback": [
      "\u001b[1;31m---------------------------------------------------------------------------\u001b[0m",
      "\u001b[1;31mFileNotFoundError\u001b[0m                         Traceback (most recent call last)",
      "\u001b[1;32m<ipython-input-3-1d9bbdfe56d7>\u001b[0m in \u001b[0;36m<module>\u001b[1;34m\u001b[0m\n\u001b[0;32m      6\u001b[0m \u001b[0mrecognize_generator\u001b[0m \u001b[1;33m=\u001b[0m \u001b[0mshazam\u001b[0m\u001b[1;33m.\u001b[0m\u001b[0mrecognizeSong\u001b[0m\u001b[1;33m(\u001b[0m\u001b[1;33m)\u001b[0m\u001b[1;33m\u001b[0m\u001b[1;33m\u001b[0m\u001b[0m\n\u001b[0;32m      7\u001b[0m \u001b[1;32mwhile\u001b[0m \u001b[1;32mTrue\u001b[0m\u001b[1;33m:\u001b[0m\u001b[1;33m\u001b[0m\u001b[1;33m\u001b[0m\u001b[0m\n\u001b[1;32m----> 8\u001b[1;33m     \u001b[0mprint\u001b[0m\u001b[1;33m(\u001b[0m\u001b[0mnext\u001b[0m\u001b[1;33m(\u001b[0m\u001b[0mrecognize_generator\u001b[0m\u001b[1;33m)\u001b[0m\u001b[1;33m)\u001b[0m \u001b[1;31m# current offset & shazam response to recognize requests\u001b[0m\u001b[1;33m\u001b[0m\u001b[1;33m\u001b[0m\u001b[0m\n\u001b[0m",
      "\u001b[1;32m~\\anaconda3\\lib\\site-packages\\ShazamAPI\\api.py\u001b[0m in \u001b[0;36mrecognizeSong\u001b[1;34m(self)\u001b[0m\n\u001b[0;32m     29\u001b[0m \u001b[1;33m\u001b[0m\u001b[0m\n\u001b[0;32m     30\u001b[0m     \u001b[1;32mdef\u001b[0m \u001b[0mrecognizeSong\u001b[0m\u001b[1;33m(\u001b[0m\u001b[0mself\u001b[0m\u001b[1;33m)\u001b[0m \u001b[1;33m->\u001b[0m \u001b[0mdict\u001b[0m\u001b[1;33m:\u001b[0m\u001b[1;33m\u001b[0m\u001b[1;33m\u001b[0m\u001b[0m\n\u001b[1;32m---> 31\u001b[1;33m         \u001b[0mself\u001b[0m\u001b[1;33m.\u001b[0m\u001b[0maudio\u001b[0m \u001b[1;33m=\u001b[0m \u001b[0mself\u001b[0m\u001b[1;33m.\u001b[0m\u001b[0mnormalizateAudioData\u001b[0m\u001b[1;33m(\u001b[0m\u001b[0mself\u001b[0m\u001b[1;33m.\u001b[0m\u001b[0msongData\u001b[0m\u001b[1;33m)\u001b[0m\u001b[1;33m\u001b[0m\u001b[1;33m\u001b[0m\u001b[0m\n\u001b[0m\u001b[0;32m     32\u001b[0m         \u001b[0msignatureGenerator\u001b[0m \u001b[1;33m=\u001b[0m \u001b[0mself\u001b[0m\u001b[1;33m.\u001b[0m\u001b[0mcreateSignatureGenerator\u001b[0m\u001b[1;33m(\u001b[0m\u001b[0mself\u001b[0m\u001b[1;33m.\u001b[0m\u001b[0maudio\u001b[0m\u001b[1;33m)\u001b[0m\u001b[1;33m\u001b[0m\u001b[1;33m\u001b[0m\u001b[0m\n\u001b[0;32m     33\u001b[0m         \u001b[1;32mwhile\u001b[0m \u001b[1;32mTrue\u001b[0m\u001b[1;33m:\u001b[0m\u001b[1;33m\u001b[0m\u001b[1;33m\u001b[0m\u001b[0m\n",
      "\u001b[1;32m~\\anaconda3\\lib\\site-packages\\ShazamAPI\\api.py\u001b[0m in \u001b[0;36mnormalizateAudioData\u001b[1;34m(self, songData)\u001b[0m\n\u001b[0;32m     61\u001b[0m \u001b[1;33m\u001b[0m\u001b[0m\n\u001b[0;32m     62\u001b[0m     \u001b[1;32mdef\u001b[0m \u001b[0mnormalizateAudioData\u001b[0m\u001b[1;33m(\u001b[0m\u001b[0mself\u001b[0m\u001b[1;33m,\u001b[0m \u001b[0msongData\u001b[0m\u001b[1;33m:\u001b[0m \u001b[0mbytes\u001b[0m\u001b[1;33m)\u001b[0m \u001b[1;33m->\u001b[0m \u001b[0mAudioSegment\u001b[0m\u001b[1;33m:\u001b[0m\u001b[1;33m\u001b[0m\u001b[1;33m\u001b[0m\u001b[0m\n\u001b[1;32m---> 63\u001b[1;33m         \u001b[0maudio\u001b[0m \u001b[1;33m=\u001b[0m \u001b[0mAudioSegment\u001b[0m\u001b[1;33m.\u001b[0m\u001b[0mfrom_file\u001b[0m\u001b[1;33m(\u001b[0m\u001b[0mBytesIO\u001b[0m\u001b[1;33m(\u001b[0m\u001b[0msongData\u001b[0m\u001b[1;33m)\u001b[0m\u001b[1;33m)\u001b[0m\u001b[1;33m\u001b[0m\u001b[1;33m\u001b[0m\u001b[0m\n\u001b[0m\u001b[0;32m     64\u001b[0m \u001b[1;33m\u001b[0m\u001b[0m\n\u001b[0;32m     65\u001b[0m         \u001b[0maudio\u001b[0m \u001b[1;33m=\u001b[0m \u001b[0maudio\u001b[0m\u001b[1;33m.\u001b[0m\u001b[0mset_sample_width\u001b[0m\u001b[1;33m(\u001b[0m\u001b[1;36m2\u001b[0m\u001b[1;33m)\u001b[0m\u001b[1;33m\u001b[0m\u001b[1;33m\u001b[0m\u001b[0m\n",
      "\u001b[1;32m~\\anaconda3\\lib\\site-packages\\pydub\\audio_segment.py\u001b[0m in \u001b[0;36mfrom_file\u001b[1;34m(cls, file, format, codec, parameters, start_second, duration, **kwargs)\u001b[0m\n\u001b[0;32m    726\u001b[0m             \u001b[0minfo\u001b[0m \u001b[1;33m=\u001b[0m \u001b[1;32mNone\u001b[0m\u001b[1;33m\u001b[0m\u001b[1;33m\u001b[0m\u001b[0m\n\u001b[0;32m    727\u001b[0m         \u001b[1;32melse\u001b[0m\u001b[1;33m:\u001b[0m\u001b[1;33m\u001b[0m\u001b[1;33m\u001b[0m\u001b[0m\n\u001b[1;32m--> 728\u001b[1;33m             \u001b[0minfo\u001b[0m \u001b[1;33m=\u001b[0m \u001b[0mmediainfo_json\u001b[0m\u001b[1;33m(\u001b[0m\u001b[0morig_file\u001b[0m\u001b[1;33m,\u001b[0m \u001b[0mread_ahead_limit\u001b[0m\u001b[1;33m=\u001b[0m\u001b[0mread_ahead_limit\u001b[0m\u001b[1;33m)\u001b[0m\u001b[1;33m\u001b[0m\u001b[1;33m\u001b[0m\u001b[0m\n\u001b[0m\u001b[0;32m    729\u001b[0m         \u001b[1;32mif\u001b[0m \u001b[0minfo\u001b[0m\u001b[1;33m:\u001b[0m\u001b[1;33m\u001b[0m\u001b[1;33m\u001b[0m\u001b[0m\n\u001b[0;32m    730\u001b[0m             audio_streams = [x for x in info['streams']\n",
      "\u001b[1;32m~\\anaconda3\\lib\\site-packages\\pydub\\utils.py\u001b[0m in \u001b[0;36mmediainfo_json\u001b[1;34m(filepath, read_ahead_limit)\u001b[0m\n\u001b[0;32m    272\u001b[0m \u001b[1;33m\u001b[0m\u001b[0m\n\u001b[0;32m    273\u001b[0m     \u001b[0mcommand\u001b[0m \u001b[1;33m=\u001b[0m \u001b[1;33m[\u001b[0m\u001b[0mprober\u001b[0m\u001b[1;33m,\u001b[0m \u001b[1;34m'-of'\u001b[0m\u001b[1;33m,\u001b[0m \u001b[1;34m'json'\u001b[0m\u001b[1;33m]\u001b[0m \u001b[1;33m+\u001b[0m \u001b[0mcommand_args\u001b[0m\u001b[1;33m\u001b[0m\u001b[1;33m\u001b[0m\u001b[0m\n\u001b[1;32m--> 274\u001b[1;33m     \u001b[0mres\u001b[0m \u001b[1;33m=\u001b[0m \u001b[0mPopen\u001b[0m\u001b[1;33m(\u001b[0m\u001b[0mcommand\u001b[0m\u001b[1;33m,\u001b[0m \u001b[0mstdin\u001b[0m\u001b[1;33m=\u001b[0m\u001b[0mstdin_parameter\u001b[0m\u001b[1;33m,\u001b[0m \u001b[0mstdout\u001b[0m\u001b[1;33m=\u001b[0m\u001b[0mPIPE\u001b[0m\u001b[1;33m,\u001b[0m \u001b[0mstderr\u001b[0m\u001b[1;33m=\u001b[0m\u001b[0mPIPE\u001b[0m\u001b[1;33m)\u001b[0m\u001b[1;33m\u001b[0m\u001b[1;33m\u001b[0m\u001b[0m\n\u001b[0m\u001b[0;32m    275\u001b[0m     \u001b[0moutput\u001b[0m\u001b[1;33m,\u001b[0m \u001b[0mstderr\u001b[0m \u001b[1;33m=\u001b[0m \u001b[0mres\u001b[0m\u001b[1;33m.\u001b[0m\u001b[0mcommunicate\u001b[0m\u001b[1;33m(\u001b[0m\u001b[0minput\u001b[0m\u001b[1;33m=\u001b[0m\u001b[0mstdin_data\u001b[0m\u001b[1;33m)\u001b[0m\u001b[1;33m\u001b[0m\u001b[1;33m\u001b[0m\u001b[0m\n\u001b[0;32m    276\u001b[0m     \u001b[0moutput\u001b[0m \u001b[1;33m=\u001b[0m \u001b[0moutput\u001b[0m\u001b[1;33m.\u001b[0m\u001b[0mdecode\u001b[0m\u001b[1;33m(\u001b[0m\u001b[1;34m\"utf-8\"\u001b[0m\u001b[1;33m,\u001b[0m \u001b[1;34m'ignore'\u001b[0m\u001b[1;33m)\u001b[0m\u001b[1;33m\u001b[0m\u001b[1;33m\u001b[0m\u001b[0m\n",
      "\u001b[1;32m~\\anaconda3\\lib\\subprocess.py\u001b[0m in \u001b[0;36m__init__\u001b[1;34m(self, args, bufsize, executable, stdin, stdout, stderr, preexec_fn, close_fds, shell, cwd, env, universal_newlines, startupinfo, creationflags, restore_signals, start_new_session, pass_fds, encoding, errors, text)\u001b[0m\n\u001b[0;32m    852\u001b[0m                             encoding=encoding, errors=errors)\n\u001b[0;32m    853\u001b[0m \u001b[1;33m\u001b[0m\u001b[0m\n\u001b[1;32m--> 854\u001b[1;33m             self._execute_child(args, executable, preexec_fn, close_fds,\n\u001b[0m\u001b[0;32m    855\u001b[0m                                 \u001b[0mpass_fds\u001b[0m\u001b[1;33m,\u001b[0m \u001b[0mcwd\u001b[0m\u001b[1;33m,\u001b[0m \u001b[0menv\u001b[0m\u001b[1;33m,\u001b[0m\u001b[1;33m\u001b[0m\u001b[1;33m\u001b[0m\u001b[0m\n\u001b[0;32m    856\u001b[0m                                 \u001b[0mstartupinfo\u001b[0m\u001b[1;33m,\u001b[0m \u001b[0mcreationflags\u001b[0m\u001b[1;33m,\u001b[0m \u001b[0mshell\u001b[0m\u001b[1;33m,\u001b[0m\u001b[1;33m\u001b[0m\u001b[1;33m\u001b[0m\u001b[0m\n",
      "\u001b[1;32m~\\anaconda3\\lib\\subprocess.py\u001b[0m in \u001b[0;36m_execute_child\u001b[1;34m(self, args, executable, preexec_fn, close_fds, pass_fds, cwd, env, startupinfo, creationflags, shell, p2cread, p2cwrite, c2pread, c2pwrite, errread, errwrite, unused_restore_signals, unused_start_new_session)\u001b[0m\n\u001b[0;32m   1305\u001b[0m             \u001b[1;31m# Start the process\u001b[0m\u001b[1;33m\u001b[0m\u001b[1;33m\u001b[0m\u001b[1;33m\u001b[0m\u001b[0m\n\u001b[0;32m   1306\u001b[0m             \u001b[1;32mtry\u001b[0m\u001b[1;33m:\u001b[0m\u001b[1;33m\u001b[0m\u001b[1;33m\u001b[0m\u001b[0m\n\u001b[1;32m-> 1307\u001b[1;33m                 hp, ht, pid, tid = _winapi.CreateProcess(executable, args,\n\u001b[0m\u001b[0;32m   1308\u001b[0m                                          \u001b[1;31m# no special security\u001b[0m\u001b[1;33m\u001b[0m\u001b[1;33m\u001b[0m\u001b[1;33m\u001b[0m\u001b[0m\n\u001b[0;32m   1309\u001b[0m                                          \u001b[1;32mNone\u001b[0m\u001b[1;33m,\u001b[0m \u001b[1;32mNone\u001b[0m\u001b[1;33m,\u001b[0m\u001b[1;33m\u001b[0m\u001b[1;33m\u001b[0m\u001b[0m\n",
      "\u001b[1;31mFileNotFoundError\u001b[0m: [WinError 2] The system cannot find the file specified"
     ]
    }
   ],
   "source": [
    "from ShazamAPI import Shazam\n",
    "\n",
    "mp3_file_content_to_recognize = open('JGwWNGJdvx8_trimmed.mp3', 'rb').read()\n",
    "\n",
    "shazam = Shazam(mp3_file_content_to_recognize)\n",
    "recognize_generator = shazam.recognizeSong()\n",
    "while True:\n",
    "    print(next(recognize_generator)) # current offset & shazam response to recognize requests\n"
   ]
  },
  {
   "cell_type": "code",
   "execution_count": 4,
   "metadata": {
    "scrolled": true
   },
   "outputs": [
    {
     "name": "stdout",
     "output_type": "stream",
     "text": [
      "Collecting shazamio"
     ]
    },
    {
     "name": "stderr",
     "output_type": "stream",
     "text": [
      "ERROR: tensorflow 2.3.1 has requirement numpy<1.19.0,>=1.16.0, but you'll have numpy 1.21.2 which is incompatible.\n",
      "ERROR: spacy 2.3.2 has requirement tqdm<5.0.0,>=4.38.0, but you'll have tqdm 4.11.2 which is incompatible.\n",
      "ERROR: scikit-image 0.16.2 has requirement imageio>=2.3.0, but you'll have imageio 2.1.2 which is incompatible.\n",
      "ERROR: pmdarima 1.8.2 has requirement numpy~=1.19.0, but you'll have numpy 1.21.2 which is incompatible.\n",
      "ERROR: instabot 0.117.0 has requirement moviepy>=1.0.1, but you'll have moviepy 0.2.3.2 which is incompatible.\n",
      "ERROR: instabot 0.117.0 has requirement tqdm>=4.41.1, but you'll have tqdm 4.11.2 which is incompatible.\n",
      "ERROR: gensim 3.8.3 has requirement Cython==0.29.14, but you'll have cython 0.29.19 which is incompatible.\n",
      "ERROR: Could not install packages due to an EnvironmentError: [WinError 5] Access is denied: 'C:\\\\Users\\\\Vicky\\\\anaconda3\\\\Lib\\\\site-packages\\\\~umpy\\\\.libs\\\\libopenblas.WCDJNK7YVMPZQ2ME2ZZHJJRJ3JIKNDB7.gfortran-win_amd64.dll'\n",
      "Consider using the `--user` option or check the permissions.\n",
      "\n"
     ]
    },
    {
     "name": "stdout",
     "output_type": "stream",
     "text": [
      "\n",
      "  Downloading shazamio-0.0.5-py3-none-any.whl (22 kB)\n",
      "Collecting numpy<2.0.0,>=1.20.1\n",
      "  Downloading numpy-1.21.2-cp38-cp38-win_amd64.whl (14.0 MB)\n",
      "Collecting dataclass-factory<3.0.0,>=2.10.1\n",
      "  Downloading dataclass_factory-2.11-py3-none-any.whl (26 kB)\n",
      "Collecting aiohttp<4.0.0,>=3.7.4\n",
      "  Downloading aiohttp-3.7.4.post0-cp38-cp38-win_amd64.whl (635 kB)\n",
      "Collecting aiofiles<0.7.0,>=0.6.0\n",
      "  Downloading aiofiles-0.6.0-py3-none-any.whl (11 kB)\n",
      "Collecting pydub<0.25.0,>=0.24.1\n",
      "  Downloading pydub-0.24.1-py2.py3-none-any.whl (30 kB)\n",
      "Requirement already satisfied: attrs>=17.3.0 in c:\\users\\vicky\\anaconda3\\lib\\site-packages (from aiohttp<4.0.0,>=3.7.4->shazamio) (19.3.0)\n",
      "Collecting multidict<7.0,>=4.5\n",
      "  Downloading multidict-5.1.0-cp38-cp38-win_amd64.whl (48 kB)\n",
      "Requirement already satisfied: chardet<5.0,>=2.0 in c:\\users\\vicky\\anaconda3\\lib\\site-packages (from aiohttp<4.0.0,>=3.7.4->shazamio) (3.0.4)\n",
      "Collecting async-timeout<4.0,>=3.0\n",
      "  Downloading async_timeout-3.0.1-py3-none-any.whl (8.2 kB)\n",
      "Collecting yarl<2.0,>=1.0\n",
      "  Downloading yarl-1.6.3-cp38-cp38-win_amd64.whl (125 kB)\n",
      "Requirement already satisfied: typing-extensions>=3.6.5 in c:\\users\\vicky\\anaconda3\\lib\\site-packages (from aiohttp<4.0.0,>=3.7.4->shazamio) (3.7.4.2)\n",
      "Requirement already satisfied: idna>=2.0 in c:\\users\\vicky\\anaconda3\\lib\\site-packages (from yarl<2.0,>=1.0->aiohttp<4.0.0,>=3.7.4->shazamio) (2.10)\n",
      "Installing collected packages: numpy, dataclass-factory, multidict, async-timeout, yarl, aiohttp, aiofiles, pydub, shazamio\n",
      "  Attempting uninstall: numpy\n",
      "    Found existing installation: numpy 1.19.5\n",
      "    Uninstalling numpy-1.19.5:\n",
      "      Successfully uninstalled numpy-1.19.5\n"
     ]
    }
   ],
   "source": [
    "!pip install shazamio"
   ]
  },
  {
   "cell_type": "code",
   "execution_count": 6,
   "metadata": {},
   "outputs": [
    {
     "name": "stdout",
     "output_type": "stream",
     "text": [
      "('[{\"id\":\"553806511\",\"type\":\"MUSIC\",\"layout\":\"5\",\"title\":\"Wellerman (Sea '\n",
      " 'Shanty / 220 KID x Billen Ted '\n",
      " 'Remix)\",\"url\":\"https://www.shazam.com/track/553806511/wellerman-sea-shanty-220-kid-x-billen-ted-remix\",\"apple_music_url\":\"https://music.apple.com/gb/album/wellerman-sea-shanty-220-kid-x-billen-ted-remix/1550182794\",\"subtitle\":\"Nathan '\n",
      " 'Evans, 220 KID & Billen '\n",
      " 'Ted\",\"images\":{\"background\":\"https://is2-ssl.mzstatic.com/image/thumb/Features114/v4/e8/5b/23/e85b2365-cbe4-72fb-1d5f-fb615b270acf/pr_source.png/800x800cc.jpg\",\"coverart\":\"https://is2-ssl.mzstatic.com/image/thumb/Music124/v4/ca/33/0c/ca330cfe-2cc3-905a-89a5-ae64164c7a1b/21UMGIM04266.rgb.jpg/400x400cc.jpg\",\"coverarthq\":\"https://is2-ssl.mzstatic.com/image/thumb/Music124/v4/ca/33/0c/ca330cfe-2cc3-905a-89a5-ae64164c7a1b/21UMGIM04266.rgb.jpg/400x400cc.jpg\",\"joecolor\":\"b:00f0ffp:000000s:001e24t:003033q:004850\"},\"share\":{\"subject\":\"Wellerman '\n",
      " '(Sea Shanty / 220 KID x Billen Ted Remix) - Nathan Evans, 220 KID & Billen '\n",
      " 'Ted\",\"text\":\"I used Shazam to discover Wellerman (Sea Shanty / 220 KID x '\n",
      " 'Billen Ted Remix) by Nathan Evans, 220 KID & Billen '\n",
      " 'Ted.\",\"href\":\"https://www.shazam.com/track/553806511/wellerman-sea-shanty-220-kid-x-billen-ted-remix\",\"image\":\"https://is2-ssl.mzstatic.com/image/thumb/Music124/v4/ca/33/0c/ca330cfe-2cc3-905a-89a5-ae64164c7a1b/21UMGIM04266.rgb.jpg/400x400cc.jpg\",\"twitter\":\"I '\n",
      " 'used @Shazam to discover Wellerman (Sea Shanty / 220 KID x Billen Ted Remix) '\n",
      " 'by Nathan Evans, 220 KID & Billen '\n",
      " 'Ted.\",\"html\":\"https://www.shazam.com/snippets/email-share/553806511?lang=en&country=GB\",\"avatar\":\"https://is2-ssl.mzstatic.com/image/thumb/Features114/v4/e8/5b/23/e85b2365-cbe4-72fb-1d5f-fb615b270acf/pr_source.png/800x800cc.jpg\",\"snapchat\":\"https://www.shazam.com/partner/sc/track/553806511\"},\"hub\":{\"type\":\"APPLEMUSIC\",\"image\":\"https://images.shazam.com/static/icons/hub/web/v5/applemusic.png\",\"actions\":[{\"name\":\"apple\",\"type\":\"applemusicplay\",\"id\":\"1550182803\"},{\"name\":\"apple\",\"type\":\"uri\",\"uri\":\"https://audio-ssl.itunes.apple.com/itunes-assets/AudioPreview125/v4/35/6a/eb/356aeb64-e401-a7d1-cd6b-8d28a154d890/mzaf_605891459292253043.plus.aac.p.m4a\"}],\"options\":[{\"caption\":\"OPEN\",\"actions\":[{\"name\":\"hub:applemusic:deeplink\",\"type\":\"applemusicopen\",\"uri\":\"https://music.apple.com/gb/album/wellerman-sea-shanty-220-kid-x-billen-ted-remix/1550182794?i=1550182803&mttnagencyid=769459046716559743&mttnsiteid=125115&mttn3pid=a_custom_779816081798873874&mttnsub1=Shazam_web&mttnsub2=5348615A-616D-3235-3830-44754D6D5973&itscg=30201&app=music&itsct=Shazam_web\"},{\"name\":\"hub:applemusic:deeplink\",\"type\":\"uri\",\"uri\":\"https://music.apple.com/gb/album/wellerman-sea-shanty-220-kid-x-billen-ted-remix/1550182794?i=1550182803&mttnagencyid=769459046716559743&mttnsiteid=125115&mttn3pid=a_custom_779816081798873874&mttnsub1=Shazam_web&mttnsub2=5348615A-616D-3235-3830-44754D6D5973&itscg=30201&app=music&itsct=Shazam_web\"}],\"beacondata\":{\"type\":\"open\",\"providername\":\"applemusic\"},\"image\":\"https://images.shazam.com/static/icons/hub/web/v5/overflow-open-option.png\",\"type\":\"open\",\"listcaption\":\"Open '\n",
      " 'in Apple '\n",
      " 'Music\",\"overflowimage\":\"https://images.shazam.com/static/icons/hub/web/v5/applemusic-overflow.png\",\"colouroverflowimage\":false,\"providername\":\"applemusic\"}],\"explicit\":false,\"displayname\":\"APPLE '\n",
      " 'MUSIC\"},\"artists\":[{\"follow\":{\"followkey\":\"A_43328183\"},\"alias\":\"nathan-evans\",\"id\":\"43328183\"},{\"follow\":{\"followkey\":\"A_205339258\"},\"alias\":\"220-kid\",\"id\":\"205339258\"},{\"follow\":{\"followkey\":\"A_205867202\"},\"alias\":\"billen-ted\",\"id\":\"205867202\"}]},{\"id\":\"5357188\",\"type\":\"MUSIC\",\"layout\":\"5\",\"title\":\"Rasputin\",\"url\":\"https://www.shazam.com/track/5357188/rasputin\",\"apple_music_url\":\"https://music.apple.com/gb/album/rasputin/824754182\",\"subtitle\":\"Boney '\n",
      " 'M.\",\"images\":{\"background\":\"https://is5-ssl.mzstatic.com/image/thumb/Features125/v4/dd/18/a5/dd18a550-3b61-a829-6b34-ba39418a6c5e/mzl.jcjzgacj.jpg/800x800cc.jpg\",\"coverart\":\"https://is1-ssl.mzstatic.com/image/thumb/Music4/v4/d7/37/aa/d737aa65-9e79-1cdc-5db1-21d8dceab410/886443391567.jpg/400x400cc.jpg\",\"coverarthq\":\"https://is1-ssl.mzstatic.com/image/thumb/Music4/v4/d7/37/aa/d737aa65-9e79-1cdc-5db1-21d8dceab410/886443391567.jpg/400x400cc.jpg\",\"joecolor\":\"b:3d5878p:feffffs:d3d6ebt:d7dde3q:b5bdd4\"},\"share\":{\"subject\":\"Rasputin '\n",
      " '- Boney M.\",\"text\":\"I used Shazam to discover Rasputin by Boney '\n",
      " 'M..\",\"href\":\"https://www.shazam.com/track/5357188/rasputin\",\"image\":\"https://is1-ssl.mzstatic.com/image/thumb/Music4/v4/d7/37/aa/d737aa65-9e79-1cdc-5db1-21d8dceab410/886443391567.jpg/400x400cc.jpg\",\"twitter\":\"I '\n",
      " 'used @Shazam to discover Rasputin by Boney '\n",
      " 'M..\",\"html\":\"https://www.shazam.com/snippets/email-share/5357188?lang=en&country=GB\",\"avatar\":\"https://is5-ssl.mzstatic.com/image/thumb/Features125/v4/dd/18/a5/dd18a550-3b61-a829-6b34-ba39418a6c5e/mzl.jcjzgacj.jpg/800x800cc.jpg\",\"snapchat\":\"https://www.shazam.com/partner/sc/track/5357188\"},\"hub\":{\"type\":\"APPLEMUSIC\",\"image\":\"https://images.shazam.com/static/icons/hub/web/v5/applemusic.png\",\"actions\":[{\"name\":\"apple\",\"type\":\"applemusicplay\",\"id\":\"824754194\"},{\"name\":\"apple\",\"type\":\"uri\",\"uri\":\"https://audio-ssl.itunes.apple.com/itunes-assets/AudioPreview125/v4/86/1b/e2/861be27a-5539-eace-dac7-ef650c7c0836/mzaf_5780220748595490881.plus.aac.p.m4a\"}],\"options\":[{\"caption\":\"OPEN\",\"actions\":[{\"name\":\"hub:applemusic:deeplink\",\"type\":\"applemusicopen\",\"uri\":\"https://music.apple.com/gb/album/rasputin/824754182?i=824754194&mttnagencyid=769459046716559743&mttnsiteid=125115&mttn3pid=a_custom_779816081798873874&mttnsub1=Shazam_web&mttnsub2=5348615A-616D-3235-3830-44754D6D5973&itscg=30201&app=music&itsct=Shazam_web\"},{\"name\":\"hub:applemusic:deeplink\",\"type\":\"uri\",\"uri\":\"https://music.apple.com/gb/album/rasputin/824754182?i=824754194&mttnagencyid=769459046716559743&mttnsiteid=125115&mttn3pid=a_custom_779816081798873874&mttnsub1=Shazam_web&mttnsub2=5348615A-616D-3235-3830-44754D6D5973&itscg=30201&app=music&itsct=Shazam_web\"}],\"beacondata\":{\"type\":\"open\",\"providername\":\"applemusic\"},\"image\":\"https://images.shazam.com/static/icons/hub/web/v5/overflow-open-option.png\",\"type\":\"open\",\"listcaption\":\"Open '\n",
      " 'in Apple '\n",
      " 'Music\",\"overflowimage\":\"https://images.shazam.com/static/icons/hub/web/v5/applemusic-overflow.png\",\"colouroverflowimage\":false,\"providername\":\"applemusic\"}],\"explicit\":false,\"displayname\":\"APPLE '\n",
      " 'MUSIC\"},\"artists\":[{\"follow\":{\"followkey\":\"A_368816\"},\"alias\":\"boney-m\",\"id\":\"368816\"}]},{\"id\":\"469691769\",\"type\":\"MUSIC\",\"layout\":\"5\",\"title\":\"Iko '\n",
      " 'Iko\",\"url\":\"https://www.shazam.com/track/469691769/iko-iko\",\"apple_music_url\":\"https://music.apple.com/gb/album/iko-iko-my-bestie-feat-small-jam/1561810747\",\"subtitle\":\"Justin '\n",
      " 'Wellington Feat. Small '\n",
      " 'Jam\",\"images\":{\"background\":\"https://is4-ssl.mzstatic.com/image/thumb/Features115/v4/13/89/bc/1389bc72-d76a-75c8-e14a-7ceeb07e8ba2/pr_source.png/800x800cc.jpg\",\"coverart\":\"https://is2-ssl.mzstatic.com/image/thumb/Music115/v4/49/47/12/49471204-6605-e350-d4fb-9803f9105c57/886449208111.jpg/400x400cc.jpg\",\"coverarthq\":\"https://is2-ssl.mzstatic.com/image/thumb/Music115/v4/49/47/12/49471204-6605-e350-d4fb-9803f9105c57/886449208111.jpg/400x400cc.jpg\",\"joecolor\":\"b:85d2cap:000000s:061f3bt:1a2a28q:1f4258\"},\"share\":{\"subject\":\"Iko '\n",
      " 'Iko - Justin Wellington Feat. Small Jam\",\"text\":\"I used Shazam to discover '\n",
      " 'Iko Iko by Justin Wellington Feat. Small '\n",
      " 'Jam.\",\"href\":\"https://www.shazam.com/track/469691769/iko-iko\",\"image\":\"https://is2-ssl.mzstatic.com/image/thumb/Music115/v4/49/47/12/49471204-6605-e350-d4fb-9803f9105c57/886449208111.jpg/400x400cc.jpg\",\"twitter\":\"I '\n",
      " 'used @Shazam to discover Iko Iko by Justin Wellington Feat. Small '\n",
      " 'Jam.\",\"html\":\"https://www.shazam.com/snippets/email-share/469691769?lang=en&country=GB\",\"avatar\":\"https://is4-ssl.mzstatic.com/image/thumb/Features115/v4/13/89/bc/1389bc72-d76a-75c8-e14a-7ceeb07e8ba2/pr_source.png/800x800cc.jpg\",\"snapchat\":\"https://www.shazam.com/partner/sc/track/469691769\"},\"hub\":{\"type\":\"APPLEMUSIC\",\"image\":\"https://images.shazam.com/static/icons/hub/web/v5/applemusic.png\",\"actions\":[{\"name\":\"apple\",\"type\":\"applemusicplay\",\"id\":\"1561810771\"},{\"name\":\"apple\",\"type\":\"uri\",\"uri\":\"https://audio-ssl.itunes.apple.com/itunes-assets/AudioPreview125/v4/73/b5/4c/73b54c3e-c55c-2a59-76fe-6eabfef6bc96/mzaf_17308683940728824134.plus.aac.ep.m4a\"}],\"options\":[{\"caption\":\"OPEN\",\"actions\":[{\"name\":\"hub:applemusic:deeplink\",\"type\":\"applemusicopen\",\"uri\":\"https://music.apple.com/gb/album/iko-iko-my-bestie-feat-small-jam/1561810747?i=1561810771&mttnagencyid=769459046716559743&mttnsiteid=125115&mttn3pid=a_custom_779816081798873874&mttnsub1=Shazam_web&mttnsub2=5348615A-616D-3235-3830-44754D6D5973&itscg=30201&app=music&itsct=Shazam_web\"},{\"name\":\"hub:applemusic:deeplink\",\"type\":\"uri\",\"uri\":\"https://music.apple.com/gb/album/iko-iko-my-bestie-feat-small-jam/1561810747?i=1561810771&mttnagencyid=769459046716559743&mttnsiteid=125115&mttn3pid=a_custom_779816081798873874&mttnsub1=Shazam_web&mttnsub2=5348615A-616D-3235-3830-44754D6D5973&itscg=30201&app=music&itsct=Shazam_web\"}],\"beacondata\":{\"type\":\"open\",\"providername\":\"applemusic\"},\"image\":\"https://images.shazam.com/static/icons/hub/web/v5/overflow-open-option.png\",\"type\":\"open\",\"listcaption\":\"Open '\n",
      " 'in Apple '\n",
      " 'Music\",\"overflowimage\":\"https://images.shazam.com/static/icons/hub/web/v5/applemusic-overflow.png\",\"colouroverflowimage\":false,\"providername\":\"applemusic\"}],\"explicit\":false,\"displayname\":\"APPLE '\n",
      " 'MUSIC\"},\"artists\":[{\"follow\":{\"followkey\":\"A_40977491\"},\"alias\":\"justin-wellington\",\"id\":\"40977491\"}]},{\"id\":\"544138736\",\"type\":\"MUSIC\",\"layout\":\"5\",\"title\":\"Love '\n",
      " 'Not War (The Tampa '\n",
      " 'Beat)\",\"url\":\"https://www.shazam.com/track/544138736/love-not-war-the-tampa-beat\",\"apple_music_url\":\"https://music.apple.com/gb/album/love-not-war-the-tampa-beat/1550646711\",\"subtitle\":\"Jason '\n",
      " 'Derulo & '\n",
      " 'Nuka\",\"images\":{\"background\":\"https://is1-ssl.mzstatic.com/image/thumb/Features125/v4/ae/1c/eb/ae1cebfd-b285-26bf-431a-37e5dc8db9cb/mzl.ecbegmjj.jpg/800x800cc.jpg\",\"coverart\":\"https://is5-ssl.mzstatic.com/image/thumb/Music124/v4/b2/cd/77/b2cd7796-5028-38e5-a86c-26fb604bc02f/886449019632.jpg/400x400cc.jpg\",\"coverarthq\":\"https://is5-ssl.mzstatic.com/image/thumb/Music124/v4/b2/cd/77/b2cd7796-5028-38e5-a86c-26fb604bc02f/886449019632.jpg/400x400cc.jpg\",\"joecolor\":\"b:82208ep:f5d50bs:00eed6t:deb125q:1ac5c8\"},\"share\":{\"subject\":\"Love '\n",
      " 'Not War (The Tampa Beat) - Jason Derulo & Nuka\",\"text\":\"I used Shazam to '\n",
      " 'discover Love Not War (The Tampa Beat) by Jason Derulo & '\n",
      " 'Nuka.\",\"href\":\"https://www.shazam.com/track/544138736/love-not-war-the-tampa-beat\",\"image\":\"https://is5-ssl.mzstatic.com/image/thumb/Music124/v4/b2/cd/77/b2cd7796-5028-38e5-a86c-26fb604bc02f/886449019632.jpg/400x400cc.jpg\",\"twitter\":\"I '\n",
      " 'used @Shazam to discover Love Not War (The Tampa Beat) by Jason Derulo & '\n",
      " 'Nuka.\",\"html\":\"https://www.shazam.com/snippets/email-share/544138736?lang=en&country=GB\",\"avatar\":\"https://is1-ssl.mzstatic.com/image/thumb/Features125/v4/ae/1c/eb/ae1cebfd-b285-26bf-431a-37e5dc8db9cb/mzl.ecbegmjj.jpg/800x800cc.jpg\",\"snapchat\":\"https://www.shazam.com/partner/sc/track/544138736\"},\"hub\":{\"type\":\"APPLEMUSIC\",\"image\":\"https://images.shazam.com/static/icons/hub/web/v5/applemusic.png\",\"actions\":[{\"name\":\"apple\",\"type\":\"applemusicplay\",\"id\":\"1550646712\"},{\"name\":\"apple\",\"type\":\"uri\",\"uri\":\"https://audio-ssl.itunes.apple.com/itunes-assets/AudioPreview115/v4/0a/6a/9c/0a6a9ccd-fcee-e767-c369-977518db58a7/mzaf_8794691346266362662.plus.aac.ep.m4a\"}],\"options\":[{\"caption\":\"OPEN\",\"actions\":[{\"name\":\"hub:applemusic:deeplink\",\"type\":\"applemusicopen\",\"uri\":\"https://music.apple.com/gb/album/love-not-war-the-tampa-beat/1550646711?i=1550646712&mttnagencyid=769459046716559743&mttnsiteid=125115&mttn3pid=a_custom_779816081798873874&mttnsub1=Shazam_web&mttnsub2=5348615A-616D-3235-3830-44754D6D5973&itscg=30201&app=music&itsct=Shazam_web\"},{\"name\":\"hub:applemusic:deeplink\",\"type\":\"uri\",\"uri\":\"https://music.apple.com/gb/album/love-not-war-the-tampa-beat/1550646711?i=1550646712&mttnagencyid=769459046716559743&mttnsiteid=125115&mttn3pid=a_custom_779816081798873874&mttnsub1=Shazam_web&mttnsub2=5348615A-616D-3235-3830-44754D6D5973&itscg=30201&app=music&itsct=Shazam_web\"}],\"beacondata\":{\"type\":\"open\",\"providername\":\"applemusic\"},\"image\":\"https://images.shazam.com/static/icons/hub/web/v5/overflow-open-option.png\",\"type\":\"open\",\"listcaption\":\"Open '\n",
      " 'in Apple '\n",
      " 'Music\",\"overflowimage\":\"https://images.shazam.com/static/icons/hub/web/v5/applemusic-overflow.png\",\"colouroverflowimage\":false,\"providername\":\"applemusic\"}],\"explicit\":false,\"displayname\":\"APPLE '\n",
      " 'MUSIC\"},\"artists\":[{\"follow\":{\"followkey\":\"A_40235875\"},\"alias\":\"jason-derulo\",\"id\":\"40235875\"}]},{\"id\":\"550773220\",\"type\":\"MUSIC\",\"layout\":\"5\",\"title\":\"Girls '\n",
      " 'Like '\n",
      " 'Us\",\"url\":\"https://www.shazam.com/track/550773220/girls-like-us\",\"apple_music_url\":\"https://music.apple.com/gb/album/girls-like-us/1561820793\",\"subtitle\":\"Zoe '\n",
      " 'Wees\",\"images\":{\"background\":\"https://is5-ssl.mzstatic.com/image/thumb/Features115/v4/48/fa/b1/48fab1a5-5231-2cc0-5730-e501f6188c93/pr_source.png/800x800cc.jpg\",\"coverart\":\"https://is2-ssl.mzstatic.com/image/thumb/Music115/v4/b0/e0/09/b0e00918-32b0-ba4c-b568-8b07b085d650/21UMGIM26548.rgb.jpg/400x400cc.jpg\",\"coverarthq\":\"https://is2-ssl.mzstatic.com/image/thumb/Music115/v4/b0/e0/09/b0e00918-32b0-ba4c-b568-8b07b085d650/21UMGIM26548.rgb.jpg/400x400cc.jpg\",\"joecolor\":\"b:000000p:e8b066s:e09a38t:b98d51q:b37b2d\"},\"share\":{\"subject\":\"Girls '\n",
      " 'Like Us - Zoe Wees\",\"text\":\"I used Shazam to discover Girls Like Us by Zoe '\n",
      " 'Wees.\",\"href\":\"https://www.shazam.com/track/550773220/girls-like-us\",\"image\":\"https://is2-ssl.mzstatic.com/image/thumb/Music115/v4/b0/e0/09/b0e00918-32b0-ba4c-b568-8b07b085d650/21UMGIM26548.rgb.jpg/400x400cc.jpg\",\"twitter\":\"I '\n",
      " 'used @Shazam to discover Girls Like Us by Zoe '\n",
      " 'Wees.\",\"html\":\"https://www.shazam.com/snippets/email-share/550773220?lang=en&country=GB\",\"avatar\":\"https://is5-ssl.mzstatic.com/image/thumb/Features115/v4/48/fa/b1/48fab1a5-5231-2cc0-5730-e501f6188c93/pr_source.png/800x800cc.jpg\",\"snapchat\":\"https://www.shazam.com/partner/sc/track/550773220\"},\"hub\":{\"type\":\"APPLEMUSIC\",\"image\":\"https://images.shazam.com/static/icons/hub/web/v5/applemusic.png\",\"actions\":[{\"name\":\"apple\",\"type\":\"applemusicplay\",\"id\":\"1561821449\"},{\"name\":\"apple\",\"type\":\"uri\",\"uri\":\"https://audio-ssl.itunes.apple.com/itunes-assets/AudioPreview115/v4/a0/a9/05/a0a9057d-71d7-0bf0-bca5-32e32e914b00/mzaf_147214424722311505.plus.aac.ep.m4a\"}],\"options\":[{\"caption\":\"OPEN\",\"actions\":[{\"name\":\"hub:applemusic:deeplink\",\"type\":\"applemusicopen\",\"uri\":\"https://music.apple.com/gb/album/girls-like-us/1561820793?i=1561821449&mttnagencyid=769459046716559743&mttnsiteid=125115&mttn3pid=a_custom_779816081798873874&mttnsub1=Shazam_web&mttnsub2=5348615A-616D-3235-3830-44754D6D5973&itscg=30201&app=music&itsct=Shazam_web\"},{\"name\":\"hub:applemusic:deeplink\",\"type\":\"uri\",\"uri\":\"https://music.apple.com/gb/album/girls-like-us/1561820793?i=1561821449&mttnagencyid=769459046716559743&mttnsiteid=125115&mttn3pid=a_custom_779816081798873874&mttnsub1=Shazam_web&mttnsub2=5348615A-616D-3235-3830-44754D6D5973&itscg=30201&app=music&itsct=Shazam_web\"}],\"beacondata\":{\"type\":\"open\",\"providername\":\"applemusic\"},\"image\":\"https://images.shazam.com/static/icons/hub/web/v5/overflow-open-option.png\",\"type\":\"open\",\"listcaption\":\"Open '\n",
      " 'in Apple '\n",
      " 'Music\",\"overflowimage\":\"https://images.shazam.com/static/icons/hub/web/v5/applemusic-overflow.png\",\"colouroverflowimage\":false,\"providername\":\"applemusic\"}],\"explicit\":false,\"displayname\":\"APPLE '\n",
      " 'MUSIC\"},\"artists\":[{\"follow\":{\"followkey\":\"A_207828275\"},\"alias\":\"zoe-wees\",\"id\":\"207828275\"}]},{\"id\":\"543181432\",\"type\":\"MUSIC\",\"layout\":\"5\",\"title\":\"WITHOUT '\n",
      " 'YOU\",\"url\":\"https://www.shazam.com/track/543181432/without-you\",\"apple_music_url\":\"https://music.apple.com/gb/album/without-you/1579787407\",\"subtitle\":\"The '\n",
      " 'Kid '\n",
      " 'LAROI\",\"images\":{\"background\":\"https://is2-ssl.mzstatic.com/image/thumb/Music125/v4/9d/a2/86/9da28624-7272-8127-5968-e158b838da13/pr_source.png/800x800cc.jpg\",\"coverart\":\"https://is4-ssl.mzstatic.com/image/thumb/Music115/v4/a8/3a/22/a83a22f7-af18-7ef6-a7de-74816c532a44/886449475421.jpg/400x400cc.jpg\",\"coverarthq\":\"https://is4-ssl.mzstatic.com/image/thumb/Music115/v4/a8/3a/22/a83a22f7-af18-7ef6-a7de-74816c532a44/886449475421.jpg/400x400cc.jpg\",\"joecolor\":\"b:a1a3b0p:060309s:14121dt:25232aq:302f3a\"},\"share\":{\"subject\":\"WITHOUT '\n",
      " 'YOU - The Kid LAROI\",\"text\":\"I used Shazam to discover WITHOUT YOU by The '\n",
      " 'Kid '\n",
      " 'LAROI.\",\"href\":\"https://www.shazam.com/track/543181432/without-you\",\"image\":\"https://is4-ssl.mzstatic.com/image/thumb/Music115/v4/a8/3a/22/a83a22f7-af18-7ef6-a7de-74816c532a44/886449475421.jpg/400x400cc.jpg\",\"twitter\":\"I '\n",
      " 'used @Shazam to discover WITHOUT YOU by The Kid '\n",
      " 'LAROI.\",\"html\":\"https://www.shazam.com/snippets/email-share/543181432?lang=en&country=GB\",\"avatar\":\"https://is2-ssl.mzstatic.com/image/thumb/Music125/v4/9d/a2/86/9da28624-7272-8127-5968-e158b838da13/pr_source.png/800x800cc.jpg\",\"snapchat\":\"https://www.shazam.com/partner/sc/track/543181432\"},\"hub\":{\"type\":\"APPLEMUSIC\",\"image\":\"https://images.shazam.com/static/icons/hub/web/v5/applemusic.png\",\"actions\":[{\"name\":\"apple\",\"type\":\"applemusicplay\",\"id\":\"1579787427\"},{\"name\":\"apple\",\"type\":\"uri\",\"uri\":\"https://audio-ssl.itunes.apple.com/itunes-assets/AudioPreview115/v4/ef/fc/15/effc15ae-0a80-2b4e-d1ce-b9cef040fc57/mzaf_10324420997633119571.plus.aac.ep.m4a\"}],\"options\":[{\"caption\":\"OPEN\",\"actions\":[{\"name\":\"hub:applemusic:deeplink\",\"type\":\"applemusicopen\",\"uri\":\"https://music.apple.com/gb/album/without-you/1579787407?i=1579787427&mttnagencyid=769459046716559743&mttnsiteid=125115&mttn3pid=a_custom_779816081798873874&mttnsub1=Shazam_web&mttnsub2=5348615A-616D-3235-3830-44754D6D5973&itscg=30201&app=music&itsct=Shazam_web\"},{\"name\":\"hub:applemusic:deeplink\",\"type\":\"uri\",\"uri\":\"https://music.apple.com/gb/album/without-you/1579787407?i=1579787427&mttnagencyid=769459046716559743&mttnsiteid=125115&mttn3pid=a_custom_779816081798873874&mttnsub1=Shazam_web&mttnsub2=5348615A-616D-3235-3830-44754D6D5973&itscg=30201&app=music&itsct=Shazam_web\"}],\"beacondata\":{\"type\":\"open\",\"providername\":\"applemusic\"},\"image\":\"https://images.shazam.com/static/icons/hub/web/v5/overflow-open-option.png\",\"type\":\"open\",\"listcaption\":\"Open '\n",
      " 'in Apple '\n",
      " 'Music\",\"overflowimage\":\"https://images.shazam.com/static/icons/hub/web/v5/applemusic-overflow.png\",\"colouroverflowimage\":false,\"providername\":\"applemusic\"}],\"explicit\":false,\"displayname\":\"APPLE '\n",
      " 'MUSIC\"},\"artists\":[{\"follow\":{\"followkey\":\"A_205204904\"},\"alias\":\"the-kid-laroi\",\"id\":\"205204904\"}]},{\"id\":\"110985127\",\"type\":\"MUSIC\",\"layout\":\"5\",\"title\":\"Going '\n",
      " 'Down To The '\n",
      " 'River\",\"url\":\"https://www.shazam.com/track/110985127/going-down-to-the-river\",\"apple_music_url\":\"https://music.apple.com/subscribe\",\"subtitle\":\"Jill '\n",
      " 'Johnson & Doug Seegers Feat. Magnus '\n",
      " 'Carlson\",\"images\":{\"background\":\"https://is5-ssl.mzstatic.com/image/thumb/Features115/v4/ec/94/f4/ec94f447-caad-696e-15b0-6223aee25698/pr_source.png/800x800cc.jpg\"},\"share\":{\"subject\":\"Going '\n",
      " 'Down To The River - Jill Johnson & Doug Seegers Feat. Magnus '\n",
      " 'Carlson\",\"text\":\"I used Shazam to discover Going Down To The River by Jill '\n",
      " 'Johnson & Doug Seegers Feat. Magnus '\n",
      " 'Carlson.\",\"href\":\"https://www.shazam.com/track/110985127/going-down-to-the-river\",\"twitter\":\"I '\n",
      " 'used @Shazam to discover Going Down To The River by Jill Johnson & Doug '\n",
      " 'Seegers Feat. Magnus '\n",
      " 'Carlson.\",\"html\":\"https://www.shazam.com/snippets/email-share/110985127?lang=en&country=GB\",\"avatar\":\"https://is5-ssl.mzstatic.com/image/thumb/Features115/v4/ec/94/f4/ec94f447-caad-696e-15b0-6223aee25698/pr_source.png/800x800cc.jpg\",\"snapchat\":\"https://www.shazam.com/partner/sc/track/110985127\"},\"hub\":{\"type\":\"APPLEMUSIC\",\"image\":\"https://images.shazam.com/static/icons/hub/web/v5/applemusic.png\",\"options\":[{\"caption\":\"OPEN\",\"actions\":[{\"name\":\"hub:applemusic:subscribe\",\"type\":\"applemusicopen\",\"uri\":\"https://music.apple.com/subscribe?mttnagencyid=769459046716559743&mttnsiteid=125115&mttn3pid=a_custom_779816081798873874&mttnsub1=Shazam_web&mttnsub2=5348615A-616D-3235-3830-44754D6D5973&itscg=30201&app=music&itsct=Shazam_web\"},{\"name\":\"hub:applemusic:subscribe\",\"type\":\"uri\",\"uri\":\"https://music.apple.com/subscribe?mttnagencyid=769459046716559743&mttnsiteid=125115&mttn3pid=a_custom_779816081798873874&mttnsub1=Shazam_web&mttnsub2=5348615A-616D-3235-3830-44754D6D5973&itscg=30201&app=music&itsct=Shazam_web\"}],\"beacondata\":{\"type\":\"open\",\"providername\":\"applemusic\"},\"image\":\"https://images.shazam.com/static/icons/hub/web/v5/overflow-open-option.png\",\"type\":\"open\",\"listcaption\":\"Open '\n",
      " 'in Apple '\n",
      " 'Music\",\"overflowimage\":\"https://images.shazam.com/static/icons/hub/web/v5/applemusic-overflow.png\",\"colouroverflowimage\":false,\"providername\":\"applemusic\"}],\"explicit\":false,\"displayname\":\"APPLE '\n",
      " 'MUSIC\"},\"artists\":[{\"follow\":{\"followkey\":\"A_40009559\"},\"alias\":\"jill-johnson\",\"id\":\"40009559\"}]},{\"id\":\"554059369\",\"type\":\"MUSIC\",\"layout\":\"5\",\"title\":\"Wellerman '\n",
      " '(Sea Shanty / Nathan Evans x '\n",
      " 'ARGULES)\",\"url\":\"https://www.shazam.com/track/554059369/wellerman-sea-shanty-nathan-evans-x-argules\",\"apple_music_url\":\"https://music.apple.com/gb/album/wellerman-sea-shanty-nathan-evans-x-argules/1554076559\",\"subtitle\":\"Nathan '\n",
      " 'Evans & '\n",
      " 'ARGULES\",\"images\":{\"background\":\"https://is2-ssl.mzstatic.com/image/thumb/Features114/v4/e8/5b/23/e85b2365-cbe4-72fb-1d5f-fb615b270acf/pr_source.png/800x800cc.jpg\",\"coverart\":\"https://is5-ssl.mzstatic.com/image/thumb/Music114/v4/68/70/bc/6870bc58-618b-a9d5-a44a-67c76aacd391/21UMGIM11361.rgb.jpg/400x400cc.jpg\",\"coverarthq\":\"https://is5-ssl.mzstatic.com/image/thumb/Music114/v4/68/70/bc/6870bc58-618b-a9d5-a44a-67c76aacd391/21UMGIM11361.rgb.jpg/400x400cc.jpg\",\"joecolor\":\"b:f6bf00p:000000s:231600t:312600q:4d3800\"},\"share\":{\"subject\":\"Wellerman '\n",
      " '(Sea Shanty / Nathan Evans x ARGULES) - Nathan Evans & ARGULES\",\"text\":\"I '\n",
      " 'used Shazam to discover Wellerman (Sea Shanty / Nathan Evans x ARGULES) by '\n",
      " 'Nathan Evans & '\n",
      " 'ARGULES.\",\"href\":\"https://www.shazam.com/track/554059369/wellerman-sea-shanty-nathan-evans-x-argules\",\"image\":\"https://is5-ssl.mzstatic.com/image/thumb/Music114/v4/68/70/bc/6870bc58-618b-a9d5-a44a-67c76aacd391/21UMGIM11361.rgb.jpg/400x400cc.jpg\",\"twitter\":\"I '\n",
      " 'used @Shazam to discover Wellerman (Sea Shanty / Nathan Evans x ARGULES) by '\n",
      " 'Nathan Evans & '\n",
      " 'ARGULES.\",\"html\":\"https://www.shazam.com/snippets/email-share/554059369?lang=en&country=GB\",\"avatar\":\"https://is2-ssl.mzstatic.com/image/thumb/Features114/v4/e8/5b/23/e85b2365-cbe4-72fb-1d5f-fb615b270acf/pr_source.png/800x800cc.jpg\",\"snapchat\":\"https://www.shazam.com/partner/sc/track/554059369\"},\"hub\":{\"type\":\"APPLEMUSIC\",\"image\":\"https://images.shazam.com/static/icons/hub/web/v5/applemusic.png\",\"actions\":[{\"name\":\"apple\",\"type\":\"applemusicplay\",\"id\":\"1554076561\"},{\"name\":\"apple\",\"type\":\"uri\",\"uri\":\"https://audio-ssl.itunes.apple.com/itunes-assets/AudioPreview115/v4/01/cc/9b/01cc9b5a-b6db-501e-2b21-c7a81be94c87/mzaf_988125814721053262.plus.aac.p.m4a\"}],\"options\":[{\"caption\":\"OPEN\",\"actions\":[{\"name\":\"hub:applemusic:deeplink\",\"type\":\"applemusicopen\",\"uri\":\"https://music.apple.com/gb/album/wellerman-sea-shanty-nathan-evans-x-argules/1554076559?i=1554076561&mttnagencyid=769459046716559743&mttnsiteid=125115&mttn3pid=a_custom_779816081798873874&mttnsub1=Shazam_web&mttnsub2=5348615A-616D-3235-3830-44754D6D5973&itscg=30201&app=music&itsct=Shazam_web\"},{\"name\":\"hub:applemusic:deeplink\",\"type\":\"uri\",\"uri\":\"https://music.apple.com/gb/album/wellerman-sea-shanty-nathan-evans-x-argules/1554076559?i=1554076561&mttnagencyid=769459046716559743&mttnsiteid=125115&mttn3pid=a_custom_779816081798873874&mttnsub1=Shazam_web&mttnsub2=5348615A-616D-3235-3830-44754D6D5973&itscg=30201&app=music&itsct=Shazam_web\"}],\"beacondata\":{\"type\":\"open\",\"providername\":\"applemusic\"},\"image\":\"https://images.shazam.com/static/icons/hub/web/v5/overflow-open-option.png\",\"type\":\"open\",\"listcaption\":\"Open '\n",
      " 'in Apple '\n",
      " 'Music\",\"overflowimage\":\"https://images.shazam.com/static/icons/hub/web/v5/applemusic-overflow.png\",\"colouroverflowimage\":false,\"providername\":\"applemusic\"}],\"explicit\":false,\"displayname\":\"APPLE '\n",
      " 'MUSIC\"},\"artists\":[{\"follow\":{\"followkey\":\"A_43328183\"},\"alias\":\"nathan-evans\",\"id\":\"43328183\"},{\"follow\":{\"followkey\":\"A_212137021\"},\"alias\":\"argules\",\"id\":\"212137021\"}]},{\"id\":\"547933149\",\"type\":\"MUSIC\",\"layout\":\"5\",\"title\":\"Faded '\n",
      " 'Love\",\"url\":\"https://www.shazam.com/track/547933149/faded-love\",\"apple_music_url\":\"https://music.apple.com/gb/album/faded-love/1550212068\",\"subtitle\":\"Leony\",\"images\":{\"background\":\"https://is4-ssl.mzstatic.com/image/thumb/Features124/v4/19/06/f8/1906f832-5c0b-3ef4-bdb0-0d68f04e2b71/pr_source.png/800x800cc.jpg\",\"coverart\":\"https://is2-ssl.mzstatic.com/image/thumb/Music124/v4/7b/46/42/7b464228-3b17-7a8d-b807-b0272bf1959a/21UMGIM04740.rgb.jpg/400x400cc.jpg\",\"coverarthq\":\"https://is2-ssl.mzstatic.com/image/thumb/Music124/v4/7b/46/42/7b464228-3b17-7a8d-b807-b0272bf1959a/21UMGIM04740.rgb.jpg/400x400cc.jpg\",\"joecolor\":\"b:f6f7f9p:150900s:292748t:423931q:52516c\"},\"share\":{\"subject\":\"Faded '\n",
      " 'Love - Leony\",\"text\":\"I used Shazam to discover Faded Love by '\n",
      " 'Leony.\",\"href\":\"https://www.shazam.com/track/547933149/faded-love\",\"image\":\"https://is2-ssl.mzstatic.com/image/thumb/Music124/v4/7b/46/42/7b464228-3b17-7a8d-b807-b0272bf1959a/21UMGIM04740.rgb.jpg/400x400cc.jpg\",\"twitter\":\"I '\n",
      " 'used @Shazam to discover Faded Love by '\n",
      " 'Leony.\",\"html\":\"https://www.shazam.com/snippets/email-share/547933149?lang=en&country=GB\",\"avatar\":\"https://is4-ssl.mzstatic.com/image/thumb/Features124/v4/19/06/f8/1906f832-5c0b-3ef4-bdb0-0d68f04e2b71/pr_source.png/800x800cc.jpg\",\"snapchat\":\"https://www.shazam.com/partner/sc/track/547933149\"},\"hub\":{\"type\":\"APPLEMUSIC\",\"image\":\"https://images.shazam.com/static/icons/hub/web/v5/applemusic.png\",\"actions\":[{\"name\":\"apple\",\"type\":\"applemusicplay\",\"id\":\"1550212069\"},{\"name\":\"apple\",\"type\":\"uri\",\"uri\":\"https://audio-ssl.itunes.apple.com/itunes-assets/AudioPreview115/v4/22/a8/0e/22a80e45-d204-8f1a-b25d-5355cfd0021d/mzaf_222301318959523210.plus.aac.p.m4a\"}],\"options\":[{\"caption\":\"OPEN\",\"actions\":[{\"name\":\"hub:applemusic:deeplink\",\"type\":\"applemusicopen\",\"uri\":\"https://music.apple.com/gb/album/faded-love/1550212068?i=1550212069&mttnagencyid=769459046716559743&mttnsiteid=125115&mttn3pid=a_custom_779816081798873874&mttnsub1=Shazam_web&mttnsub2=5348615A-616D-3235-3830-44754D6D5973&itscg=30201&app=music&itsct=Shazam_web\"},{\"name\":\"hub:applemusic:deeplink\",\"type\":\"uri\",\"uri\":\"https://music.apple.com/gb/album/faded-love/1550212068?i=1550212069&mttnagencyid=769459046716559743&mttnsiteid=125115&mttn3pid=a_custom_779816081798873874&mttnsub1=Shazam_web&mttnsub2=5348615A-616D-3235-3830-44754D6D5973&itscg=30201&app=music&itsct=Shazam_web\"}],\"beacondata\":{\"type\":\"open\",\"providername\":\"applemusic\"},\"image\":\"https://images.shazam.com/static/icons/hub/web/v5/overflow-open-option.png\",\"type\":\"open\",\"listcaption\":\"Open '\n",
      " 'in Apple '\n",
      " 'Music\",\"overflowimage\":\"https://images.shazam.com/static/icons/hub/web/v5/applemusic-overflow.png\",\"colouroverflowimage\":false,\"providername\":\"applemusic\"}],\"explicit\":false,\"displayname\":\"APPLE '\n",
      " 'MUSIC\"},\"artists\":[{\"follow\":{\"followkey\":\"A_204688215\"},\"alias\":\"leony\",\"id\":\"204688215\"}]},{\"id\":\"560227366\",\"type\":\"MUSIC\",\"layout\":\"5\",\"title\":\"I '\n",
      " 'WANNA BE YOUR '\n",
      " 'SLAVE\",\"url\":\"https://www.shazam.com/track/560227366/i-wanna-be-your-slave\",\"apple_music_url\":\"https://music.apple.com/gb/album/i-wanna-be-your-slave/1556035498\",\"subtitle\":\"Måneskin\",\"images\":{\"background\":\"https://is4-ssl.mzstatic.com/image/thumb/Features115/v4/e1/28/a9/e128a93d-b8d5-3f84-30b5-1542d8667fb0/pr_source.png/800x800cc.jpg\",\"coverart\":\"https://is4-ssl.mzstatic.com/image/thumb/Music115/v4/4b/1a/72/4b1a7220-bee2-8664-7153-adffa8d3df1e/886449063819.jpg/400x400cc.jpg\",\"coverarthq\":\"https://is4-ssl.mzstatic.com/image/thumb/Music115/v4/4b/1a/72/4b1a7220-bee2-8664-7153-adffa8d3df1e/886449063819.jpg/400x400cc.jpg\",\"joecolor\":\"b:301200p:f5eee5s:e2d2cet:cec2b8q:beaba5\"},\"share\":{\"subject\":\"I '\n",
      " 'WANNA BE YOUR SLAVE - Måneskin\",\"text\":\"I used Shazam to discover I WANNA BE '\n",
      " 'YOUR SLAVE by '\n",
      " 'Måneskin.\",\"href\":\"https://www.shazam.com/track/560227366/i-wanna-be-your-slave\",\"image\":\"https://is4-ssl.mzstatic.com/image/thumb/Music115/v4/4b/1a/72/4b1a7220-bee2-8664-7153-adffa8d3df1e/886449063819.jpg/400x400cc.jpg\",\"twitter\":\"I '\n",
      " 'used @Shazam to discover I WANNA BE YOUR SLAVE by '\n",
      " 'Måneskin.\",\"html\":\"https://www.shazam.com/snippets/email-share/560227366?lang=en&country=GB\",\"avatar\":\"https://is4-ssl.mzstatic.com/image/thumb/Features115/v4/e1/28/a9/e128a93d-b8d5-3f84-30b5-1542d8667fb0/pr_source.png/800x800cc.jpg\",\"snapchat\":\"https://www.shazam.com/partner/sc/track/560227366\"},\"hub\":{\"type\":\"APPLEMUSIC\",\"image\":\"https://images.shazam.com/static/icons/hub/web/v5/applemusic.png\",\"actions\":[{\"name\":\"apple\",\"type\":\"applemusicplay\",\"id\":\"1556035502\"},{\"name\":\"apple\",\"type\":\"uri\",\"uri\":\"https://audio-ssl.itunes.apple.com/itunes-assets/AudioPreview115/v4/1a/20/15/1a201513-60da-c2b7-62b4-072a8a82aa0a/mzaf_5260487743854375241.plus.aac.ep.m4a\"}],\"options\":[{\"caption\":\"OPEN\",\"actions\":[{\"name\":\"hub:applemusic:deeplink\",\"type\":\"applemusicopen\",\"uri\":\"https://music.apple.com/gb/album/i-wanna-be-your-slave/1556035498?i=1556035502&mttnagencyid=769459046716559743&mttnsiteid=125115&mttn3pid=a_custom_779816081798873874&mttnsub1=Shazam_web&mttnsub2=5348615A-616D-3235-3830-44754D6D5973&itscg=30201&app=music&itsct=Shazam_web\"},{\"name\":\"hub:applemusic:deeplink\",\"type\":\"uri\",\"uri\":\"https://music.apple.com/gb/album/i-wanna-be-your-slave/1556035498?i=1556035502&mttnagencyid=769459046716559743&mttnsiteid=125115&mttn3pid=a_custom_779816081798873874&mttnsub1=Shazam_web&mttnsub2=5348615A-616D-3235-3830-44754D6D5973&itscg=30201&app=music&itsct=Shazam_web\"}],\"beacondata\":{\"type\":\"open\",\"providername\":\"applemusic\"},\"image\":\"https://images.shazam.com/static/icons/hub/web/v5/overflow-open-option.png\",\"type\":\"open\",\"listcaption\":\"Open '\n",
      " 'in Apple '\n",
      " 'Music\",\"overflowimage\":\"https://images.shazam.com/static/icons/hub/web/v5/applemusic-overflow.png\",\"colouroverflowimage\":false,\"providername\":\"applemusic\"}],\"explicit\":true,\"displayname\":\"APPLE '\n",
      " 'MUSIC\"},\"artists\":[{\"follow\":{\"followkey\":\"A_204753361\"},\"alias\":\"måneskin\",\"id\":\"204753361\"}]}]')\n"
     ]
    }
   ],
   "source": [
    "import http.client\n",
    "from pprint import pprint\n",
    "\n",
    "conn = http.client.HTTPSConnection(\"shazam-core.p.rapidapi.com\")\n",
    "\n",
    "headers = {\n",
    "    'x-rapidapi-host': \"shazam-core.p.rapidapi.com\",\n",
    "    'x-rapidapi-key': \"1dc9e6236dmshdfe058f825b062cp17212ejsnc424e02746a5\"\n",
    "    }\n",
    "\n",
    "conn.request(\"GET\", \"/v1/tracks/related?track_id=554591360&limit=10\", headers=headers)\n",
    "\n",
    "res = conn.getresponse()\n",
    "data = res.read()\n",
    "\n",
    "pprint(data.decode(\"utf-8\"))"
   ]
  },
  {
   "cell_type": "code",
   "execution_count": 11,
   "metadata": {
    "scrolled": true
   },
   "outputs": [
    {
     "name": "stdout",
     "output_type": "stream",
     "text": [
      "('[{\"id\":\"51249553\",\"heading\":{\"title\":\"Beggin\\' You (Armin Van Buuren '\n",
      " 'Remix)\",\"subtitle\":\"Cerf & Mitiska & '\n",
      " 'Jaren\"},\"images\":{\"default\":\"https://is3-ssl.mzstatic.com/image/thumb/Music/90/d4/76/mzi.pwcfvkwx.jpg/400x400cc.jpg\",\"blurred\":\"https://is3-ssl.mzstatic.com/image/thumb/Music/90/d4/76/mzi.pwcfvkwx.jpg/400x400cc.jpg\",\"play\":\"https://is3-ssl.mzstatic.com/image/thumb/Music/90/d4/76/mzi.pwcfvkwx.jpg/400x400cc.jpg\"},\"stores\":{\"apple\":{\"actions\":[{\"type\":\"uri\",\"uri\":\"https://music.apple.com/gb/album/beggin-you-armin-van-buuren-remix/338869209?i=338869361&app=music&itsct=Shazam_1\"}],\"explicit\":false,\"previewurl\":\"https://audio-ssl.itunes.apple.com/itunes-assets/AudioPreview125/v4/c3/78/b2/c378b272-97f5-cce7-8ee3-0e081d4ce8a4/mzaf_8948661184232198601.plus.aac.ep.m4a\",\"coverarturl\":\"https://is3-ssl.mzstatic.com/image/thumb/Music/90/d4/76/mzi.pwcfvkwx.jpg/400x400cc.jpg\",\"trackid\":\"338869361\",\"productid\":\"338869209\"}},\"streams\":{},\"artists\":[{\"follow\":{\"followkey\":\"A_40220054\"},\"alias\":\"cerf\",\"id\":\"40220054\"},{\"follow\":{\"followkey\":\"A_40263552\"},\"alias\":\"mitiska\",\"id\":\"40263552\"},{\"follow\":{\"followkey\":\"A_40075594\"},\"alias\":\"jaren\",\"id\":\"40075594\"}],\"share\":{\"subject\":\"Beggin\\' '\n",
      " 'You (Armin Van Buuren Remix) - Cerf & Mitiska & Jaren\",\"text\":\"I used Shazam '\n",
      " \"to discover Beggin' You (Armin Van Buuren Remix) by Cerf & Mitiska & \"\n",
      " 'Jaren.\",\"href\":\"https://www.shazam.com/track/51249553/beggin-you-armin-van-buuren-remix\",\"image\":\"https://is3-ssl.mzstatic.com/image/thumb/Music/90/d4/76/mzi.pwcfvkwx.jpg/400x400cc.jpg\",\"twitter\":\"I '\n",
      " \"used @Shazam to discover Beggin' You (Armin Van Buuren Remix) by Cerf & \"\n",
      " 'Mitiska & '\n",
      " 'Jaren.\",\"html\":\"https://www.shazam.com/snippets/email-share/51249553?lang=en&country=GB\",\"avatar\":\"https://is4-ssl.mzstatic.com/image/thumb/Music124/v4/2d/90/c2/2d90c267-69a5-48ce-befd-cadd87fb2739/pr_source.png/800x800cc.jpg\",\"snapchat\":\"https://www.shazam.com/partner/sc/track/51249553\"},\"alias\":\"beggin-you-armin-van-buuren-remix\",\"url\":\"https://www.shazam.com/track/51249553/beggin-you-armin-van-buuren-remix\",\"actions\":[{\"name\":\"track:51249553\",\"type\":\"track\",\"id\":\"51249553\"}]},{\"id\":\"371654886\",\"heading\":{\"title\":\"Begging '\n",
      " 'You\",\"subtitle\":\"PLÜM\"},\"images\":{\"default\":\"https://is4-ssl.mzstatic.com/image/thumb/Music118/v4/a9/aa/78/a9aa786e-e91b-01cb-a3be-ae6a8717bf94/cover.jpg/400x400cc.jpg\",\"blurred\":\"https://is4-ssl.mzstatic.com/image/thumb/Music118/v4/a9/aa/78/a9aa786e-e91b-01cb-a3be-ae6a8717bf94/cover.jpg/400x400cc.jpg\",\"play\":\"https://is4-ssl.mzstatic.com/image/thumb/Music118/v4/a9/aa/78/a9aa786e-e91b-01cb-a3be-ae6a8717bf94/cover.jpg/400x400cc.jpg\"},\"stores\":{\"apple\":{\"actions\":[{\"type\":\"uri\",\"uri\":\"https://music.apple.com/gb/album/begging-you/1274381210?i=1274381215&app=music&itsct=Shazam_1\"}],\"explicit\":true,\"previewurl\":\"https://audio-ssl.itunes.apple.com/itunes-assets/AudioPreview115/v4/88/d8/9c/88d89cb0-c4a1-f002-ed07-953b9b193a28/mzaf_14331141278964162188.plus.aac.p.m4a\",\"coverarturl\":\"https://is4-ssl.mzstatic.com/image/thumb/Music118/v4/a9/aa/78/a9aa786e-e91b-01cb-a3be-ae6a8717bf94/cover.jpg/400x400cc.jpg\",\"trackid\":\"1274381215\",\"productid\":\"1274381210\"}},\"streams\":{},\"artists\":null,\"share\":{\"subject\":\"Begging '\n",
      " 'You - PLÜM\",\"text\":\"I used Shazam to discover Begging You by '\n",
      " 'PLÜM.\",\"href\":\"https://www.shazam.com/track/371654886/begging-you\",\"image\":\"https://is4-ssl.mzstatic.com/image/thumb/Music118/v4/a9/aa/78/a9aa786e-e91b-01cb-a3be-ae6a8717bf94/cover.jpg/400x400cc.jpg\",\"twitter\":\"I '\n",
      " 'used @Shazam to discover Begging You by '\n",
      " 'PLÜM.\",\"html\":\"https://www.shazam.com/snippets/email-share/371654886?lang=en&country=GB\",\"snapchat\":\"https://www.shazam.com/partner/sc/track/371654886\"},\"alias\":\"begging-you\",\"url\":\"https://www.shazam.com/track/371654886/begging-you\",\"actions\":[{\"name\":\"track:371654886\",\"type\":\"track\",\"id\":\"371654886\"}]},{\"id\":\"106031387\",\"heading\":{\"title\":\"Begging '\n",
      " 'You\",\"subtitle\":\"Logic\"},\"images\":{\"default\":\"https://is2-ssl.mzstatic.com/image/thumb/Music6/v4/f9/b0/35/f9b035c5-f080-85f8-af88-4bf38fbc16f7/cover.jpg/400x400cc.jpg\",\"blurred\":\"https://is2-ssl.mzstatic.com/image/thumb/Music6/v4/f9/b0/35/f9b035c5-f080-85f8-af88-4bf38fbc16f7/cover.jpg/400x400cc.jpg\",\"play\":\"https://is2-ssl.mzstatic.com/image/thumb/Music6/v4/f9/b0/35/f9b035c5-f080-85f8-af88-4bf38fbc16f7/cover.jpg/400x400cc.jpg\"},\"stores\":{\"apple\":{\"actions\":[{\"type\":\"uri\",\"uri\":\"https://music.apple.com/gb/album/begging-you/807821655?i=807821691&app=music&itsct=Shazam_1\"}],\"explicit\":false,\"previewurl\":\"https://audio-ssl.itunes.apple.com/itunes-assets/AudioPreview115/v4/0c/a0/56/0ca05636-2f79-bc46-5dce-71edc43a36a1/mzaf_1749108655045693089.plus.aac.ep.m4a\",\"coverarturl\":\"https://is2-ssl.mzstatic.com/image/thumb/Music6/v4/f9/b0/35/f9b035c5-f080-85f8-af88-4bf38fbc16f7/cover.jpg/400x400cc.jpg\",\"trackid\":\"807821691\",\"productid\":\"807821655\"}},\"streams\":{},\"artists\":null,\"share\":{\"subject\":\"Begging '\n",
      " 'You - Logic\",\"text\":\"I used Shazam to discover Begging You by '\n",
      " 'Logic.\",\"href\":\"https://www.shazam.com/track/106031387/begging-you\",\"image\":\"https://is2-ssl.mzstatic.com/image/thumb/Music6/v4/f9/b0/35/f9b035c5-f080-85f8-af88-4bf38fbc16f7/cover.jpg/400x400cc.jpg\",\"twitter\":\"I '\n",
      " 'used @Shazam to discover Begging You by '\n",
      " 'Logic.\",\"html\":\"https://www.shazam.com/snippets/email-share/106031387?lang=en&country=GB\",\"snapchat\":\"https://www.shazam.com/partner/sc/track/106031387\"},\"alias\":\"begging-you\",\"url\":\"https://www.shazam.com/track/106031387/begging-you\",\"actions\":[{\"name\":\"track:106031387\",\"type\":\"track\",\"id\":\"106031387\"}]},{\"id\":\"61109395\",\"heading\":{\"title\":\"Beggin\\'\",\"subtitle\":\"Frankie '\n",
      " 'Valli & The Four '\n",
      " 'Seasons\"},\"images\":{\"default\":\"https://is4-ssl.mzstatic.com/image/thumb/Music114/v4/6b/04/5d/6b045de7-624f-9edf-07e8-07378a04bc32/dj.appdumws.jpg/400x400cc.jpg\",\"blurred\":\"https://is4-ssl.mzstatic.com/image/thumb/Music114/v4/6b/04/5d/6b045de7-624f-9edf-07e8-07378a04bc32/dj.appdumws.jpg/400x400cc.jpg\",\"play\":\"https://is4-ssl.mzstatic.com/image/thumb/Music114/v4/6b/04/5d/6b045de7-624f-9edf-07e8-07378a04bc32/dj.appdumws.jpg/400x400cc.jpg\"},\"stores\":{\"apple\":{\"actions\":[{\"type\":\"uri\",\"uri\":\"https://music.apple.com/gb/album/beggin/917116894?i=917116999&app=music&itsct=Shazam_1\"}],\"explicit\":false,\"previewurl\":\"https://audio-ssl.itunes.apple.com/itunes-assets/AudioPreview115/v4/a5/5e/04/a55e04bc-11e8-a996-6d60-52a44e4c27c6/mzaf_254736734612204145.plus.aac.ep.m4a\",\"coverarturl\":\"https://is4-ssl.mzstatic.com/image/thumb/Music114/v4/6b/04/5d/6b045de7-624f-9edf-07e8-07378a04bc32/dj.appdumws.jpg/400x400cc.jpg\",\"trackid\":\"917116999\",\"productid\":\"917116894\"}},\"streams\":{},\"artists\":[{\"follow\":{\"followkey\":\"A_34543\"},\"alias\":\"frankie-valli-and-the-four-seasons\",\"id\":\"34543\"}],\"share\":{\"subject\":\"Beggin\\' '\n",
      " '- Frankie Valli & The Four Seasons\",\"text\":\"I used Shazam to discover '\n",
      " \"Beggin' by Frankie Valli & The Four \"\n",
      " 'Seasons.\",\"href\":\"https://www.shazam.com/track/61109395/beggin\",\"image\":\"https://is4-ssl.mzstatic.com/image/thumb/Music114/v4/6b/04/5d/6b045de7-624f-9edf-07e8-07378a04bc32/dj.appdumws.jpg/400x400cc.jpg\",\"twitter\":\"I '\n",
      " \"used @Shazam to discover Beggin' by Frankie Valli & The Four \"\n",
      " 'Seasons.\",\"html\":\"https://www.shazam.com/snippets/email-share/61109395?lang=en&country=GB\",\"avatar\":\"https://is4-ssl.mzstatic.com/image/thumb/Features115/v4/d0/b6/fa/d0b6fa24-9b0c-791d-b873-e0e33c1e95b5/mzl.jotrrlqh.jpg/800x800cc.jpg\",\"snapchat\":\"https://www.shazam.com/partner/sc/track/61109395\"},\"alias\":\"beggin\",\"url\":\"https://www.shazam.com/track/61109395/beggin\",\"actions\":[{\"name\":\"track:61109395\",\"type\":\"track\",\"id\":\"61109395\"}]},{\"id\":\"267825\",\"heading\":{\"title\":\"Begging '\n",
      " 'You\",\"subtitle\":\"The Stone '\n",
      " 'Roses\"},\"images\":{\"default\":\"https://is4-ssl.mzstatic.com/image/thumb/Music114/v4/f6/17/81/f6178146-5a03-75cc-c059-d6ff88694746/00720642450321.rgb.jpg/400x400cc.jpg\",\"blurred\":\"https://is4-ssl.mzstatic.com/image/thumb/Music114/v4/f6/17/81/f6178146-5a03-75cc-c059-d6ff88694746/00720642450321.rgb.jpg/400x400cc.jpg\",\"play\":\"https://is4-ssl.mzstatic.com/image/thumb/Music114/v4/f6/17/81/f6178146-5a03-75cc-c059-d6ff88694746/00720642450321.rgb.jpg/400x400cc.jpg\"},\"stores\":{\"apple\":{\"actions\":[{\"type\":\"uri\",\"uri\":\"https://music.apple.com/gb/album/begging-you/1440870988?i=1440871377&app=music&itsct=Shazam_1\"}],\"explicit\":false,\"previewurl\":\"https://audio-ssl.itunes.apple.com/itunes-assets/AudioPreview125/v4/0f/6f/47/0f6f47e8-c36e-988d-f061-2b7c7593f4aa/mzaf_7752007672092398148.plus.aac.ep.m4a\",\"coverarturl\":\"https://is4-ssl.mzstatic.com/image/thumb/Music114/v4/f6/17/81/f6178146-5a03-75cc-c059-d6ff88694746/00720642450321.rgb.jpg/400x400cc.jpg\",\"trackid\":\"1440871377\",\"productid\":\"1440870988\"}},\"streams\":{},\"artists\":[{\"follow\":{\"followkey\":\"A_217215\"},\"alias\":\"the-stone-roses\",\"id\":\"217215\"}],\"share\":{\"subject\":\"Begging '\n",
      " 'You - The Stone Roses\",\"text\":\"I used Shazam to discover Begging You by The '\n",
      " 'Stone '\n",
      " 'Roses.\",\"href\":\"https://www.shazam.com/track/267825/begging-you\",\"image\":\"https://is4-ssl.mzstatic.com/image/thumb/Music114/v4/f6/17/81/f6178146-5a03-75cc-c059-d6ff88694746/00720642450321.rgb.jpg/400x400cc.jpg\",\"twitter\":\"I '\n",
      " 'used @Shazam to discover Begging You by The Stone '\n",
      " 'Roses.\",\"html\":\"https://www.shazam.com/snippets/email-share/267825?lang=en&country=GB\",\"avatar\":\"https://is5-ssl.mzstatic.com/image/thumb/Features115/v4/93/38/10/93381084-ef07-4f04-16e0-3f5120d3d850/mza_7360562026449807387.png/800x800cc.jpg\",\"snapchat\":\"https://www.shazam.com/partner/sc/track/267825\"},\"alias\":\"begging-you\",\"url\":\"https://www.shazam.com/track/267825/begging-you\",\"actions\":[{\"name\":\"track:267825\",\"type\":\"track\",\"id\":\"267825\"}]},{\"id\":\"55670345\",\"heading\":{\"title\":\"Begging '\n",
      " 'You\",\"subtitle\":\"Graham Day And The '\n",
      " 'Gaolers\"},\"images\":{\"default\":\"https://is3-ssl.mzstatic.com/image/thumb/Music/09/4a/23/mzi.wdarobcl.jpg/400x400cc.jpg\",\"blurred\":\"https://is3-ssl.mzstatic.com/image/thumb/Music/09/4a/23/mzi.wdarobcl.jpg/400x400cc.jpg\",\"play\":\"https://is3-ssl.mzstatic.com/image/thumb/Music/09/4a/23/mzi.wdarobcl.jpg/400x400cc.jpg\"},\"stores\":{\"apple\":{\"actions\":[{\"type\":\"uri\",\"uri\":\"https://music.apple.com/gb/album/begging-you/291680106?i=291680110&app=music&itsct=Shazam_1\"}],\"explicit\":false,\"previewurl\":\"https://audio-ssl.itunes.apple.com/itunes-assets/AudioPreview115/v4/da/42/70/da4270d9-0049-4782-5853-5b03dfc8460a/mzaf_11492799822798060712.plus.aac.ep.m4a\",\"coverarturl\":\"https://is3-ssl.mzstatic.com/image/thumb/Music/09/4a/23/mzi.wdarobcl.jpg/400x400cc.jpg\",\"trackid\":\"291680110\",\"productid\":\"291680106\"}},\"streams\":{},\"artists\":[{\"follow\":{\"followkey\":\"A_41066374\"},\"alias\":\"graham-day-and-the-gaolers\",\"id\":\"41066374\"}],\"share\":{\"subject\":\"Begging '\n",
      " 'You - Graham Day And The Gaolers\",\"text\":\"I used Shazam to discover Begging '\n",
      " 'You by Graham Day And The '\n",
      " 'Gaolers.\",\"href\":\"https://www.shazam.com/track/55670345/begging-you\",\"image\":\"https://is3-ssl.mzstatic.com/image/thumb/Music/09/4a/23/mzi.wdarobcl.jpg/400x400cc.jpg\",\"twitter\":\"I '\n",
      " 'used @Shazam to discover Begging You by Graham Day And The '\n",
      " 'Gaolers.\",\"html\":\"https://www.shazam.com/snippets/email-share/55670345?lang=en&country=GB\",\"snapchat\":\"https://www.shazam.com/partner/sc/track/55670345\"},\"alias\":\"begging-you\",\"url\":\"https://www.shazam.com/track/55670345/begging-you\",\"actions\":[{\"name\":\"track:55670345\",\"type\":\"track\",\"id\":\"55670345\"}]},{\"id\":\"437795260\",\"heading\":{\"title\":\"Begging '\n",
      " 'You\",\"subtitle\":\"Russ\"},\"images\":{\"default\":\"https://is2-ssl.mzstatic.com/image/thumb/Music115/v4/fc/82/83/fc8283ca-4f94-43d9-72c3-3967ef9aae45/886447030905.jpg/400x400cc.jpg\",\"blurred\":\"https://is2-ssl.mzstatic.com/image/thumb/Music115/v4/fc/82/83/fc8283ca-4f94-43d9-72c3-3967ef9aae45/886447030905.jpg/400x400cc.jpg\",\"play\":\"https://is2-ssl.mzstatic.com/image/thumb/Music115/v4/fc/82/83/fc8283ca-4f94-43d9-72c3-3967ef9aae45/886447030905.jpg/400x400cc.jpg\"},\"stores\":{\"apple\":{\"actions\":[{\"type\":\"uri\",\"uri\":\"https://music.apple.com/gb/album/begging-you/1424570736?i=1424572333&app=music&itsct=Shazam_1\"}],\"explicit\":true,\"previewurl\":\"https://audio-ssl.itunes.apple.com/itunes-assets/AudioPreview115/v4/22/f3/0f/22f30fa7-0c9e-8ed5-b722-60c218baf723/mzaf_12603470623643143266.plus.aac.ep.m4a\",\"coverarturl\":\"https://is2-ssl.mzstatic.com/image/thumb/Music115/v4/fc/82/83/fc8283ca-4f94-43d9-72c3-3967ef9aae45/886447030905.jpg/400x400cc.jpg\",\"trackid\":\"1424572333\",\"productid\":\"1424570736\"}},\"streams\":{},\"artists\":[{\"follow\":{\"followkey\":\"A_10004940\"},\"alias\":\"russ\",\"id\":\"10004940\"}],\"share\":{\"subject\":\"Begging '\n",
      " 'You - Russ\",\"text\":\"I used Shazam to discover Begging You by '\n",
      " 'Russ.\",\"href\":\"https://www.shazam.com/track/437795260/begging-you\",\"image\":\"https://is2-ssl.mzstatic.com/image/thumb/Music115/v4/fc/82/83/fc8283ca-4f94-43d9-72c3-3967ef9aae45/886447030905.jpg/400x400cc.jpg\",\"twitter\":\"I '\n",
      " 'used @Shazam to discover Begging You by '\n",
      " 'Russ.\",\"html\":\"https://www.shazam.com/snippets/email-share/437795260?lang=en&country=GB\",\"avatar\":\"https://is2-ssl.mzstatic.com/image/thumb/Features125/v4/a3/bf/9a/a3bf9a0f-0a52-2eb1-86fd-75a88042d094/pr_source.png/800x800cc.jpg\",\"snapchat\":\"https://www.shazam.com/partner/sc/track/437795260\"},\"alias\":\"begging-you\",\"url\":\"https://www.shazam.com/track/437795260/begging-you\",\"actions\":[{\"name\":\"track:437795260\",\"type\":\"track\",\"id\":\"437795260\"}]}]')\n"
     ]
    }
   ],
   "source": [
    "import requests\n",
    "\n",
    "url = \"https://shazam-core.p.rapidapi.com/v1/tracks/search\"\n",
    "\n",
    "querystring = {\"query\":\"begging you\"}\n",
    "\n",
    "headers = {\n",
    "    'x-rapidapi-host': \"shazam-core.p.rapidapi.com\",\n",
    "    'x-rapidapi-key': \"1dc9e6236dmshdfe058f825b062cp17212ejsnc424e02746a5\"\n",
    "    }\n",
    "\n",
    "response = requests.request(\"GET\", url, headers=headers, params=querystring)\n",
    "\n",
    "pprint(response.text)"
   ]
  },
  {
   "cell_type": "code",
   "execution_count": 13,
   "metadata": {},
   "outputs": [
    {
     "name": "stdout",
     "output_type": "stream",
     "text": [
      "'[{\"id\":\"204753361\",\"avatar\":{\"default\":\"https://is4-ssl.mzstatic.com/image/thumb/Features115/v4/e1/28/a9/e128a93d-b8d5-3f84-30b5-1542d8667fb0/pr_source.png/800x800cc.jpg\",\"blurred\":\"https://is4-ssl.mzstatic.com/image/thumb/Features115/v4/e1/28/a9/e128a93d-b8d5-3f84-30b5-1542d8667fb0/pr_source.png/800x800cc.jpg\",\"play\":\"https://is4-ssl.mzstatic.com/image/thumb/Features115/v4/e1/28/a9/e128a93d-b8d5-3f84-30b5-1542d8667fb0/pr_source.png/800x800cc.jpg\"},\"name\":\"Måneskin\",\"verified\":false,\"actions\":[{\"name\":\"artist:204753361\",\"type\":\"artist\",\"id\":\"204753361\"}],\"alias\":\"måneskin\"}]'\n"
     ]
    }
   ],
   "source": [
    "import requests\n",
    "\n",
    "url = \"https://shazam-core.p.rapidapi.com/v1/artists/search\"\n",
    "\n",
    "querystring = {\"query\":\" Måneskin\"}\n",
    "\n",
    "headers = {\n",
    "    'x-rapidapi-host': \"shazam-core.p.rapidapi.com\",\n",
    "    'x-rapidapi-key': \"1dc9e6236dmshdfe058f825b062cp17212ejsnc424e02746a5\"\n",
    "    }\n",
    "\n",
    "response = requests.request(\"GET\", url, headers=headers, params=querystring)\n",
    "\n",
    "pprint(response.text)"
   ]
  },
  {
   "cell_type": "code",
   "execution_count": 16,
   "metadata": {
    "scrolled": true
   },
   "outputs": [
    {
     "name": "stdout",
     "output_type": "stream",
     "text": [
      "('{\"tracks\":{\"hits\":[{\"track\":{\"layout\":\"5\",\"type\":\"MUSIC\",\"key\":\"20066955\",\"title\":\"Kiss '\n",
      " 'The Rain\",\"subtitle\":\"Billie Myers\",\"share\":{\"subject\":\"Kiss The Rain - '\n",
      " 'Billie Myers\",\"text\":\"I used Shazam to discover Kiss The Rain by Billie '\n",
      " 'Myers.\",\"href\":\"https://www.shazam.com/track/20066955/kiss-the-rain\",\"image\":\"https://is3-ssl.mzstatic.com/image/thumb/Music114/v4/02/74/5a/02745ac2-cbfb-a90a-b970-7449be5d4c42/06UMGIM10734.rgb.jpg/400x400cc.jpg\",\"twitter\":\"I '\n",
      " 'used @Shazam to discover Kiss The Rain by Billie '\n",
      " 'Myers.\",\"html\":\"https://www.shazam.com/snippets/email-share/20066955?lang=en-US&country=US\",\"avatar\":\"https://is5-ssl.mzstatic.com/image/thumb/Features124/v4/4e/0d/1f/4e0d1ff5-9f2e-0170-0ec9-3dbe25f3a471/pr_source.png/800x800cc.jpg\",\"snapchat\":\"https://www.shazam.com/partner/sc/track/20066955\"},\"images\":{\"background\":\"https://is5-ssl.mzstatic.com/image/thumb/Features124/v4/4e/0d/1f/4e0d1ff5-9f2e-0170-0ec9-3dbe25f3a471/pr_source.png/800x800cc.jpg\",\"coverart\":\"https://is3-ssl.mzstatic.com/image/thumb/Music114/v4/02/74/5a/02745ac2-cbfb-a90a-b970-7449be5d4c42/06UMGIM10734.rgb.jpg/400x400cc.jpg\",\"coverarthq\":\"https://is3-ssl.mzstatic.com/image/thumb/Music114/v4/02/74/5a/02745ac2-cbfb-a90a-b970-7449be5d4c42/06UMGIM10734.rgb.jpg/400x400cc.jpg\",\"joecolor\":\"b:fffffdp:0b0a08s:313029t:3c3b39q:5a5954\"},\"hub\":{\"type\":\"APPLEMUSIC\",\"image\":\"https://images.shazam.com/static/icons/hub/ios/v5/applemusic_{scalefactor}.png\",\"actions\":[{\"name\":\"apple\",\"type\":\"applemusicplay\",\"id\":\"1444027955\"},{\"name\":\"apple\",\"type\":\"uri\",\"uri\":\"https://audio-ssl.itunes.apple.com/itunes-assets/AudioPreview115/v4/a7/44/d7/a744d7c6-d06c-17a2-ad19-cd01b46a8cbd/mzaf_8512763237108905867.plus.aac.ep.m4a\"}],\"options\":[{\"caption\":\"OPEN\",\"actions\":[{\"name\":\"hub:applemusic:deeplink\",\"type\":\"applemusicopen\",\"uri\":\"https://music.apple.com/us/album/kiss-the-rain/1444027943?i=1444027955&mttnagencyid=769459046716559743&mttnsiteid=125115&mttn3pid=a_custom_779816081798873874&mttnsub1=Shazam_ios&mttnsub2=5348615A-616D-3235-3830-44754D6D5973&itscg=30201&app=music&itsct=Shazam_ios\"},{\"name\":\"hub:applemusic:deeplink\",\"type\":\"uri\",\"uri\":\"https://music.apple.com/us/album/kiss-the-rain/1444027943?i=1444027955&mttnagencyid=769459046716559743&mttnsiteid=125115&mttn3pid=a_custom_779816081798873874&mttnsub1=Shazam_ios&mttnsub2=5348615A-616D-3235-3830-44754D6D5973&itscg=30201&app=music&itsct=Shazam_ios\"}],\"beacondata\":{\"type\":\"open\",\"providername\":\"applemusic\"},\"image\":\"https://images.shazam.com/static/icons/hub/ios/v5/overflow-open-option_{scalefactor}.png\",\"type\":\"open\",\"listcaption\":\"Open '\n",
      " 'in Apple '\n",
      " 'Music\",\"overflowimage\":\"https://images.shazam.com/static/icons/hub/ios/v5/applemusic-overflow_{scalefactor}.png\",\"colouroverflowimage\":false,\"providername\":\"applemusic\"},{\"caption\":\"BUY\",\"actions\":[{\"type\":\"uri\",\"uri\":\"https://itunes.apple.com/us/album/kiss-the-rain/1444027943?i=1444027955&mttnagencyid=769459046716559743&mttnsiteid=125115&mttn3pid=a_custom_779816081798873874&mttnsub1=Shazam_ios&mttnsub2=5348615A-616D-3235-3830-44754D6D5973&itscg=30201&app=itunes&itsct=Shazam_ios\"}],\"beacondata\":{\"type\":\"buy\",\"providername\":\"itunes\"},\"image\":\"https://images.shazam.com/static/icons/hub/ios/v5/itunes-overflow-buy_{scalefactor}.png\",\"type\":\"buy\",\"listcaption\":\"Buy '\n",
      " 'on '\n",
      " 'iTunes\",\"overflowimage\":\"https://images.shazam.com/static/icons/hub/ios/v5/itunes-overflow-buy_{scalefactor}.png\",\"colouroverflowimage\":false,\"providername\":\"itunes\"}],\"providers\":[{\"caption\":\"Open '\n",
      " 'in '\n",
      " 'Spotify\",\"images\":{\"overflow\":\"https://images.shazam.com/static/icons/hub/ios/v5/spotify-overflow_{scalefactor}.png\",\"default\":\"https://images.shazam.com/static/icons/hub/ios/v5/spotify_{scalefactor}.png\"},\"actions\":[{\"name\":\"hub:spotify:searchdeeplink\",\"type\":\"uri\",\"uri\":\"spotify:search:Kiss%20The%20Rain%20Billie%20Myers\"}],\"type\":\"SPOTIFY\"},{\"caption\":\"Open '\n",
      " 'in '\n",
      " 'Deezer\",\"images\":{\"overflow\":\"https://images.shazam.com/static/icons/hub/ios/v5/deezer-overflow_{scalefactor}.png\",\"default\":\"https://images.shazam.com/static/icons/hub/ios/v5/deezer_{scalefactor}.png\"},\"actions\":[{\"name\":\"hub:deezer:searchdeeplink\",\"type\":\"uri\",\"uri\":\"deezer-query://www.deezer.com/play?query=%7Btrack%3A%27Kiss+The+Rain%27%20artist%3A%27Billie+Myers%27%7D\"}],\"type\":\"DEEZER\"}],\"explicit\":false,\"displayname\":\"APPLE '\n",
      " 'MUSIC\"},\"artists\":[{\"id\":\"33128\",\"adamid\":\"99951\"}],\"url\":\"https://www.shazam.com/track/20066955/kiss-the-rain\"}},{\"track\":{\"layout\":\"5\",\"type\":\"MUSIC\",\"key\":\"40099833\",\"title\":\"Kiss '\n",
      " 'The Rain\",\"subtitle\":\"Yiruma\",\"share\":{\"subject\":\"Kiss The Rain - '\n",
      " 'Yiruma\",\"text\":\"I used Shazam to discover Kiss The Rain by '\n",
      " 'Yiruma.\",\"href\":\"https://www.shazam.com/track/40099833/kiss-the-rain\",\"image\":\"https://is3-ssl.mzstatic.com/image/thumb/Music115/v4/0a/d1/e8/0ad1e89c-df29-a43e-9852-eb6ece2dd556/21UMGIM24785.rgb.jpg/400x400cc.jpg\",\"twitter\":\"I '\n",
      " 'used @Shazam to discover Kiss The Rain by '\n",
      " 'Yiruma.\",\"html\":\"https://www.shazam.com/snippets/email-share/40099833?lang=en-US&country=US\",\"avatar\":\"https://is4-ssl.mzstatic.com/image/thumb/Features115/v4/3f/84/4e/3f844e97-8c23-b64d-87f1-d536e99f80e9/mzl.rsxdpqqq.jpg/800x800cc.jpg\",\"snapchat\":\"https://www.shazam.com/partner/sc/track/40099833\"},\"images\":{\"background\":\"https://is4-ssl.mzstatic.com/image/thumb/Features115/v4/3f/84/4e/3f844e97-8c23-b64d-87f1-d536e99f80e9/mzl.rsxdpqqq.jpg/800x800cc.jpg\",\"coverart\":\"https://is3-ssl.mzstatic.com/image/thumb/Music115/v4/0a/d1/e8/0ad1e89c-df29-a43e-9852-eb6ece2dd556/21UMGIM24785.rgb.jpg/400x400cc.jpg\",\"coverarthq\":\"https://is3-ssl.mzstatic.com/image/thumb/Music115/v4/0a/d1/e8/0ad1e89c-df29-a43e-9852-eb6ece2dd556/21UMGIM24785.rgb.jpg/400x400cc.jpg\",\"joecolor\":\"b:0f1513p:f6f1ees:d7d6d1t:c7c5c2q:afafab\"},\"hub\":{\"type\":\"APPLEMUSIC\",\"image\":\"https://images.shazam.com/static/icons/hub/ios/v5/applemusic_{scalefactor}.png\",\"actions\":[{\"name\":\"apple\",\"type\":\"applemusicplay\",\"id\":\"1576663126\"},{\"name\":\"apple\",\"type\":\"uri\",\"uri\":\"https://audio-ssl.itunes.apple.com/itunes-assets/AudioPreview115/v4/c4/be/eb/c4beeb5e-545e-f320-0cc8-f808e88db11b/mzaf_6024994371730893590.plus.aac.ep.m4a\"}],\"options\":[{\"caption\":\"OPEN\",\"actions\":[{\"name\":\"hub:applemusic:deeplink\",\"type\":\"applemusicopen\",\"uri\":\"https://music.apple.com/us/album/kiss-the-rain/1576662868?i=1576663126&mttnagencyid=769459046716559743&mttnsiteid=125115&mttn3pid=a_custom_779816081798873874&mttnsub1=Shazam_ios&mttnsub2=5348615A-616D-3235-3830-44754D6D5973&itscg=30201&app=music&itsct=Shazam_ios\"},{\"name\":\"hub:applemusic:deeplink\",\"type\":\"uri\",\"uri\":\"https://music.apple.com/us/album/kiss-the-rain/1576662868?i=1576663126&mttnagencyid=769459046716559743&mttnsiteid=125115&mttn3pid=a_custom_779816081798873874&mttnsub1=Shazam_ios&mttnsub2=5348615A-616D-3235-3830-44754D6D5973&itscg=30201&app=music&itsct=Shazam_ios\"}],\"beacondata\":{\"type\":\"open\",\"providername\":\"applemusic\"},\"image\":\"https://images.shazam.com/static/icons/hub/ios/v5/overflow-open-option_{scalefactor}.png\",\"type\":\"open\",\"listcaption\":\"Open '\n",
      " 'in Apple '\n",
      " 'Music\",\"overflowimage\":\"https://images.shazam.com/static/icons/hub/ios/v5/applemusic-overflow_{scalefactor}.png\",\"colouroverflowimage\":false,\"providername\":\"applemusic\"},{\"caption\":\"BUY\",\"actions\":[{\"type\":\"uri\",\"uri\":\"https://itunes.apple.com/us/album/kiss-the-rain/1576662868?i=1576663126&mttnagencyid=769459046716559743&mttnsiteid=125115&mttn3pid=a_custom_779816081798873874&mttnsub1=Shazam_ios&mttnsub2=5348615A-616D-3235-3830-44754D6D5973&itscg=30201&app=itunes&itsct=Shazam_ios\"}],\"beacondata\":{\"type\":\"buy\",\"providername\":\"itunes\"},\"image\":\"https://images.shazam.com/static/icons/hub/ios/v5/itunes-overflow-buy_{scalefactor}.png\",\"type\":\"buy\",\"listcaption\":\"Buy '\n",
      " 'on '\n",
      " 'iTunes\",\"overflowimage\":\"https://images.shazam.com/static/icons/hub/ios/v5/itunes-overflow-buy_{scalefactor}.png\",\"colouroverflowimage\":false,\"providername\":\"itunes\"}],\"providers\":[{\"caption\":\"Open '\n",
      " 'in '\n",
      " 'Spotify\",\"images\":{\"overflow\":\"https://images.shazam.com/static/icons/hub/ios/v5/spotify-overflow_{scalefactor}.png\",\"default\":\"https://images.shazam.com/static/icons/hub/ios/v5/spotify_{scalefactor}.png\"},\"actions\":[{\"name\":\"hub:spotify:searchdeeplink\",\"type\":\"uri\",\"uri\":\"spotify:search:Kiss%20The%20Rain%20Yiruma\"}],\"type\":\"SPOTIFY\"},{\"caption\":\"Open '\n",
      " 'in '\n",
      " 'Deezer\",\"images\":{\"overflow\":\"https://images.shazam.com/static/icons/hub/ios/v5/deezer-overflow_{scalefactor}.png\",\"default\":\"https://images.shazam.com/static/icons/hub/ios/v5/deezer_{scalefactor}.png\"},\"actions\":[{\"name\":\"hub:deezer:searchdeeplink\",\"type\":\"uri\",\"uri\":\"deezer-query://www.deezer.com/play?query=%7Btrack%3A%27Kiss+The+Rain%27%20artist%3A%27Yiruma%27%7D\"}],\"type\":\"DEEZER\"}],\"explicit\":false,\"displayname\":\"APPLE '\n",
      " 'MUSIC\"},\"artists\":[{\"id\":\"40008598\",\"adamid\":\"73406786\"}],\"url\":\"https://www.shazam.com/track/40099833/kiss-the-rain\"}},{\"track\":{\"layout\":\"5\",\"type\":\"MUSIC\",\"key\":\"116727774\",\"title\":\"Falling '\n",
      " 'In The Sky\",\"subtitle\":\"KISS THE RAIN\",\"share\":{\"subject\":\"Falling In The '\n",
      " 'Sky - KISS THE RAIN\",\"text\":\"I used Shazam to discover Falling In The Sky by '\n",
      " 'KISS THE '\n",
      " 'RAIN.\",\"href\":\"https://www.shazam.com/track/116727774/falling-in-the-sky\",\"image\":\"https://is2-ssl.mzstatic.com/image/thumb/Music4/v4/ae/74/6f/ae746f79-c0e7-bd13-bdf0-a39cb5fefe12/5051813914621_cover.jpg/400x400cc.jpg\",\"twitter\":\"I '\n",
      " 'used @Shazam to discover Falling In The Sky by KISS THE '\n",
      " 'RAIN.\",\"html\":\"https://www.shazam.com/snippets/email-share/116727774?lang=en-US&country=US\",\"snapchat\":\"https://www.shazam.com/partner/sc/track/116727774\"},\"images\":{\"background\":\"https://is2-ssl.mzstatic.com/image/thumb/Music4/v4/ae/74/6f/ae746f79-c0e7-bd13-bdf0-a39cb5fefe12/5051813914621_cover.jpg/400x400cc.jpg\",\"coverart\":\"https://is2-ssl.mzstatic.com/image/thumb/Music4/v4/ae/74/6f/ae746f79-c0e7-bd13-bdf0-a39cb5fefe12/5051813914621_cover.jpg/400x400cc.jpg\",\"coverarthq\":\"https://is2-ssl.mzstatic.com/image/thumb/Music4/v4/ae/74/6f/ae746f79-c0e7-bd13-bdf0-a39cb5fefe12/5051813914621_cover.jpg/400x400cc.jpg\",\"joecolor\":\"b:fdf7ebp:0c0d10s:313230t:3c3c3bq:5a5955\"},\"hub\":{\"type\":\"APPLEMUSIC\",\"image\":\"https://images.shazam.com/static/icons/hub/ios/v5/applemusic_{scalefactor}.png\",\"actions\":[{\"name\":\"apple\",\"type\":\"applemusicplay\",\"id\":\"881889881\"},{\"name\":\"apple\",\"type\":\"uri\",\"uri\":\"https://audio-ssl.itunes.apple.com/itunes-assets/AudioPreview115/v4/12/7a/d7/127ad718-2046-f2ca-26fd-98417504218c/mzaf_16992176741366153247.plus.aac.ep.m4a\"}],\"options\":[{\"caption\":\"OPEN\",\"actions\":[{\"name\":\"hub:applemusic:deeplink\",\"type\":\"applemusicopen\",\"uri\":\"https://music.apple.com/us/album/falling-in-the-sky/881889861?i=881889881&mttnagencyid=769459046716559743&mttnsiteid=125115&mttn3pid=a_custom_779816081798873874&mttnsub1=Shazam_ios&mttnsub2=5348615A-616D-3235-3830-44754D6D5973&itscg=30201&app=music&itsct=Shazam_ios\"},{\"name\":\"hub:applemusic:deeplink\",\"type\":\"uri\",\"uri\":\"https://music.apple.com/us/album/falling-in-the-sky/881889861?i=881889881&mttnagencyid=769459046716559743&mttnsiteid=125115&mttn3pid=a_custom_779816081798873874&mttnsub1=Shazam_ios&mttnsub2=5348615A-616D-3235-3830-44754D6D5973&itscg=30201&app=music&itsct=Shazam_ios\"}],\"beacondata\":{\"type\":\"open\",\"providername\":\"applemusic\"},\"image\":\"https://images.shazam.com/static/icons/hub/ios/v5/overflow-open-option_{scalefactor}.png\",\"type\":\"open\",\"listcaption\":\"Open '\n",
      " 'in Apple '\n",
      " 'Music\",\"overflowimage\":\"https://images.shazam.com/static/icons/hub/ios/v5/applemusic-overflow_{scalefactor}.png\",\"colouroverflowimage\":false,\"providername\":\"applemusic\"},{\"caption\":\"BUY\",\"actions\":[{\"type\":\"uri\",\"uri\":\"https://itunes.apple.com/us/album/falling-in-the-sky/881889861?i=881889881&mttnagencyid=769459046716559743&mttnsiteid=125115&mttn3pid=a_custom_779816081798873874&mttnsub1=Shazam_ios&mttnsub2=5348615A-616D-3235-3830-44754D6D5973&itscg=30201&app=itunes&itsct=Shazam_ios\"}],\"beacondata\":{\"type\":\"buy\",\"providername\":\"itunes\"},\"image\":\"https://images.shazam.com/static/icons/hub/ios/v5/itunes-overflow-buy_{scalefactor}.png\",\"type\":\"buy\",\"listcaption\":\"Buy '\n",
      " 'on '\n",
      " 'iTunes\",\"overflowimage\":\"https://images.shazam.com/static/icons/hub/ios/v5/itunes-overflow-buy_{scalefactor}.png\",\"colouroverflowimage\":false,\"providername\":\"itunes\"}],\"providers\":[{\"caption\":\"Open '\n",
      " 'in '\n",
      " 'Spotify\",\"images\":{\"overflow\":\"https://images.shazam.com/static/icons/hub/ios/v5/spotify-overflow_{scalefactor}.png\",\"default\":\"https://images.shazam.com/static/icons/hub/ios/v5/spotify_{scalefactor}.png\"},\"actions\":[{\"name\":\"hub:spotify:searchdeeplink\",\"type\":\"uri\",\"uri\":\"spotify:search:Falling%20In%20The%20Sky%20Kiss%20The%20Rain\"}],\"type\":\"SPOTIFY\"},{\"caption\":\"Open '\n",
      " 'in '\n",
      " 'Deezer\",\"images\":{\"overflow\":\"https://images.shazam.com/static/icons/hub/ios/v5/deezer-overflow_{scalefactor}.png\",\"default\":\"https://images.shazam.com/static/icons/hub/ios/v5/deezer_{scalefactor}.png\"},\"actions\":[{\"name\":\"hub:deezer:searchdeeplink\",\"type\":\"uri\",\"uri\":\"deezer-query://www.deezer.com/play?query=%7Btrack%3A%27Falling+In+The+Sky%27%20artist%3A%27KISS+THE+RAIN%27%7D\"}],\"type\":\"DEEZER\"}],\"explicit\":false,\"displayname\":\"APPLE '\n",
      " 'MUSIC\"},\"artists\":[{\"id\":\"45877566\",\"adamid\":\"881889878\"}],\"url\":\"https://www.shazam.com/track/116727774/falling-in-the-sky\"}}]},\"artists\":{\"hits\":[{\"artist\":{\"avatar\":\"https://is5-ssl.mzstatic.com/image/thumb/Features124/v4/4e/0d/1f/4e0d1ff5-9f2e-0170-0ec9-3dbe25f3a471/pr_source.png/800x800cc.jpg\",\"id\":\"33128\",\"name\":\"Billie '\n",
      " 'Myers\",\"verified\":false,\"adamid\":\"99951\"}},{\"artist\":{\"avatar\":\"https://is4-ssl.mzstatic.com/image/thumb/Features115/v4/3f/84/4e/3f844e97-8c23-b64d-87f1-d536e99f80e9/mzl.rsxdpqqq.jpg/800x800cc.jpg\",\"id\":\"40008598\",\"name\":\"Yiruma\",\"verified\":false,\"adamid\":\"73406786\"}},{\"artist\":{\"id\":\"45877566\",\"name\":\"Kiss '\n",
      " 'The Rain\",\"verified\":false,\"adamid\":\"881889878\"}}]}}')\n"
     ]
    }
   ],
   "source": [
    "import http.client\n",
    "\n",
    "conn = http.client.HTTPSConnection(\"shazam.p.rapidapi.com\")\n",
    "\n",
    "headers = {\n",
    "    'x-rapidapi-host': \"shazam.p.rapidapi.com\",\n",
    "    'x-rapidapi-key': \"1dc9e6236dmshdfe058f825b062cp17212ejsnc424e02746a5\"\n",
    "    }\n",
    "\n",
    "conn.request(\"GET\", \"/search?term=kiss%20the%20rain&locale=en-US&offset=0&limit=5\", headers=headers)\n",
    "\n",
    "res = conn.getresponse()\n",
    "data = res.read()\n",
    "\n",
    "pprint(data.decode(\"utf-8\"))"
   ]
  },
  {
   "cell_type": "code",
   "execution_count": null,
   "metadata": {},
   "outputs": [],
   "source": []
  }
 ],
 "metadata": {
  "kernelspec": {
   "display_name": "Python 3",
   "language": "python",
   "name": "python3"
  },
  "language_info": {
   "codemirror_mode": {
    "name": "ipython",
    "version": 3
   },
   "file_extension": ".py",
   "mimetype": "text/x-python",
   "name": "python",
   "nbconvert_exporter": "python",
   "pygments_lexer": "ipython3",
   "version": "3.8.3"
  }
 },
 "nbformat": 4,
 "nbformat_minor": 4
}
