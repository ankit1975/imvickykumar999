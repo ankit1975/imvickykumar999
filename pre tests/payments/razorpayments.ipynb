{
 "cells": [
  {
   "cell_type": "code",
   "execution_count": 1,
   "metadata": {},
   "outputs": [
    {
     "name": "stdout",
     "output_type": "stream",
     "text": [
      "Collecting razorpay\n",
      "  Downloading razorpay-1.2.0-py3-none-any.whl (162 kB)\n",
      "Requirement already satisfied: requests in c:\\users\\vicky\\anaconda3\\lib\\site-packages (from razorpay) (2.24.0)\n",
      "Requirement already satisfied: idna<3,>=2.5 in c:\\users\\vicky\\anaconda3\\lib\\site-packages (from requests->razorpay) (2.10)\n",
      "Requirement already satisfied: chardet<4,>=3.0.2 in c:\\users\\vicky\\anaconda3\\lib\\site-packages (from requests->razorpay) (3.0.4)\n",
      "Requirement already satisfied: certifi>=2017.4.17 in c:\\users\\vicky\\anaconda3\\lib\\site-packages (from requests->razorpay) (2020.6.20)\n",
      "Requirement already satisfied: urllib3!=1.25.0,!=1.25.1,<1.26,>=1.21.1 in c:\\users\\vicky\\anaconda3\\lib\\site-packages (from requests->razorpay) (1.25.11)\n",
      "Installing collected packages: razorpay\n",
      "Successfully installed razorpay-1.2.0\n"
     ]
    }
   ],
   "source": [
    "!pip install razorpay"
   ]
  },
  {
   "cell_type": "code",
   "execution_count": 36,
   "metadata": {},
   "outputs": [
    {
     "data": {
      "text/plain": [
       "<razorpay.client.Client at 0x251eae56280>"
      ]
     },
     "execution_count": 36,
     "metadata": {},
     "output_type": "execute_result"
    }
   ],
   "source": [
    "import razorpay\n",
    "# client = razorpay.Client(auth=(\"<YOUR_KEY>\", \"<YOUR_SECRET>\"))\n",
    "\n",
    "# YOUR_KEY = '***************'\n",
    "# YOUR_SECRET = '**************'\n",
    "\n",
    "client = razorpay.Client(auth=(YOUR_KEY, YOUR_SECRET))\n",
    "client"
   ]
  },
  {
   "cell_type": "code",
   "execution_count": 40,
   "metadata": {},
   "outputs": [],
   "source": [
    "# client"
   ]
  },
  {
   "cell_type": "code",
   "execution_count": 16,
   "metadata": {
    "scrolled": true
   },
   "outputs": [
    {
     "name": "stdout",
     "output_type": "stream",
     "text": [
      "{'count': 10,\n",
      " 'entity': 'collection',\n",
      " 'items': [{'amount': 100,\n",
      "            'amount_due': 100,\n",
      "            'amount_paid': 0,\n",
      "            'attempts': 0,\n",
      "            'created_at': 1632549399,\n",
      "            'currency': 'INR',\n",
      "            'entity': 'order',\n",
      "            'id': 'order_I1aetvcXrKocxg',\n",
      "            'notes': [],\n",
      "            'offer_id': None,\n",
      "            'receipt': 'order_rcptid_11',\n",
      "            'status': 'created'},\n",
      "           {'amount': 500,\n",
      "            'amount_due': 500,\n",
      "            'amount_paid': 0,\n",
      "            'attempts': 0,\n",
      "            'created_at': 1632549285,\n",
      "            'currency': 'INR',\n",
      "            'entity': 'order',\n",
      "            'id': 'order_I1actCirU9dK2k',\n",
      "            'notes': [],\n",
      "            'offer_id': None,\n",
      "            'receipt': 'order_rcptid_11',\n",
      "            'status': 'created'},\n",
      "           {'amount': 1000,\n",
      "            'amount_due': 1000,\n",
      "            'amount_paid': 0,\n",
      "            'attempts': 0,\n",
      "            'created_at': 1632542850,\n",
      "            'currency': 'INR',\n",
      "            'entity': 'order',\n",
      "            'id': 'order_I1YnbVD13E1Ukx',\n",
      "            'notes': [],\n",
      "            'offer_id': None,\n",
      "            'receipt': None,\n",
      "            'status': 'created'},\n",
      "           {'amount': 100,\n",
      "            'amount_due': 100,\n",
      "            'amount_paid': 0,\n",
      "            'attempts': 1,\n",
      "            'created_at': 1632542763,\n",
      "            'currency': 'INR',\n",
      "            'entity': 'order',\n",
      "            'id': 'order_I1Ym4Sx3N04K04',\n",
      "            'notes': [],\n",
      "            'offer_id': None,\n",
      "            'receipt': None,\n",
      "            'status': 'attempted'},\n",
      "           {'amount': 100,\n",
      "            'amount_due': 100,\n",
      "            'amount_paid': 0,\n",
      "            'attempts': 1,\n",
      "            'created_at': 1632540554,\n",
      "            'currency': 'INR',\n",
      "            'entity': 'order',\n",
      "            'id': 'order_I1Y9AyrrP4loX4',\n",
      "            'notes': [],\n",
      "            'offer_id': None,\n",
      "            'receipt': None,\n",
      "            'status': 'attempted'},\n",
      "           {'amount': 500,\n",
      "            'amount_due': 0,\n",
      "            'amount_paid': 500,\n",
      "            'attempts': 1,\n",
      "            'created_at': 1632539494,\n",
      "            'currency': 'INR',\n",
      "            'entity': 'order',\n",
      "            'id': 'order_I1XqWEBAN1kSBb',\n",
      "            'notes': {'Download Reels': 'At a cost of 5 rupees to '\n",
      "                                        'imvickykumar999@okicici'},\n",
      "            'offer_id': None,\n",
      "            'receipt': '12345',\n",
      "            'status': 'paid'},\n",
      "           {'amount': 1000,\n",
      "            'amount_due': 1000,\n",
      "            'amount_paid': 0,\n",
      "            'attempts': 2,\n",
      "            'created_at': 1632514725,\n",
      "            'currency': 'INR',\n",
      "            'entity': 'order',\n",
      "            'id': 'order_I1QoRwzKlM7Ggx',\n",
      "            'notes': [],\n",
      "            'offer_id': None,\n",
      "            'receipt': None,\n",
      "            'status': 'attempted'},\n",
      "           {'amount': 1000,\n",
      "            'amount_due': 1000,\n",
      "            'amount_paid': 0,\n",
      "            'attempts': 0,\n",
      "            'created_at': 1632514677,\n",
      "            'currency': 'INR',\n",
      "            'entity': 'order',\n",
      "            'id': 'order_I1QnbAP1RHtSU6',\n",
      "            'notes': [],\n",
      "            'offer_id': None,\n",
      "            'receipt': None,\n",
      "            'status': 'created'},\n",
      "           {'amount': 1000,\n",
      "            'amount_due': 1000,\n",
      "            'amount_paid': 0,\n",
      "            'attempts': 0,\n",
      "            'created_at': 1632511693,\n",
      "            'currency': 'INR',\n",
      "            'entity': 'order',\n",
      "            'id': 'order_I1Px4muYaPg1tV',\n",
      "            'notes': [],\n",
      "            'offer_id': None,\n",
      "            'receipt': None,\n",
      "            'status': 'created'},\n",
      "           {'amount': 1000,\n",
      "            'amount_due': 1000,\n",
      "            'amount_paid': 0,\n",
      "            'attempts': 0,\n",
      "            'created_at': 1632511348,\n",
      "            'currency': 'INR',\n",
      "            'entity': 'order',\n",
      "            'id': 'order_I1Pqza8CfVpf16',\n",
      "            'notes': [],\n",
      "            'offer_id': None,\n",
      "            'receipt': None,\n",
      "            'status': 'created'}]}\n"
     ]
    }
   ],
   "source": [
    "from pprint import pprint as p\n",
    "p(client.order.fetch_all())"
   ]
  },
  {
   "cell_type": "code",
   "execution_count": 24,
   "metadata": {},
   "outputs": [
    {
     "data": {
      "text/plain": [
       "{'id': 'order_I1Px4muYaPg1tV',\n",
       " 'entity': 'order',\n",
       " 'amount': 1000,\n",
       " 'amount_paid': 0,\n",
       " 'amount_due': 1000,\n",
       " 'currency': 'INR',\n",
       " 'receipt': None,\n",
       " 'offer_id': None,\n",
       " 'status': 'created',\n",
       " 'attempts': 0,\n",
       " 'notes': [],\n",
       " 'created_at': 1632511693}"
      ]
     },
     "execution_count": 24,
     "metadata": {},
     "output_type": "execute_result"
    }
   ],
   "source": [
    "client.order.fetch(\"order_I1Px4muYaPg1tV\")"
   ]
  },
  {
   "cell_type": "code",
   "execution_count": 9,
   "metadata": {},
   "outputs": [
    {
     "data": {
      "text/html": [
       "<form><script src=\"https://checkout.razorpay.com/v1/payment-button.js\" data-payment_button_id=\"pl_I1Y8TaFpS4Ds6g\" async> </script> </form>"
      ],
      "text/plain": [
       "<IPython.core.display.HTML object>"
      ]
     },
     "metadata": {},
     "output_type": "display_data"
    }
   ],
   "source": [
    "# from IPython.core.display import display, HTML\n",
    "# display(HTML('<form><script src=\"https://checkout.razorpay.com/v1/payment-button.js\" data-payment_button_id=\"pl_I1Y8TaFpS4Ds6g\" async> </script> </form>')) "
   ]
  },
  {
   "cell_type": "code",
   "execution_count": 23,
   "metadata": {},
   "outputs": [
    {
     "data": {
      "text/plain": [
       "{'id': 'order_I1bPHliiJre628',\n",
       " 'entity': 'order',\n",
       " 'amount': 100,\n",
       " 'amount_paid': 0,\n",
       " 'amount_due': 100,\n",
       " 'currency': 'INR',\n",
       " 'receipt': 'order_I1Px4muYaPg1tV',\n",
       " 'offer_id': None,\n",
       " 'status': 'created',\n",
       " 'attempts': 0,\n",
       " 'notes': [],\n",
       " 'created_at': 1632552033}"
      ]
     },
     "execution_count": 23,
     "metadata": {},
     "output_type": "execute_result"
    }
   ],
   "source": [
    "import razorpay\n",
    "data = { \"amount\": 100, \"currency\": \"INR\", \"receipt\": \"order_I1Px4muYaPg1tV\" } # 100 paise = 1 rupee\n",
    "payment = client.order.create(data=data)\n",
    "payment"
   ]
  },
  {
   "cell_type": "markdown",
   "metadata": {},
   "source": [
    "### amount : integer, The transaction amount, expressed in the currency subunit, such as paise (in case of INR). For example, for an actual amount of ₹299.35, the value of this field should be 29935."
   ]
  },
  {
   "cell_type": "code",
   "execution_count": 20,
   "metadata": {
    "scrolled": true
   },
   "outputs": [
    {
     "data": {
      "text/plain": [
       "{'id': 'pay_I1PPJf3TnTlS4O',\n",
       " 'entity': 'payment',\n",
       " 'amount': 1200,\n",
       " 'currency': 'INR',\n",
       " 'status': 'captured',\n",
       " 'order_id': 'order_I1POuuqgU4PgEK',\n",
       " 'invoice_id': None,\n",
       " 'international': False,\n",
       " 'method': 'upi',\n",
       " 'amount_refunded': 0,\n",
       " 'refund_status': None,\n",
       " 'captured': True,\n",
       " 'description': '#I1PNV6Px4EjNPe',\n",
       " 'card_id': None,\n",
       " 'bank': None,\n",
       " 'wallet': None,\n",
       " 'vpa': 'imvickykumar999@okicici',\n",
       " 'email': 'imvickykumar999@gmail.com',\n",
       " 'contact': '+918239957923',\n",
       " 'notes': {'testing link': 'Vicks payments for my website.'},\n",
       " 'fee': 28,\n",
       " 'tax': 4,\n",
       " 'error_code': None,\n",
       " 'error_description': None,\n",
       " 'error_source': None,\n",
       " 'error_step': None,\n",
       " 'error_reason': None,\n",
       " 'acquirer_data': {'rrn': '126838630946'},\n",
       " 'created_at': 1632509776}"
      ]
     },
     "execution_count": 20,
     "metadata": {},
     "output_type": "execute_result"
    }
   ],
   "source": [
    "client.payment.fetch(\"pay_I1PPJf3TnTlS4O\")"
   ]
  },
  {
   "cell_type": "code",
   "execution_count": 21,
   "metadata": {},
   "outputs": [
    {
     "data": {
      "text/plain": [
       "{'entity': 'collection',\n",
       " 'count': 8,\n",
       " 'items': [{'id': 'pay_I1YmE7GvskqDmS',\n",
       "   'entity': 'payment',\n",
       "   'amount': 100,\n",
       "   'currency': 'INR',\n",
       "   'status': 'failed',\n",
       "   'order_id': 'order_I1Ym4Sx3N04K04',\n",
       "   'invoice_id': None,\n",
       "   'international': False,\n",
       "   'method': 'upi',\n",
       "   'amount_refunded': 0,\n",
       "   'refund_status': None,\n",
       "   'captured': False,\n",
       "   'description': None,\n",
       "   'card_id': None,\n",
       "   'bank': None,\n",
       "   'wallet': None,\n",
       "   'vpa': None,\n",
       "   'email': 'imvickykumar999@gmail.com',\n",
       "   'contact': '+918239957923',\n",
       "   'notes': {'email': 'imvickykumar999@gmail.com', 'phone': '8239957923'},\n",
       "   'fee': None,\n",
       "   'tax': None,\n",
       "   'error_code': 'BAD_REQUEST_ERROR',\n",
       "   'error_description': 'Payment processing cancelled by user',\n",
       "   'error_source': 'customer',\n",
       "   'error_step': 'payment_authentication',\n",
       "   'error_reason': 'payment_cancelled',\n",
       "   'acquirer_data': {'rrn': None},\n",
       "   'created_at': 1632542772},\n",
       "  {'id': 'pay_I1Y9lrm89Vzcnd',\n",
       "   'entity': 'payment',\n",
       "   'amount': 100,\n",
       "   'currency': 'INR',\n",
       "   'status': 'failed',\n",
       "   'order_id': 'order_I1Y9AyrrP4loX4',\n",
       "   'invoice_id': None,\n",
       "   'international': False,\n",
       "   'method': 'upi',\n",
       "   'amount_refunded': 0,\n",
       "   'refund_status': None,\n",
       "   'captured': False,\n",
       "   'description': None,\n",
       "   'card_id': None,\n",
       "   'bank': None,\n",
       "   'wallet': None,\n",
       "   'vpa': None,\n",
       "   'email': 'imvickykumar999@gmail.com',\n",
       "   'contact': '+918239957923',\n",
       "   'notes': {'email': 'imvickykumar999@gmail.com', 'phone': '8239957923'},\n",
       "   'fee': None,\n",
       "   'tax': None,\n",
       "   'error_code': 'BAD_REQUEST_ERROR',\n",
       "   'error_description': 'Payment was not completed on time.',\n",
       "   'error_source': 'customer',\n",
       "   'error_step': 'payment_authentication',\n",
       "   'error_reason': 'payment_timed_out',\n",
       "   'acquirer_data': {'rrn': None},\n",
       "   'created_at': 1632540588},\n",
       "  {'id': 'pay_I1XqoaanjCqLf2',\n",
       "   'entity': 'payment',\n",
       "   'amount': 500,\n",
       "   'currency': 'INR',\n",
       "   'status': 'captured',\n",
       "   'order_id': 'order_I1XqWEBAN1kSBb',\n",
       "   'invoice_id': None,\n",
       "   'international': False,\n",
       "   'method': 'upi',\n",
       "   'amount_refunded': 0,\n",
       "   'refund_status': None,\n",
       "   'captured': True,\n",
       "   'description': '#I1XpygzIPpXmkU',\n",
       "   'card_id': None,\n",
       "   'bank': None,\n",
       "   'wallet': None,\n",
       "   'vpa': 'imvickykumar999@okicici',\n",
       "   'email': 'imvickykumar999@gmail.com',\n",
       "   'contact': '+918239957923',\n",
       "   'notes': {'Download Reels': 'At a cost of 5 rupees to imvickykumar999@okicici'},\n",
       "   'fee': 12,\n",
       "   'tax': 2,\n",
       "   'error_code': None,\n",
       "   'error_description': None,\n",
       "   'error_source': None,\n",
       "   'error_step': None,\n",
       "   'error_reason': None,\n",
       "   'acquirer_data': {'rrn': '126839594361'},\n",
       "   'created_at': 1632539511},\n",
       "  {'id': 'pay_I1QpkMnoZAEowE',\n",
       "   'entity': 'payment',\n",
       "   'amount': 1000,\n",
       "   'currency': 'INR',\n",
       "   'status': 'failed',\n",
       "   'order_id': 'order_I1QoRwzKlM7Ggx',\n",
       "   'invoice_id': None,\n",
       "   'international': False,\n",
       "   'method': 'upi',\n",
       "   'amount_refunded': 0,\n",
       "   'refund_status': None,\n",
       "   'captured': False,\n",
       "   'description': None,\n",
       "   'card_id': None,\n",
       "   'bank': None,\n",
       "   'wallet': None,\n",
       "   'vpa': 'imvickykumar999@okicici',\n",
       "   'email': 'imvickykumar999@gmail.com',\n",
       "   'contact': '+918239957923',\n",
       "   'notes': {'email': 'imvickykumar999@gmail.com',\n",
       "    'phone_number': '8239957923'},\n",
       "   'fee': None,\n",
       "   'tax': None,\n",
       "   'error_code': 'BAD_REQUEST_ERROR',\n",
       "   'error_description': 'Payment rejected by customer',\n",
       "   'error_source': 'customer',\n",
       "   'error_step': 'payment_authentication',\n",
       "   'error_reason': 'payment_cancelled',\n",
       "   'acquirer_data': {'rrn': None},\n",
       "   'created_at': 1632514799},\n",
       "  {'id': 'pay_I1QDWs56ExmAsM',\n",
       "   'entity': 'payment',\n",
       "   'amount': 1200,\n",
       "   'currency': 'INR',\n",
       "   'status': 'captured',\n",
       "   'order_id': 'order_I1POTkXTHT8dRT',\n",
       "   'invoice_id': None,\n",
       "   'international': False,\n",
       "   'method': 'upi',\n",
       "   'amount_refunded': 0,\n",
       "   'refund_status': None,\n",
       "   'captured': True,\n",
       "   'description': None,\n",
       "   'card_id': None,\n",
       "   'bank': None,\n",
       "   'wallet': None,\n",
       "   'vpa': 'imvickykumar999@okicici',\n",
       "   'email': None,\n",
       "   'contact': None,\n",
       "   'notes': {'testing link': 'Vicks payments for my website.'},\n",
       "   'fee': 28,\n",
       "   'tax': 4,\n",
       "   'error_code': None,\n",
       "   'error_description': None,\n",
       "   'error_source': None,\n",
       "   'error_step': None,\n",
       "   'error_reason': None,\n",
       "   'acquirer_data': {'rrn': '126838712172'},\n",
       "   'created_at': 1632512628},\n",
       "  {'id': 'pay_I1PPJf3TnTlS4O',\n",
       "   'entity': 'payment',\n",
       "   'amount': 1200,\n",
       "   'currency': 'INR',\n",
       "   'status': 'captured',\n",
       "   'order_id': 'order_I1POuuqgU4PgEK',\n",
       "   'invoice_id': None,\n",
       "   'international': False,\n",
       "   'method': 'upi',\n",
       "   'amount_refunded': 0,\n",
       "   'refund_status': None,\n",
       "   'captured': True,\n",
       "   'description': '#I1PNV6Px4EjNPe',\n",
       "   'card_id': None,\n",
       "   'bank': None,\n",
       "   'wallet': None,\n",
       "   'vpa': 'imvickykumar999@okicici',\n",
       "   'email': 'imvickykumar999@gmail.com',\n",
       "   'contact': '+918239957923',\n",
       "   'notes': {'testing link': 'Vicks payments for my website.'},\n",
       "   'fee': 28,\n",
       "   'tax': 4,\n",
       "   'error_code': None,\n",
       "   'error_description': None,\n",
       "   'error_source': None,\n",
       "   'error_step': None,\n",
       "   'error_reason': None,\n",
       "   'acquirer_data': {'rrn': '126838630946'},\n",
       "   'created_at': 1632509776},\n",
       "  {'id': 'pay_I1OTOK7hFxDNSH',\n",
       "   'entity': 'payment',\n",
       "   'amount': 1000,\n",
       "   'currency': 'INR',\n",
       "   'status': 'refunded',\n",
       "   'order_id': 'order_I1OT633cfFPyAs',\n",
       "   'invoice_id': None,\n",
       "   'international': False,\n",
       "   'method': 'upi',\n",
       "   'amount_refunded': 1000,\n",
       "   'refund_status': 'full',\n",
       "   'captured': True,\n",
       "   'description': None,\n",
       "   'card_id': None,\n",
       "   'bank': None,\n",
       "   'wallet': None,\n",
       "   'vpa': 'imvickykumar999@okicici',\n",
       "   'email': 'imvickykumar999@gmail.com',\n",
       "   'contact': '+918239957923',\n",
       "   'notes': {'email': 'imvickykumar999@gmail.com',\n",
       "    'phone': '8239957923',\n",
       "    'name': 'Vicky Kumar',\n",
       "    'address': 'RIET College bhankrota Sirsi road\\nRIET College',\n",
       "    'city': 'JAIPUR',\n",
       "    'pincode': '302026',\n",
       "    'state': 'Rajasthan'},\n",
       "   'fee': 24,\n",
       "   'tax': 4,\n",
       "   'error_code': None,\n",
       "   'error_description': None,\n",
       "   'error_source': None,\n",
       "   'error_step': None,\n",
       "   'error_reason': None,\n",
       "   'acquirer_data': {'rrn': '126738429483'},\n",
       "   'created_at': 1632506486},\n",
       "  {'id': 'pay_I1OAyZ7Oq74QHe',\n",
       "   'entity': 'payment',\n",
       "   'amount': 1000,\n",
       "   'currency': 'INR',\n",
       "   'status': 'captured',\n",
       "   'order_id': 'order_I1OAXea8opokt9',\n",
       "   'invoice_id': None,\n",
       "   'international': False,\n",
       "   'method': 'upi',\n",
       "   'amount_refunded': 600,\n",
       "   'refund_status': 'partial',\n",
       "   'captured': True,\n",
       "   'description': None,\n",
       "   'card_id': None,\n",
       "   'bank': None,\n",
       "   'wallet': None,\n",
       "   'vpa': 'imvickykumar999@okicici',\n",
       "   'email': 'imvickykumar999@gmail.com',\n",
       "   'contact': '+918239957923',\n",
       "   'notes': {'email': 'imvickykumar999@gmail.com',\n",
       "    'phone_number': '8239957923'},\n",
       "   'fee': 24,\n",
       "   'tax': 4,\n",
       "   'error_code': None,\n",
       "   'error_description': None,\n",
       "   'error_source': None,\n",
       "   'error_step': None,\n",
       "   'error_reason': None,\n",
       "   'acquirer_data': {'rrn': '126738325141'},\n",
       "   'created_at': 1632505440}]}"
      ]
     },
     "execution_count": 21,
     "metadata": {},
     "output_type": "execute_result"
    }
   ],
   "source": [
    "client.payment.fetch_all()"
   ]
  },
  {
   "cell_type": "code",
   "execution_count": 29,
   "metadata": {
    "scrolled": true
   },
   "outputs": [],
   "source": [
    "# client.payment.capture(\"pay_I1XqoaanjCqLf2\", \"200\", {\"currency\":\"INR\"})"
   ]
  },
  {
   "cell_type": "code",
   "execution_count": 34,
   "metadata": {},
   "outputs": [
    {
     "data": {
      "text/plain": [
       "{'id': 'rfnd_I1bbcA6QwwDVCA',\n",
       " 'entity': 'refund',\n",
       " 'amount': 360,\n",
       " 'currency': 'INR',\n",
       " 'payment_id': 'pay_I1QDWs56ExmAsM',\n",
       " 'notes': [],\n",
       " 'receipt': None,\n",
       " 'acquirer_data': {'rrn': None},\n",
       " 'created_at': 1632552734,\n",
       " 'batch_id': None,\n",
       " 'status': 'processed',\n",
       " 'speed_processed': 'normal',\n",
       " 'speed_requested': 'normal'}"
      ]
     },
     "execution_count": 34,
     "metadata": {},
     "output_type": "execute_result"
    }
   ],
   "source": [
    "client.payment.refund(\"pay_I1QDWs56ExmAsM\", \"360\")"
   ]
  },
  {
   "cell_type": "code",
   "execution_count": 32,
   "metadata": {},
   "outputs": [
    {
     "data": {
      "text/plain": [
       "{'id': 'rfnd_I1bYYQuL0E03WQ',\n",
       " 'entity': 'refund',\n",
       " 'amount': 200,\n",
       " 'currency': 'INR',\n",
       " 'payment_id': 'pay_I1QDWs56ExmAsM',\n",
       " 'notes': [],\n",
       " 'receipt': None,\n",
       " 'acquirer_data': {'rrn': '126812696812'},\n",
       " 'created_at': 1632552560,\n",
       " 'batch_id': None,\n",
       " 'status': 'processed',\n",
       " 'speed_processed': 'normal',\n",
       " 'speed_requested': 'normal'}"
      ]
     },
     "execution_count": 32,
     "metadata": {},
     "output_type": "execute_result"
    }
   ],
   "source": [
    "client.refund.fetch(\"rfnd_I1bYYQuL0E03WQ\")"
   ]
  },
  {
   "cell_type": "code",
   "execution_count": 35,
   "metadata": {
    "scrolled": true
   },
   "outputs": [
    {
     "data": {
      "text/plain": [
       "{'entity': 'collection',\n",
       " 'count': 5,\n",
       " 'items': [{'id': 'rfnd_I1bbcA6QwwDVCA',\n",
       "   'entity': 'refund',\n",
       "   'amount': 360,\n",
       "   'currency': 'INR',\n",
       "   'payment_id': 'pay_I1QDWs56ExmAsM',\n",
       "   'notes': [],\n",
       "   'receipt': None,\n",
       "   'acquirer_data': {'rrn': '126812700328'},\n",
       "   'created_at': 1632552734,\n",
       "   'batch_id': None,\n",
       "   'status': 'processed',\n",
       "   'speed_processed': 'normal',\n",
       "   'speed_requested': 'normal'},\n",
       "  {'id': 'rfnd_I1bYYQuL0E03WQ',\n",
       "   'entity': 'refund',\n",
       "   'amount': 200,\n",
       "   'currency': 'INR',\n",
       "   'payment_id': 'pay_I1QDWs56ExmAsM',\n",
       "   'notes': [],\n",
       "   'receipt': None,\n",
       "   'acquirer_data': {'rrn': '126812696812'},\n",
       "   'created_at': 1632552560,\n",
       "   'batch_id': None,\n",
       "   'status': 'processed',\n",
       "   'speed_processed': 'normal',\n",
       "   'speed_requested': 'normal'},\n",
       "  {'id': 'rfnd_I1PWWW0xASvAXg',\n",
       "   'entity': 'refund',\n",
       "   'amount': 300,\n",
       "   'currency': 'INR',\n",
       "   'payment_id': 'pay_I1OAyZ7Oq74QHe',\n",
       "   'notes': {'comment': ''},\n",
       "   'receipt': None,\n",
       "   'acquirer_data': {'rrn': '126800073771'},\n",
       "   'created_at': 1632510185,\n",
       "   'batch_id': None,\n",
       "   'status': 'processed',\n",
       "   'speed_processed': 'instant',\n",
       "   'speed_requested': 'optimum'},\n",
       "  {'id': 'rfnd_I1P3LUJedm4njd',\n",
       "   'entity': 'refund',\n",
       "   'amount': 300,\n",
       "   'currency': 'INR',\n",
       "   'payment_id': 'pay_I1OAyZ7Oq74QHe',\n",
       "   'notes': {'comment': ''},\n",
       "   'receipt': None,\n",
       "   'acquirer_data': {'rrn': '126838558970'},\n",
       "   'created_at': 1632508528,\n",
       "   'batch_id': None,\n",
       "   'status': 'processed',\n",
       "   'speed_processed': 'normal',\n",
       "   'speed_requested': 'normal'},\n",
       "  {'id': 'rfnd_I1OyjH4p3zdwjf',\n",
       "   'entity': 'refund',\n",
       "   'amount': 1000,\n",
       "   'currency': 'INR',\n",
       "   'payment_id': 'pay_I1OTOK7hFxDNSH',\n",
       "   'notes': {'comment': ''},\n",
       "   'receipt': None,\n",
       "   'acquirer_data': {'rrn': '126800057031'},\n",
       "   'created_at': 1632508266,\n",
       "   'batch_id': None,\n",
       "   'status': 'processed',\n",
       "   'speed_processed': 'instant',\n",
       "   'speed_requested': 'optimum'}]}"
      ]
     },
     "execution_count": 35,
     "metadata": {},
     "output_type": "execute_result"
    }
   ],
   "source": [
    "client.refund.all()"
   ]
  },
  {
   "cell_type": "markdown",
   "metadata": {},
   "source": [
    "# [Refunded Money](https://dashboard.razorpay.com/app/payments/pay_I1QDWs56ExmAsM)"
   ]
  },
  {
   "cell_type": "code",
   "execution_count": 41,
   "metadata": {
    "scrolled": true
   },
   "outputs": [
    {
     "data": {
      "text/plain": [
       "{'entity': 'collection',\n",
       " 'count': 1,\n",
       " 'items': [{'id': 'inv_I1PapCnwYup4cr',\n",
       "   'entity': 'invoice',\n",
       "   'receipt': '123',\n",
       "   'invoice_number': '123',\n",
       "   'customer_id': 'cust_I1OBe1O1QloRle',\n",
       "   'customer_details': {'id': 'cust_I1OBe1O1QloRle',\n",
       "    'name': None,\n",
       "    'email': 'imvickykumar999@gmail.com',\n",
       "    'contact': '+918239957923',\n",
       "    'gstin': None,\n",
       "    'billing_address': None,\n",
       "    'shipping_address': None,\n",
       "    'customer_name': None,\n",
       "    'customer_email': 'imvickykumar999@gmail.com',\n",
       "    'customer_contact': '+918239957923'},\n",
       "   'order_id': 'order_I1Pb4cxnGXcjxR',\n",
       "   'line_items': [{'id': 'li_I1Pb4bC2bAVKtt',\n",
       "     'item_id': 'item_I1Pa0vvN4xMnLk',\n",
       "     'ref_id': None,\n",
       "     'ref_type': None,\n",
       "     'name': 'Test',\n",
       "     'description': 'pay',\n",
       "     'amount': 200,\n",
       "     'unit_amount': 200,\n",
       "     'gross_amount': 200,\n",
       "     'tax_amount': 0,\n",
       "     'taxable_amount': 200,\n",
       "     'net_amount': 200,\n",
       "     'currency': 'INR',\n",
       "     'type': 'invoice',\n",
       "     'tax_inclusive': False,\n",
       "     'hsn_code': None,\n",
       "     'sac_code': None,\n",
       "     'tax_rate': None,\n",
       "     'unit': None,\n",
       "     'quantity': 1,\n",
       "     'taxes': []}],\n",
       "   'payment_id': None,\n",
       "   'status': 'issued',\n",
       "   'expire_by': None,\n",
       "   'issued_at': 1632510444,\n",
       "   'paid_at': None,\n",
       "   'cancelled_at': None,\n",
       "   'expired_at': None,\n",
       "   'sms_status': 'sent',\n",
       "   'email_status': 'sent',\n",
       "   'date': 1632510314,\n",
       "   'terms': None,\n",
       "   'partial_payment': False,\n",
       "   'gross_amount': 200,\n",
       "   'tax_amount': 0,\n",
       "   'taxable_amount': 200,\n",
       "   'amount': 200,\n",
       "   'amount_paid': 0,\n",
       "   'amount_due': 200,\n",
       "   'currency': 'INR',\n",
       "   'currency_symbol': '₹',\n",
       "   'description': 'testing',\n",
       "   'notes': [],\n",
       "   'comment': None,\n",
       "   'short_url': 'https://rzp.io/i/rBC0lMi1gh',\n",
       "   'view_less': True,\n",
       "   'billing_start': None,\n",
       "   'billing_end': None,\n",
       "   'type': 'invoice',\n",
       "   'group_taxes_discounts': False,\n",
       "   'created_at': 1632510430,\n",
       "   'idempotency_key': None}]}"
      ]
     },
     "execution_count": 41,
     "metadata": {},
     "output_type": "execute_result"
    }
   ],
   "source": [
    "client.invoice.all()"
   ]
  },
  {
   "cell_type": "code",
   "execution_count": null,
   "metadata": {},
   "outputs": [],
   "source": []
  }
 ],
 "metadata": {
  "kernelspec": {
   "display_name": "Python 3",
   "language": "python",
   "name": "python3"
  },
  "language_info": {
   "codemirror_mode": {
    "name": "ipython",
    "version": 3
   },
   "file_extension": ".py",
   "mimetype": "text/x-python",
   "name": "python",
   "nbconvert_exporter": "python",
   "pygments_lexer": "ipython3",
   "version": "3.8.3"
  }
 },
 "nbformat": 4,
 "nbformat_minor": 4
}
