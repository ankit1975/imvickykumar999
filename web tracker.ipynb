{
 "cells": [
  {
   "cell_type": "code",
   "execution_count": 1,
   "metadata": {},
   "outputs": [
    {
     "data": {
      "text/html": [
       "<div>\n",
       "<style scoped>\n",
       "    .dataframe tbody tr th:only-of-type {\n",
       "        vertical-align: middle;\n",
       "    }\n",
       "\n",
       "    .dataframe tbody tr th {\n",
       "        vertical-align: top;\n",
       "    }\n",
       "\n",
       "    .dataframe thead th {\n",
       "        text-align: right;\n",
       "    }\n",
       "</style>\n",
       "<table border=\"1\" class=\"dataframe\">\n",
       "  <thead>\n",
       "    <tr style=\"text-align: right;\">\n",
       "      <th></th>\n",
       "      <th>Country</th>\n",
       "      <th>Cases</th>\n",
       "      <th>Deaths</th>\n",
       "      <th>Region</th>\n",
       "    </tr>\n",
       "  </thead>\n",
       "  <tbody>\n",
       "    <tr>\n",
       "      <th>0</th>\n",
       "      <td>United States</td>\n",
       "      <td>10708728</td>\n",
       "      <td>247398</td>\n",
       "      <td>North America</td>\n",
       "    </tr>\n",
       "    <tr>\n",
       "      <th>1</th>\n",
       "      <td>India</td>\n",
       "      <td>8685084</td>\n",
       "      <td>128179</td>\n",
       "      <td>Asia</td>\n",
       "    </tr>\n",
       "    <tr>\n",
       "      <th>2</th>\n",
       "      <td>Brazil</td>\n",
       "      <td>5749007</td>\n",
       "      <td>163406</td>\n",
       "      <td>South America</td>\n",
       "    </tr>\n",
       "    <tr>\n",
       "      <th>3</th>\n",
       "      <td>France</td>\n",
       "      <td>1865538</td>\n",
       "      <td>42535</td>\n",
       "      <td>Europe</td>\n",
       "    </tr>\n",
       "    <tr>\n",
       "      <th>4</th>\n",
       "      <td>Russia</td>\n",
       "      <td>1858568</td>\n",
       "      <td>32032</td>\n",
       "      <td>Europe</td>\n",
       "    </tr>\n",
       "    <tr>\n",
       "      <th>...</th>\n",
       "      <td>...</td>\n",
       "      <td>...</td>\n",
       "      <td>...</td>\n",
       "      <td>...</td>\n",
       "    </tr>\n",
       "    <tr>\n",
       "      <th>213</th>\n",
       "      <td>MS Zaandam</td>\n",
       "      <td>9</td>\n",
       "      <td>2</td>\n",
       "      <td>NaN</td>\n",
       "    </tr>\n",
       "    <tr>\n",
       "      <th>214</th>\n",
       "      <td>Anguilla</td>\n",
       "      <td>3</td>\n",
       "      <td>0</td>\n",
       "      <td>North America</td>\n",
       "    </tr>\n",
       "    <tr>\n",
       "      <th>215</th>\n",
       "      <td>Marshall Islands</td>\n",
       "      <td>1</td>\n",
       "      <td>0</td>\n",
       "      <td>Australia/Oceania</td>\n",
       "    </tr>\n",
       "    <tr>\n",
       "      <th>216</th>\n",
       "      <td>Vanuatu</td>\n",
       "      <td>1</td>\n",
       "      <td>0</td>\n",
       "      <td>Australia/Oceania</td>\n",
       "    </tr>\n",
       "    <tr>\n",
       "      <th>217</th>\n",
       "      <td>Wallis &amp; Futuna</td>\n",
       "      <td>1</td>\n",
       "      <td>0</td>\n",
       "      <td>Australia/Oceania</td>\n",
       "    </tr>\n",
       "  </tbody>\n",
       "</table>\n",
       "<p>218 rows × 4 columns</p>\n",
       "</div>"
      ],
      "text/plain": [
       "              Country     Cases  Deaths             Region\n",
       "0       United States  10708728  247398      North America\n",
       "1               India   8685084  128179               Asia\n",
       "2              Brazil   5749007  163406      South America\n",
       "3              France   1865538   42535             Europe\n",
       "4              Russia   1858568   32032             Europe\n",
       "..                ...       ...     ...                ...\n",
       "213        MS Zaandam         9       2                NaN\n",
       "214          Anguilla         3       0      North America\n",
       "215  Marshall Islands         1       0  Australia/Oceania\n",
       "216           Vanuatu         1       0  Australia/Oceania\n",
       "217   Wallis & Futuna         1       0  Australia/Oceania\n",
       "\n",
       "[218 rows x 4 columns]"
      ]
     },
     "execution_count": 1,
     "metadata": {},
     "output_type": "execute_result"
    }
   ],
   "source": [
    "import requests\n",
    "from bs4 import BeautifulSoup\n",
    "import pandas as pd\n",
    "\n",
    "url = 'https://www.worldometers.info/coronavirus/countries-where-coronavirus-has-spread/'\n",
    "page = requests.get(url)\n",
    "soup  = BeautifulSoup(page.content, 'html5lib')\n",
    "cov = 'covid.html'\n",
    "\n",
    "with open(cov, \"w\", encoding='utf-8') as f:\n",
    "    f.write(str(soup))\n",
    "\n",
    "hcv = pd.read_html(cov)\n",
    "hcv[0]"
   ]
  },
  {
   "cell_type": "code",
   "execution_count": 2,
   "metadata": {},
   "outputs": [
    {
     "name": "stdout",
     "output_type": "stream",
     "text": [
      "Enter URL : \n"
     ]
    },
    {
     "data": {
      "text/html": [
       "<div>\n",
       "<style scoped>\n",
       "    .dataframe tbody tr th:only-of-type {\n",
       "        vertical-align: middle;\n",
       "    }\n",
       "\n",
       "    .dataframe tbody tr th {\n",
       "        vertical-align: top;\n",
       "    }\n",
       "\n",
       "    .dataframe thead th {\n",
       "        text-align: right;\n",
       "    }\n",
       "</style>\n",
       "<table border=\"1\" class=\"dataframe\">\n",
       "  <thead>\n",
       "    <tr style=\"text-align: right;\">\n",
       "      <th></th>\n",
       "      <th>0</th>\n",
       "      <th>1</th>\n",
       "    </tr>\n",
       "  </thead>\n",
       "  <tbody>\n",
       "    <tr>\n",
       "      <th>0</th>\n",
       "      <td>M.R.P.</td>\n",
       "      <td>₹ 2,990.00 #listPriceLegalMessageText { margin...</td>\n",
       "    </tr>\n",
       "    <tr>\n",
       "      <th>1</th>\n",
       "      <td>Deal of the Day:</td>\n",
       "      <td>₹ 999.00  Fulfilled FREE Delivery. Details</td>\n",
       "    </tr>\n",
       "    <tr>\n",
       "      <th>2</th>\n",
       "      <td>NaN</td>\n",
       "      <td>Ends in 07h 06m 05s Deal has ended (function(f...</td>\n",
       "    </tr>\n",
       "    <tr>\n",
       "      <th>3</th>\n",
       "      <td>You Save:</td>\n",
       "      <td>₹ 1,991.00 (67%)</td>\n",
       "    </tr>\n",
       "    <tr>\n",
       "      <th>4</th>\n",
       "      <td>NaN</td>\n",
       "      <td>Inclusive of all taxes</td>\n",
       "    </tr>\n",
       "  </tbody>\n",
       "</table>\n",
       "</div>"
      ],
      "text/plain": [
       "                  0                                                  1\n",
       "0            M.R.P.  ₹ 2,990.00 #listPriceLegalMessageText { margin...\n",
       "1  Deal of the Day:         ₹ 999.00  Fulfilled FREE Delivery. Details\n",
       "2               NaN  Ends in 07h 06m 05s Deal has ended (function(f...\n",
       "3         You Save:                                   ₹ 1,991.00 (67%)\n",
       "4               NaN                             Inclusive of all taxes"
      ]
     },
     "execution_count": 2,
     "metadata": {},
     "output_type": "execute_result"
    }
   ],
   "source": [
    "import requests\n",
    "from bs4 import BeautifulSoup\n",
    "import pandas as pd\n",
    "\n",
    "url = input('Enter URL : ')\n",
    "if url == '':\n",
    "    url = 'https://www.amazon.in/Stone-170-Portable-Bluetooth-Resistant/dp/B07RCML4XR/ref=bmx_3/261-0667681-3448727?_encoding=UTF8&pd_rd_i=B07RCML4XR&pd_rd_r=ac492f60-a1ca-4111-b8a6-1f63693c65a5&pd_rd_w=F3u0F&pd_rd_wg=ywy7X&pf_rd_p=6ecebf30-39df-4321-8203-a101fd2dd6f6&pf_rd_r=ZT50TTWRKZ7K7EBJK7F3&psc=1&refRID=ZT50TTWRKZ7K7EBJK7F3'   \n",
    "\n",
    "headers = {\"User-agent\" : 'Mozilla/5.0 (Windows NT 10.0; Win64; x64) AppleWebKit/537.36 (KHTML, like Gecko) Chrome/83.0.4103.97 Safari/537.36'}\n",
    "page = requests.get(url, headers=headers)\n",
    "soup  = BeautifulSoup(page.content, 'html5lib')\n",
    "\n",
    "with open('amazon.html',\"w\", encoding='utf-8') as f:\n",
    "    f.write(str(soup))\n",
    "\n",
    "hdf = pd.read_html('amazon.html')\n",
    "hdf[0]"
   ]
  },
  {
   "cell_type": "code",
   "execution_count": 10,
   "metadata": {},
   "outputs": [
    {
     "name": "stdout",
     "output_type": "stream",
     "text": [
      "Enter URL : \n"
     ]
    },
    {
     "data": {
      "text/html": [
       "<img src=\"https://images-na.ssl-images-amazon.com/images/I/418yI64fl-L._SS40_.jpg\"/>"
      ],
      "text/plain": [
       "<IPython.core.display.Image object>"
      ]
     },
     "metadata": {},
     "output_type": "display_data"
    },
    {
     "name": "stdout",
     "output_type": "stream",
     "text": [
      "Infinity (JBL) Fuze Pint Deep Bass Dual EQ Bluetooth 5.0 Wireless Portable Speaker (Mystic Blue)\n",
      "₹749.00\n"
     ]
    }
   ],
   "source": [
    "import requests\n",
    "from bs4 import BeautifulSoup\n",
    "from IPython.core.display import Image, display\n",
    "\n",
    "url = input('Enter URL : ')\n",
    "if url == '':\n",
    "    url = 'https://www.amazon.in/Infinity-Fuze-Pint-Portable-Wireless/dp/B07W5VJYK2/ref=bmx_2/261-0667681-3448727?_encoding=UTF8&pd_rd_i=B07W5VJYK2&pd_rd_r=0031ee30-12cc-4004-b051-baa7c9dcfe0e&pd_rd_w=wJIcz&pd_rd_wg=SUuyI&pf_rd_p=6ecebf30-39df-4321-8203-a101fd2dd6f6&pf_rd_r=RDA1K5GFBPDRZK3PKRE8&psc=1&refRID=RDA1K5GFBPDRZK3PKRE8&smid=A14CZOWI0VEHLG'\n",
    "    \n",
    "headers = {\"User-agent\" : 'Mozilla/5.0 (Windows NT 10.0; Win64; x64) AppleWebKit/537.36 (KHTML, like Gecko) Chrome/83.0.4103.97 Safari/537.36'}\n",
    "page = requests.get(url, headers=headers)\n",
    "soup  = BeautifulSoup(page.content, 'html5lib')\n",
    "\n",
    "display(Image(url= soup.find (id= \"altImages\").img['src']))\n",
    "print(soup.find (id= \"productTitle\").text.strip())\n",
    "print(soup.find (id= \"priceblock_dealprice\").text.replace('\\xa0', '').strip())"
   ]
  },
  {
   "cell_type": "code",
   "execution_count": 4,
   "metadata": {},
   "outputs": [
    {
     "name": "stdout",
     "output_type": "stream",
     "text": [
      "Enter URL : \n",
      "pip install vixuploader\n"
     ]
    }
   ],
   "source": [
    "import requests\n",
    "from bs4 import BeautifulSoup\n",
    "\n",
    "url = input('Enter URL : ')\n",
    "if url == '':\n",
    "    url = 'https://pypi.org/project/vixuploader/'\n",
    "    \n",
    "page = requests.get(url)\n",
    "soup = BeautifulSoup(page.content, 'html5lib')\n",
    "\n",
    "lst = soup.find(id= \"pip-command\")\n",
    "print(lst.text)"
   ]
  },
  {
   "cell_type": "markdown",
   "metadata": {},
   "source": [
    "![](https://github.com/imvickykumar999/100th-Repository-Morsetor-python-Package/blob/main/screenshot.png?raw=true)"
   ]
  },
  {
   "cell_type": "code",
   "execution_count": 5,
   "metadata": {},
   "outputs": [
    {
     "name": "stdout",
     "output_type": "stream",
     "text": [
      "Enter URL : \n",
      "https://www.youtube.com/channel/UCCCMOhooI8821rauAVZQwbA/\n",
      "https://www.linkedin.com/in/vicky-kumar-433542190/\n",
      "https://twitter.com/Vickyku27424662/\n",
      "https://www.youtube.com/channel/UCWaXTlc-ECnQz4JHKg1KfAw/\n",
      "https://www.yourquote.in/vicky-kumar-bagzz/quotes/\n",
      "https://www.sololearn.com/Profile/8044164/\n",
      "https://www.sololearn.com/Profile/12699769/\n",
      "https://github.com/imvickykumar999/\n",
      "https://www.instagram.com/oye.vix/\n",
      "https://www.facebook.com/Imvickykumar999/\n",
      "https://medium.com/@imvickykumar999/\n",
      "https://www.instagram.com/imvickykumar999/\n"
     ]
    }
   ],
   "source": [
    "import requests\n",
    "from bs4 import BeautifulSoup\n",
    "\n",
    "url = input('Enter URL : ')\n",
    "if url == '':\n",
    "    url = 'https://vixportfoliowithflask.herokuapp.com/contact'\n",
    "        \n",
    "page = requests.get(url)\n",
    "soup = BeautifulSoup(page.content, 'html5lib')\n",
    "lst = soup.findAll(class_= \"col mb-4\")\n",
    "\n",
    "for i in range(int(len(lst))):\n",
    "    print(lst[i].a['href'])"
   ]
  },
  {
   "cell_type": "code",
   "execution_count": 2,
   "metadata": {},
   "outputs": [
    {
     "name": "stdout",
     "output_type": "stream",
     "text": [
      "Enter URL : \n",
      "Notification...\n",
      "\n",
      "KingSujeet/Basic-Video-Call\n",
      "KingSujeet/Basic-Audio-Broadcasting\n",
      "KingSujeet/Basic-Audio-Call\n"
     ]
    }
   ],
   "source": [
    "import requests\n",
    "from bs4 import BeautifulSoup\n",
    "\n",
    "url = input('Enter URL : ')\n",
    "if url == '':\n",
    "    url = 'https://github.com/KingSujeet'\n",
    "    \n",
    "page = requests.get(url)\n",
    "soup = BeautifulSoup(page.content, 'html5lib')\n",
    "\n",
    "s = ('d-flex py-1', )\n",
    "lst = soup.findAll(class_= s[0])\n",
    "\n",
    "print('Notification...\\n')\n",
    "for i in range(len(lst)):\n",
    "    print(lst[i].a.text)"
   ]
  },
  {
   "cell_type": "code",
   "execution_count": 16,
   "metadata": {},
   "outputs": [
    {
     "name": "stdout",
     "output_type": "stream",
     "text": [
      "Enter URL : \n"
     ]
    },
    {
     "data": {
      "text/html": [
       "<img src=\"https://assets.passiton.com/quotes/quote_artwork/4624/medium/20201112_thursday_quote.jpg?1604688335\"/>"
      ],
      "text/plain": [
       "<IPython.core.display.Image object>"
      ]
     },
     "metadata": {},
     "output_type": "display_data"
    },
    {
     "name": "stdout",
     "output_type": "stream",
     "text": [
      "HOPE\n",
      "--------------------------------------------------"
     ]
    },
    {
     "data": {
      "text/html": [
       "<img src=\"https://assets.passiton.com/quotes/quote_artwork/8154/medium/20201111_wednesday_quote.jpg?1604688314\"/>"
      ],
      "text/plain": [
       "<IPython.core.display.Image object>"
      ]
     },
     "metadata": {},
     "output_type": "display_data"
    },
    {
     "name": "stdout",
     "output_type": "stream",
     "text": [
      "HOPE\n",
      "--------------------------------------------------"
     ]
    },
    {
     "data": {
      "text/html": [
       "<img src=\"https://assets.passiton.com/quotes/quote_artwork/8018/medium/20201109_monday_quote.jpg?1604688266\"/>"
      ],
      "text/plain": [
       "<IPython.core.display.Image object>"
      ]
     },
     "metadata": {},
     "output_type": "display_data"
    },
    {
     "name": "stdout",
     "output_type": "stream",
     "text": [
      "HOPE\n",
      "--------------------------------------------------"
     ]
    },
    {
     "data": {
      "text/html": [
       "<img src=\"https://assets.passiton.com/quotes/quote_artwork/8153/medium/20201110_tuesday_quote.jpg?1604688288\"/>"
      ],
      "text/plain": [
       "<IPython.core.display.Image object>"
      ]
     },
     "metadata": {},
     "output_type": "display_data"
    },
    {
     "name": "stdout",
     "output_type": "stream",
     "text": [
      "HOPE\n",
      "--------------------------------------------------"
     ]
    },
    {
     "data": {
      "text/html": [
       "<img src=\"https://assets.passiton.com/quotes/quote_artwork/8151/medium/20201106_friday_quote.jpg?1604081299\"/>"
      ],
      "text/plain": [
       "<IPython.core.display.Image object>"
      ]
     },
     "metadata": {},
     "output_type": "display_data"
    },
    {
     "name": "stdout",
     "output_type": "stream",
     "text": [
      "CIVILITY\n",
      "--------------------------------------------------"
     ]
    },
    {
     "data": {
      "text/html": [
       "<img src=\"https://assets.passiton.com/quotes/quote_artwork/7715/medium/20201105_thursday_quote.jpg?1604081275\"/>"
      ],
      "text/plain": [
       "<IPython.core.display.Image object>"
      ]
     },
     "metadata": {},
     "output_type": "display_data"
    },
    {
     "name": "stdout",
     "output_type": "stream",
     "text": [
      "CIVILITY\n",
      "--------------------------------------------------"
     ]
    },
    {
     "data": {
      "text/html": [
       "<img src=\"https://assets.passiton.com/quotes/quote_artwork/8152/medium/20201104_wednesday_quote.jpg?1604081252\"/>"
      ],
      "text/plain": [
       "<IPython.core.display.Image object>"
      ]
     },
     "metadata": {},
     "output_type": "display_data"
    },
    {
     "name": "stdout",
     "output_type": "stream",
     "text": [
      "CIVILITY\n",
      "--------------------------------------------------"
     ]
    },
    {
     "data": {
      "text/html": [
       "<img src=\"https://assets.passiton.com/quotes/quote_artwork/7711/medium/20201103_tuesday_quote.jpg?1604081224\"/>"
      ],
      "text/plain": [
       "<IPython.core.display.Image object>"
      ]
     },
     "metadata": {},
     "output_type": "display_data"
    },
    {
     "name": "stdout",
     "output_type": "stream",
     "text": [
      "CIVILITY\n",
      "--------------------------------------------------"
     ]
    },
    {
     "data": {
      "text/html": [
       "<img src=\"https://assets.passiton.com/quotes/quote_artwork/7712/medium/20201102_monday_quote.jpg?1604081195\"/>"
      ],
      "text/plain": [
       "<IPython.core.display.Image object>"
      ]
     },
     "metadata": {},
     "output_type": "display_data"
    },
    {
     "name": "stdout",
     "output_type": "stream",
     "text": [
      "CIVILITY\n",
      "--------------------------------------------------"
     ]
    },
    {
     "data": {
      "text/html": [
       "<img src=\"https://assets.passiton.com/quotes/quote_artwork/3493/medium/20201030_friday_quote.jpg?1603383782\"/>"
      ],
      "text/plain": [
       "<IPython.core.display.Image object>"
      ]
     },
     "metadata": {},
     "output_type": "display_data"
    },
    {
     "name": "stdout",
     "output_type": "stream",
     "text": [
      "MAKING A DIFFERENCE\n",
      "--------------------------------------------------"
     ]
    },
    {
     "data": {
      "text/html": [
       "<img src=\"https://assets.passiton.com/quotes/quote_artwork/8150/medium/20201029_thursday_quote.jpg?1603383758\"/>"
      ],
      "text/plain": [
       "<IPython.core.display.Image object>"
      ]
     },
     "metadata": {},
     "output_type": "display_data"
    },
    {
     "name": "stdout",
     "output_type": "stream",
     "text": [
      "MAKING A DIFFERENCE\n",
      "--------------------------------------------------"
     ]
    },
    {
     "data": {
      "text/html": [
       "<img src=\"https://assets.passiton.com/quotes/quote_artwork/8149/medium/20201026_monday_quote.jpg?1603383688\"/>"
      ],
      "text/plain": [
       "<IPython.core.display.Image object>"
      ]
     },
     "metadata": {},
     "output_type": "display_data"
    },
    {
     "name": "stdout",
     "output_type": "stream",
     "text": [
      "MAKING A DIFFERENCE\n",
      "--------------------------------------------------"
     ]
    },
    {
     "data": {
      "text/html": [
       "<img src=\"https://assets.passiton.com/quotes/quote_artwork/4128/medium/20201028_wednesday_quote.jpg?1603383733\"/>"
      ],
      "text/plain": [
       "<IPython.core.display.Image object>"
      ]
     },
     "metadata": {},
     "output_type": "display_data"
    },
    {
     "name": "stdout",
     "output_type": "stream",
     "text": [
      "MAKING A DIFFERENCE\n",
      "--------------------------------------------------"
     ]
    },
    {
     "data": {
      "text/html": [
       "<img src=\"https://assets.passiton.com/quotes/quote_artwork/6826/medium/20201027_tuesday_quote.jpg?1603383711\"/>"
      ],
      "text/plain": [
       "<IPython.core.display.Image object>"
      ]
     },
     "metadata": {},
     "output_type": "display_data"
    },
    {
     "name": "stdout",
     "output_type": "stream",
     "text": [
      "MAKING A DIFFERENCE\n",
      "--------------------------------------------------"
     ]
    },
    {
     "data": {
      "text/html": [
       "<img src=\"https://assets.passiton.com/quotes/quote_artwork/3752/medium/20201023_friday_quote_update.jpg?1602883670\"/>"
      ],
      "text/plain": [
       "<IPython.core.display.Image object>"
      ]
     },
     "metadata": {},
     "output_type": "display_data"
    },
    {
     "name": "stdout",
     "output_type": "stream",
     "text": [
      "HARD WORK\n",
      "--------------------------------------------------"
     ]
    },
    {
     "data": {
      "text/html": [
       "<img src=\"https://assets.passiton.com/quotes/quote_artwork/7750/medium/20201022_thursday_quote_update.jpg?1602883540\"/>"
      ],
      "text/plain": [
       "<IPython.core.display.Image object>"
      ]
     },
     "metadata": {},
     "output_type": "display_data"
    },
    {
     "name": "stdout",
     "output_type": "stream",
     "text": [
      "HARD WORK\n",
      "--------------------------------------------------"
     ]
    },
    {
     "data": {
      "text/html": [
       "<img src=\"https://assets.passiton.com/quotes/quote_artwork/8147/medium/20201021_wednesday_quote.jpg?1602872491\"/>"
      ],
      "text/plain": [
       "<IPython.core.display.Image object>"
      ]
     },
     "metadata": {},
     "output_type": "display_data"
    },
    {
     "name": "stdout",
     "output_type": "stream",
     "text": [
      "HARD WORK\n",
      "--------------------------------------------------"
     ]
    },
    {
     "data": {
      "text/html": [
       "<img src=\"https://assets.passiton.com/quotes/quote_artwork/8146/medium/20201020_tuesday_quote.jpg?1602872463\"/>"
      ],
      "text/plain": [
       "<IPython.core.display.Image object>"
      ]
     },
     "metadata": {},
     "output_type": "display_data"
    },
    {
     "name": "stdout",
     "output_type": "stream",
     "text": [
      "HARD WORK\n",
      "--------------------------------------------------"
     ]
    },
    {
     "data": {
      "text/html": [
       "<img src=\"https://assets.passiton.com/quotes/quote_artwork/4704/medium/20201019_monday_quote.jpg?1602872415\"/>"
      ],
      "text/plain": [
       "<IPython.core.display.Image object>"
      ]
     },
     "metadata": {},
     "output_type": "display_data"
    },
    {
     "name": "stdout",
     "output_type": "stream",
     "text": [
      "HARD WORK\n",
      "--------------------------------------------------"
     ]
    },
    {
     "data": {
      "text/html": [
       "<img src=\"https://assets.passiton.com/quotes/quote_artwork/8145/medium/20201016_friday_quote.jpg?1602195654\"/>"
      ],
      "text/plain": [
       "<IPython.core.display.Image object>"
      ]
     },
     "metadata": {},
     "output_type": "display_data"
    },
    {
     "name": "stdout",
     "output_type": "stream",
     "text": [
      "SMILE\n",
      "--------------------------------------------------"
     ]
    },
    {
     "data": {
      "text/html": [
       "<img src=\"https://assets.passiton.com/quotes/quote_artwork/8144/medium/20201015_thursday_quote.jpg?1602195631\"/>"
      ],
      "text/plain": [
       "<IPython.core.display.Image object>"
      ]
     },
     "metadata": {},
     "output_type": "display_data"
    },
    {
     "name": "stdout",
     "output_type": "stream",
     "text": [
      "SMILE\n",
      "--------------------------------------------------"
     ]
    },
    {
     "data": {
      "text/html": [
       "<img src=\"https://assets.passiton.com/quotes/quote_artwork/6258/medium/20201014_wednesday_quote.jpg?1602261766\"/>"
      ],
      "text/plain": [
       "<IPython.core.display.Image object>"
      ]
     },
     "metadata": {},
     "output_type": "display_data"
    },
    {
     "name": "stdout",
     "output_type": "stream",
     "text": [
      "SMILE\n",
      "--------------------------------------------------"
     ]
    },
    {
     "data": {
      "text/html": [
       "<img src=\"https://assets.passiton.com/quotes/quote_artwork/7529/medium/20201013_tuesday_quote_alt.jpg?1602262692\"/>"
      ],
      "text/plain": [
       "<IPython.core.display.Image object>"
      ]
     },
     "metadata": {},
     "output_type": "display_data"
    },
    {
     "name": "stdout",
     "output_type": "stream",
     "text": [
      "SMILE\n",
      "--------------------------------------------------"
     ]
    },
    {
     "data": {
      "text/html": [
       "<img src=\"https://assets.passiton.com/quotes/quote_artwork/7044/medium/20201012_monday_quote_alt.jpg?1602261408\"/>"
      ],
      "text/plain": [
       "<IPython.core.display.Image object>"
      ]
     },
     "metadata": {},
     "output_type": "display_data"
    },
    {
     "name": "stdout",
     "output_type": "stream",
     "text": [
      "SMILE\n",
      "--------------------------------------------------"
     ]
    },
    {
     "data": {
      "text/html": [
       "<img src=\"https://assets.passiton.com/quotes/quote_artwork/8143/medium/20201009_friday_quote_updated.jpg?1601662411\"/>"
      ],
      "text/plain": [
       "<IPython.core.display.Image object>"
      ]
     },
     "metadata": {},
     "output_type": "display_data"
    },
    {
     "name": "stdout",
     "output_type": "stream",
     "text": [
      "SELF-CARE\n",
      "--------------------------------------------------"
     ]
    },
    {
     "data": {
      "text/html": [
       "<img src=\"https://assets.passiton.com/quotes/quote_artwork/8142/medium/20201008_thursday_quote.jpg?1601592469\"/>"
      ],
      "text/plain": [
       "<IPython.core.display.Image object>"
      ]
     },
     "metadata": {},
     "output_type": "display_data"
    },
    {
     "name": "stdout",
     "output_type": "stream",
     "text": [
      "SELF-CARE\n",
      "--------------------------------------------------"
     ]
    },
    {
     "data": {
      "text/html": [
       "<img src=\"https://assets.passiton.com/quotes/quote_artwork/8141/medium/20201007_wednesday_quote.jpg?1601592441\"/>"
      ],
      "text/plain": [
       "<IPython.core.display.Image object>"
      ]
     },
     "metadata": {},
     "output_type": "display_data"
    },
    {
     "name": "stdout",
     "output_type": "stream",
     "text": [
      "SELF-CARE\n",
      "--------------------------------------------------"
     ]
    },
    {
     "data": {
      "text/html": [
       "<img src=\"https://assets.passiton.com/quotes/quote_artwork/8140/medium/20201006_tuesday_quote.jpg?1601592416\"/>"
      ],
      "text/plain": [
       "<IPython.core.display.Image object>"
      ]
     },
     "metadata": {},
     "output_type": "display_data"
    },
    {
     "name": "stdout",
     "output_type": "stream",
     "text": [
      "SELF-CARE\n",
      "--------------------------------------------------"
     ]
    },
    {
     "data": {
      "text/html": [
       "<img src=\"https://assets.passiton.com/quotes/quote_artwork/8139/medium/20201005_monday_quote.jpg?1601592383\"/>"
      ],
      "text/plain": [
       "<IPython.core.display.Image object>"
      ]
     },
     "metadata": {},
     "output_type": "display_data"
    },
    {
     "name": "stdout",
     "output_type": "stream",
     "text": [
      "SELF-CARE\n",
      "--------------------------------------------------"
     ]
    },
    {
     "data": {
      "text/html": [
       "<img src=\"https://assets.passiton.com/quotes/quote_artwork/8138/medium/20201002_friday_quote.jpg?1600981679\"/>"
      ],
      "text/plain": [
       "<IPython.core.display.Image object>"
      ]
     },
     "metadata": {},
     "output_type": "display_data"
    },
    {
     "name": "stdout",
     "output_type": "stream",
     "text": [
      "EMPATHY\n",
      "--------------------------------------------------"
     ]
    },
    {
     "data": {
      "text/html": [
       "<img src=\"https://assets.passiton.com/quotes/quote_artwork/8135/medium/20201001_thursday_quote.jpg?1600975693\"/>"
      ],
      "text/plain": [
       "<IPython.core.display.Image object>"
      ]
     },
     "metadata": {},
     "output_type": "display_data"
    },
    {
     "name": "stdout",
     "output_type": "stream",
     "text": [
      "EMPATHY\n",
      "--------------------------------------------------"
     ]
    },
    {
     "data": {
      "text/html": [
       "<img src=\"https://assets.passiton.com/quotes/quote_artwork/8136/medium/20200930_wednesday_quote.jpg?1600975670\"/>"
      ],
      "text/plain": [
       "<IPython.core.display.Image object>"
      ]
     },
     "metadata": {},
     "output_type": "display_data"
    },
    {
     "name": "stdout",
     "output_type": "stream",
     "text": [
      "EMPATHY\n",
      "--------------------------------------------------"
     ]
    }
   ],
   "source": [
    "import requests\n",
    "from bs4 import BeautifulSoup\n",
    "from IPython.core.display import Image, display\n",
    "\n",
    "url = input('Enter URL : ')\n",
    "if url == '':\n",
    "    url = 'http://www.values.com/inspirational-quotes'\n",
    "    \n",
    "page = requests.get(url)\n",
    "soup = BeautifulSoup(page.content, 'html5lib')\n",
    "\n",
    "s = ['all_quotes', 'col-6 col-lg-3 text-center margin-30px-bottom sm-margin-30px-top', ]\n",
    "lst = soup.findAll ('div', attrs = {'class': s[1] }) \n",
    "# lst = soup.findAll (class_= s[1])\n",
    "\n",
    "for i in range(len(lst)):\n",
    "    display(Image(url = lst[i].a.img['src']))\n",
    "    print(lst[i].h5.text, end = '\\n'+'-'*50)"
   ]
  },
  {
   "cell_type": "code",
   "execution_count": 5,
   "metadata": {},
   "outputs": [
    {
     "name": "stdout",
     "output_type": "stream",
     "text": [
      "https://pythonprogramming.net/downloads/intraQuarter.zip/\n",
      "https://pythonprogramming.net/downloads/knowledgeBase.db\n",
      "https://pythonprogramming.net/downloads/key_stats.csv\n",
      "https://pythonprogramming.net/downloads/style.zip\n",
      "https://pythonprogramming.net/community/post/\n",
      "https://pythonprogramming.net/NVIDIA/GameGAN.pdf\n",
      "https://pythonprogramming.net/about/privacy-policy/\n",
      "https://pythonprogramming.net/store/python-hoodie/\n",
      "https://pythonprogramming.net/about/super-powers/\n",
      "https://pythonprogramming.net/about/technology/\n",
      "https://pythonprogramming.net/about/tos/\n",
      "https://pythonprogramming.net/user/change-password/\n",
      "https://pythonprogramming.net/go/template-news-aggregator-go-language-programming-tutorial/\n",
      "https://pythonprogramming.net/go/looping-sitemap-data-go-language-programming-tutorial/\n",
      "https://pythonprogramming.net/go/channel-buffer-range-go-language-programming-tutorial/\n",
      "https://pythonprogramming.net/go/concurrency-web-app-go-language-programming-tutorial/\n",
      "https://pythonprogramming.net/go/pointer-receivers-go-language-programming-tutorial/\n",
      "https://pythonprogramming.net/go/templating-webapp-go-language-programming-tutorial/\n",
      "https://pythonprogramming.net/go/mapping-sitemap-go-language-programming-tutorial/\n",
      "https://pythonprogramming.net/go/sync-goroutines-go-language-programming-tutorial/\n",
      "https://pythonprogramming.net/go/panic-recover-go-language-programming-tutorial/\n",
      "https://pythonprogramming.net/go/introduction-go-language-programming-tutorial/\n",
      "https://pythonprogramming.net/go/more-web-dev-go-language-programming-tutorial/\n",
      "https://pythonprogramming.net/go/parsing-xml-go-language-programming-tutorial/\n",
      "https://pythonprogramming.net/go/goroutines-go-language-programming-tutorial/\n",
      "https://pythonprogramming.net/go/pointers-go-language-programming-tutorial/\n",
      "https://pythonprogramming.net/go/channels-go-language-programming-tutorial/\n",
      "https://pythonprogramming.net/go/web-app-go-language-programming-tutorial/\n",
      "https://pythonprogramming.net/go/structs-go-language-programming-tutorial/\n",
      "https://pythonprogramming.net/go/methods-go-language-programming-tutorial/\n",
      "https://pythonprogramming.net/go/parsing-go-language-programming-tutorial/\n",
      "https://pythonprogramming.net/go/looping-go-language-programming-tutorial/\n",
      "https://pythonprogramming.net/go/mapping-go-language-programming-tutorial/\n",
      "https://pythonprogramming.net/go/syntax-go-language-programming-tutorial/\n",
      "https://pythonprogramming.net/go/types-go-language-programming-tutorial/\n",
      "https://pythonprogramming.net/go/defer-go-language-programming-tutorial/\n",
      "https://pythonprogramming.net/cryptocurrency-recurrent-neural-network-deep-learning-python-tensorflow-keras/\n",
      "https://pythonprogramming.net/reinforcement-learning-environment-self-driving-autonomous-cars-carla-python/\n",
      "https://pythonprogramming.net/deploying-model-deep-learning-halite-ii-artificial-intelligence-competition/\n",
      "https://pythonprogramming.net/training-model-deep-learning-halite-ii-artificial-intelligence-competition/\n",
      "https://pythonprogramming.net/scikit-learn-sklearn-machine-learning-data-analysis-python-pandas-tutorial/\n",
      "https://pythonprogramming.net/building-neural-network-training-data-starcraft-ii-ai-python-sc2-tutorial/\n",
      "https://pythonprogramming.net/quantopian-trading-strategies-introduction-python-programming-for-finance/\n",
      "https://pythonprogramming.net/bidirectional-attention-mechanism-chatbot-deep-learning-python-tensorflow/\n",
      "https://pythonprogramming.net/training-data-deep-learning-halite-ii-artificial-intelligence-competition/\n",
      "https://pythonprogramming.net/interactive-interface-data-visualization-application-dash-python-tutorial/\n",
      "https://pythonprogramming.net/combining-stock-prices-into-one-dataframe-python-programming-for-finance/\n",
      "https://pythonprogramming.net/2D-Visualization-of-Pandas-data-with-Matplotlib-including-plotting-dates/\n",
      "https://pythonprogramming.net/testing-custom-object-detector-tensorflow-object-detection-api-tutorial/\n",
      "https://pythonprogramming.net/drawing-with-generative-model-python-playing-neural-network-tensorflow/\n",
      "https://pythonprogramming.net/custom-markets-trading-calendar-bitcoin-python-programming-for-finance/\n",
      "https://pythonprogramming.net/reinforcement-learning-agent-self-driving-autonomous-cars-carla-python/\n",
      "https://pythonprogramming.net/cnn-tensorflow-convolutional-nerual-network-machine-learning-tutorial/\n",
      "https://pythonprogramming.net/object-oriented-programming-introduction-intermediate-python-tutorial/\n",
      "https://pythonprogramming.net/inheritance-object-oriented-programming-intermediate-python-tutorial/\n",
      "https://pythonprogramming.net/finding-more-alpha-factors-quantopian-python-programming-for-finance/\n",
      "https://pythonprogramming.net/machine-learning-pattern-recognition-algorithmic-forex-stock-trading/\n",
      "https://pythonprogramming.net/rolling-apply-mapping-functions-data-analysis-python-pandas-tutorial/\n",
      "https://pythonprogramming.net/tensorboard-optimizing-models-deep-learning-python-tensorflow-keras/\n",
      "https://pythonprogramming.net/convolutional-neural-network-kats-vs-dogs-machine-learning-tutorial/\n",
      "https://pythonprogramming.net/training-deep-q-learning-dqn-reinforcement-learning-python-tutorial/\n",
      "https://pythonprogramming.net/convolutional-neural-network-deep-learning-python-tensorflow-keras/\n",
      "https://pythonprogramming.net/machine-learning-clustering-introduction-machine-learning-tutorial/\n",
      "https://pythonprogramming.net/targets-for-machine-learning-labels-python-programming-for-finance/\n",
      "https://pythonprogramming.net/convolutional-neural-networks-deep-learning-neural-network-pytorch/\n",
      "https://pythonprogramming.net/preprocessing-for-machine-learning-python-programming-for-finance/\n",
      "https://pythonprogramming.net/combining-alpha-factors-quantopian-python-programming-for-finance/\n",
      "https://pythonprogramming.net/own-environment-q-learning-reinforcement-learning-python-tutorial/\n",
      "https://pythonprogramming.net/encryption-and-decryption-in-python-code-example-with-explanation/\n",
      "https://pythonprogramming.net/r-squared-coefficient-of-determination-machine-learning-tutorial/\n",
      "https://pythonprogramming.net/openai-cartpole-neural-network-example-machine-learning-tutorial/\n",
      "https://pythonprogramming.net/custom-objects-tracking-tensorflow-object-detection-api-tutorial/\n",
      "https://pythonprogramming.net/creating-tfrecord-files-tensorflow-object-detection-api-tutorial/\n",
      "https://pythonprogramming.net/training-custom-objects-tensorflow-object-detection-api-tutorial/\n",
      "https://pythonprogramming.net/self-driving-car-neural-network-training-data-python-plays-gta-v/\n",
      "https://pythonprogramming.net/class-generator-testing-python-playing-neural-network-tensorflow/\n",
      "https://pythonprogramming.net/portfolio-optimization-quantopian-python-programming-for-finance/\n",
      "https://pythonprogramming.net/reinforcement-learning-self-driving-autonomous-cars-carla-python/\n",
      "https://pythonprogramming.net/modify-starter-bot-halite-ii-artificial-intelligence-competition/\n",
      "https://pythonprogramming.net/data-visualization-application-dash-python-tutorial-introduction/\n",
      "https://pythonprogramming.net/more-list-comprehension-generators-intermediate-python-tutorial/\n",
      "https://pythonprogramming.net/control-camera-sensor-self-driving-autonomous-cars-carla-python/\n",
      "https://pythonprogramming.net/support-vector-machine-svm-example-tutorial-scikit-learn-python/\n",
      "https://pythonprogramming.net/live-graphs-data-visualization-application-dash-python-tutorial/\n",
      "https://pythonprogramming.net/percent-change-correlation-data-analysis-python-pandas-tutorial/\n",
      "https://pythonprogramming.net/recurrent-neural-network-deep-learning-python-tensorflow-keras/\n",
      "https://pythonprogramming.net/support-vector-machine-fundamentals-machine-learning-tutorial/\n",
      "https://pythonprogramming.net/zipline-backtest-visualization-python-programming-for-finance/\n",
      "https://pythonprogramming.net/screen-manager-pages-screens-kivy-application-python-tutorial/\n",
      "https://pythonprogramming.net/how-to-program-best-fit-line-slope-machine-learning-tutorial/\n",
      "https://pythonprogramming.net/hierarchical-clustering-mean-shift-machine-learning-tutorial/\n",
      "https://pythonprogramming.net/string-concatenation-formatting-intermediate-python-tutorial/\n",
      "https://pythonprogramming.net/stock-price-correlation-table-python-programming-for-finance/\n",
      "https://pythonprogramming.net/machine-learning-stock-prices-python-programming-for-finance/\n",
      "https://pythonprogramming.net/Deutsch-jozsa-hadamard-quantum-computer-programming-tutorial/\n",
      "https://pythonprogramming.net/hierarchical-clustering-machine-learning-python-scikit-learn/\n",
      "https://pythonprogramming.net/python-programming-finance-machine-learning-classifier-sets/\n",
      "https://pythonprogramming.net/normalizing-sequences-deep-learning-python-tensorflow-keras/\n",
      "https://pythonprogramming.net/building-neural-network-starcraft-ii-ai-python-sc2-tutorial/\n",
      "https://pythonprogramming.net/training-neural-network-starcraft-ii-ai-python-sc2-tutorial/\n",
      "https://pythonprogramming.net/support-vector-machine-parameters-machine-learning-tutorial/\n",
      "https://pythonprogramming.net/tensorflow-neural-network-session-machine-learning-tutorial/\n",
      "https://pythonprogramming.net/recurrent-neural-network-rnn-lstm-machine-learning-tutorial/\n",
      "https://pythonprogramming.net/training-self-driving-car-neural-network-python-plays-gta-v/\n",
      "https://pythonprogramming.net/handling-stock-data-graphing-python-programming-for-finance/\n",
      "https://pythonprogramming.net/more-stock-data-manipulation-python-programming-for-finance/\n",
      "https://pythonprogramming.net/schedule-function-quantopian-python-programming-for-finance/\n",
      "https://pythonprogramming.net/javascript-dynamic-scraping-parsing-beautiful-soup-tutorial/\n",
      "https://pythonprogramming.net/finishing-chat-application-kivy-application-python-tutorial/\n",
      "https://pythonprogramming.net/q-learning-algorithm-reinforcement-learning-python-tutorial/\n",
      "https://pythonprogramming.net/analysis-visualization-deep-learning-neural-network-pytorch/\n",
      "https://pythonprogramming.net/deep-learning-halite-ii-artificial-intelligence-competition/\n",
      "https://pythonprogramming.net/dynamic-data-visualization-application-dash-python-tutorial/\n",
      "https://pythonprogramming.net/vehicle-data-visualization-application-dash-python-tutorial/\n",
      "https://pythonprogramming.net/dogs-vs-cats-convolutional-neural-network-tensorflow-kaggle/\n",
      "https://pythonprogramming.net/tensorboard-analysis-deep-learning-python-tensorflow-keras/\n",
      "https://pythonprogramming.net/convolutional-neural-network-cnn-machine-learning-tutorial/\n",
      "https://pythonprogramming.net/testing-self-driving-car-neural-network-python-plays-gta-v/\n",
      "https://pythonprogramming.net/list-comprehension-generators-intermediate-python-tutorial/\n",
      "https://pythonprogramming.net/deep-dream-frames-python-playing-neural-network-tensorflow/\n",
      "https://pythonprogramming.net/placing-an-order-quantopian-python-programming-for-finance/\n",
      "https://pythonprogramming.net/quantopian-pyfolio-analysis-python-programming-for-finance/\n",
      "https://pythonprogramming.net/q-learning-analysis-reinforcement-learning-python-tutorial/\n",
      "https://pythonprogramming.net/deep-q-learning-dqn-reinforcement-learning-python-tutorial/\n",
      "https://pythonprogramming.net/introduction-halite-ii-artificial-intelligence-competition/\n",
      "https://pythonprogramming.net/search-for-term-twitter-sentiment-analysis-gui-dash-python/\n",
      "https://pythonprogramming.net/joining-mortgage-rate-data-analysis-python-pandas-tutorial/\n",
      "https://pythonprogramming.net/loading-custom-data-deep-learning-python-tensorflow-keras/\n",
      "https://pythonprogramming.net/using-trained-model-deep-learning-python-tensorflow-keras/\n",
      "https://pythonprogramming.net/scouting-visual-input-starcraft-ii-ai-python-sc2-tutorial/\n",
      "https://pythonprogramming.net/k-nearest-neighbors-application-machine-learning-tutorial/\n",
      "https://pythonprogramming.net/programming-k-nearest-neighbors-machine-learning-tutorial/\n",
      "https://pythonprogramming.net/testing-our-k-nearest-neighbors-machine-learning-tutorial/\n",
      "https://pythonprogramming.net/working-with-non-numerical-data-machine-learning-tutorial/\n",
      "https://pythonprogramming.net/3d-convolutional-neural-network-machine-learning-tutorial/\n",
      "https://pythonprogramming.net/introduction-use-tensorflow-object-detection-api-tutorial/\n",
      "https://pythonprogramming.net/balancing-neural-network-training-data-python-plays-gta-v/\n",
      "https://pythonprogramming.net/generative-model-python-playing-neural-network-tensorflow/\n",
      "https://pythonprogramming.net/deep-dream-video-python-playing-neural-network-tensorflow/\n",
      "https://pythonprogramming.net/navigating-pages-scraping-parsing-beautiful-soup-tutorial/\n",
      "https://pythonprogramming.net/sci-kit-learn-tutorials-machine-learning-python-investing/\n",
      "https://pythonprogramming.net/building-database-chatbot-deep-learning-python-tensorflow/\n",
      "https://pythonprogramming.net/comparison-operators-data-analysis-python-pandas-tutorial/\n",
      "https://pythonprogramming.net/matplotlib-tutorial-part-5-subplots-multiple-plots-figure/\n",
      "https://pythonprogramming.net/balancing-rnn-data-deep-learning-python-tensorflow-keras/\n",
      "https://pythonprogramming.net/using-neural-network-starcraft-ii-ai-python-sc2-tutorial/\n",
      "https://pythonprogramming.net/mean-shift-from-scratch-python-machine-learning-tutorial/\n",
      "https://pythonprogramming.net/tensorflow-deep-neural-network-machine-learning-tutorial/\n",
      "https://pythonprogramming.net/parsing-comments-python-reddit-api-wrapper-praw-tutorial/\n",
      "https://pythonprogramming.net/values-from-multiprocessing-intermediate-python-tutorial/\n",
      "https://pythonprogramming.net/creating-pygame-environment-intermediate-python-tutorial/\n",
      "https://pythonprogramming.net/class-generator-python-playing-neural-network-tensorflow/\n",
      "https://pythonprogramming.net/custom-data-zipline-local-python-programming-for-finance/\n",
      "https://pythonprogramming.net/headlines-function-alexa-skill-flask-ask-python-tutorial/\n",
      "https://pythonprogramming.net/scikit-learn-tutorials-machine-learning-python-investing/\n",
      "https://pythonprogramming.net/training-dataset-chatbot-deep-learning-python-tensorflow/\n",
      "https://pythonprogramming.net/soft-margin-kernel-cvxopt-svm-machine-learning-tutorial/\n",
      "https://pythonprogramming.net/weighted-bandwidth-mean-shift-machine-learning-tutorial/\n",
      "https://pythonprogramming.net/sp500-company-price-data-python-programming-for-finance/\n",
      "https://pythonprogramming.net/testing-deploying-alexa-skill-flask-ask-python-tutorial/\n",
      "https://pythonprogramming.net/trained-model-self-driving-autonomous-cars-carla-python/\n",
      "https://pythonprogramming.net/sqlite-part-2-dynamically-inserting-database-timestamps/\n",
      "https://pythonprogramming.net/custom-ai-halite-ii-artificial-intelligence-competition/\n",
      "https://pythonprogramming.net/concatenate-append-data-analysis-python-pandas-tutorial/\n",
      "https://pythonprogramming.net/rolling-statistics-data-analysis-python-pandas-tutorial/\n",
      "https://pythonprogramming.net/graphing-matplotlib-python-part-3-colors-line-thickness/\n",
      "https://pythonprogramming.net/python-programming-creating-automated-trading-strategy/\n",
      "https://pythonprogramming.net/python-programming-finance-sentiment-analysis-shorting/\n",
      "https://pythonprogramming.net/python-programming-finance-machine-learning-classifier/\n",
      "https://pythonprogramming.net/crypto-rnn-model-deep-learning-python-tensorflow-keras/\n",
      "https://pythonprogramming.net/how-to-program-best-fit-line-machine-learning-tutorial/\n",
      "https://pythonprogramming.net/support-vector-machine-intro-machine-learning-tutorial/\n",
      "https://pythonprogramming.net/special-methods-iteration-intermediate-python-tutorial/\n",
      "https://pythonprogramming.net/stock-data-manipulation-python-programming-for-finance/\n",
      "https://pythonprogramming.net/strategizing-quantopian-python-programming-for-finance/\n",
      "https://pythonprogramming.net/introduction-self-driving-autonomous-cars-carla-python/\n",
      "https://pythonprogramming.net/data-structure-chatbot-deep-learning-python-tensorflow/\n",
      "https://pythonprogramming.net/training-model-chatbot-deep-learning-python-tensorflow/\n",
      "https://pythonprogramming.net/haar-cascade-face-eye-detection-python-opencv-tutorial/\n",
      "https://pythonprogramming.net/python-programming-finance-machine-learning-framework/\n",
      "https://pythonprogramming.net/geysers-expanding-starcraft-ii-ai-python-sc2-tutorial/\n",
      "https://pythonprogramming.net/svm-constraint-optimization-machine-learning-tutorial/\n",
      "https://pythonprogramming.net/complex-math-python-playing-neural-network-tensorflow/\n",
      "https://pythonprogramming.net/quantopian-backtesting-python-programming-for-finance/\n",
      "https://pythonprogramming.net/introduction-scraping-parsing-beautiful-soup-tutorial/\n",
      "https://pythonprogramming.net/packaging-deployment-kivy-application-python-tutorial/\n",
      "https://pythonprogramming.net/live-graph-twitter-sentiment-analysis-gui-dash-python/\n",
      "https://pythonprogramming.net/canny-edge-detection-gradients-python-opencv-tutorial/\n",
      "https://pythonprogramming.net/economic-factors-data-analysis-python-pandas-tutorial/\n",
      "https://pythonprogramming.net/coding-k-nearest-neighbors-machine-learning-tutorial/\n",
      "https://pythonprogramming.net/mean-shift-titanic-dataset-machine-learning-tutorial/\n",
      "https://pythonprogramming.net/using-our-own-data-tensorflow-deep-learning-tutorial/\n",
      "https://pythonprogramming.net/introduction-python-reddit-api-wrapper-praw-tutorial/\n",
      "https://pythonprogramming.net/class-object-modularity-intermediate-python-tutorial/\n",
      "https://pythonprogramming.net/headless-error-handling-intermediate-python-tutorial/\n",
      "https://pythonprogramming.net/zipline-local-install-python-programming-for-finance/\n",
      "https://pythonprogramming.net/insert-logic-chatbot-deep-learning-python-tensorflow/\n",
      "https://pythonprogramming.net/flat-clustering-machine-learning-python-scikit-learn/\n",
      "https://pythonprogramming.net/python-and-pandas-for-sentiment-analysis-and-finance/\n",
      "https://pythonprogramming.net/grabcut-foreground-extraction-python-opencv-tutorial/\n",
      "https://pythonprogramming.net/haar-cascade-object-detection-python-opencv-tutorial/\n",
      "https://pythonprogramming.net/finance-programming-python-zipline-quantopian-intro/\n",
      "https://pythonprogramming.net/python-programming-finance-understanding-hedgefunds/\n",
      "https://pythonprogramming.net/python-programming-finance-testing-machine-learning/\n",
      "https://pythonprogramming.net/attaching-files-images-embed-discordpy-bot-tutorial/\n",
      "https://pythonprogramming.net/commanding-army-starcraft-ii-ai-python-sc2-tutorial/\n",
      "https://pythonprogramming.net/better-scouting-starcraft-ii-ai-python-sc2-tutorial/\n",
      "https://pythonprogramming.net/stage2-training-starcraft-ii-ai-python-sc2-tutorial/\n",
      "https://pythonprogramming.net/k-nearest-neighbors-intro-machine-learning-tutorial/\n",
      "https://pythonprogramming.net/support-vector-assertions-machine-learning-tutorial/\n",
      "https://pythonprogramming.net/svm-optimization-python-2-machine-learning-tutorial/\n",
      "https://pythonprogramming.net/data-size-example-tensorflow-deep-learning-tutorial/\n",
      "https://pythonprogramming.net/multiprocessing-python-intermediate-python-tutorial/\n",
      "https://pythonprogramming.net/multiprocessing-spider-intermediate-python-tutorial/\n",
      "https://pythonprogramming.net/generating-python-playing-neural-network-tensorflow/\n",
      "https://pythonprogramming.net/deep-dream-python-playing-neural-network-tensorflow/\n",
      "https://pythonprogramming.net/getting-stock-prices-python-programming-for-finance/\n",
      "https://pythonprogramming.net/quantopian-alphalens-python-programming-for-finance/\n",
      "https://pythonprogramming.net/tables-xml-scraping-parsing-beautiful-soup-tutorial/\n",
      "https://pythonprogramming.net/interacting-chatbot-deep-learning-python-tensorflow/\n",
      "https://pythonprogramming.net/plotting-live-bitcoin-price-data-tkinter-matplotlib/\n",
      "https://pythonprogramming.net/morphological-transformation-python-opencv-tutorial/\n",
      "https://pythonprogramming.net/nan-na-missing-data-analysis-python-pandas-tutorial/\n",
      "https://pythonprogramming.net/run-local-collect-halite-iii-ai-coding-competition/\n",
      "https://pythonprogramming.net/introduction-deep-learning-python-tensorflow-keras/\n",
      "https://pythonprogramming.net/workers-pylons-starcraft-ii-ai-python-sc2-tutorial/\n",
      "https://pythonprogramming.net/hard-ai-defeat-starcraft-ii-ai-python-sc2-tutorial/\n",
      "https://pythonprogramming.net/visual-changes-starcraft-ii-ai-python-sc2-tutorial/\n",
      "https://pythonprogramming.net/simple-linear-regression-machine-learning-tutorial/\n",
      "https://pythonprogramming.net/how-to-program-r-squared-machine-learning-tutorial/\n",
      "https://pythonprogramming.net/reddit-bot-python-reddit-api-wrapper-praw-tutorial/\n",
      "https://pythonprogramming.net/quantopian-research-python-programming-for-finance/\n",
      "https://pythonprogramming.net/quantopian-pipeline-python-programming-for-finance/\n",
      "https://pythonprogramming.net/qubits-gates-quantum-computer-programming-tutorial/\n",
      "https://pythonprogramming.net/statistics-python-3-module-mean-standard-deviation/\n",
      "https://pythonprogramming.net/buffering-streaming-data-sockets-tutorial-python-3/\n",
      "https://pythonprogramming.net/convnet-model-deep-learning-neural-network-pytorch/\n",
      "https://pythonprogramming.net/ibpy-tutorial-using-interactive-brokers-api-python/\n",
      "https://pythonprogramming.net/thresholding-image-analysis-python-opencv-tutorial/\n",
      "https://pythonprogramming.net/feature-matching-homography-python-opencv-tutorial/\n",
      "https://pythonprogramming.net/robotics-raspberry-pi-tutorial-gopigo-introduction/\n",
      "https://pythonprogramming.net/raspberry-pi-camera-opencv-face-detection-tutorial/\n",
      "https://pythonprogramming.net/python-programming-finance-quantopian-csv-fetcher/\n",
      "https://pythonprogramming.net/not-running-into-halite-iii-ai-coding-competition/\n",
      "https://pythonprogramming.net/building-army-starcraft-ii-ai-python-sc2-tutorial/\n",
      "https://pythonprogramming.net/deep-learning-starcraft-ii-ai-python-sc2-tutorial/\n",
      "https://pythonprogramming.net/regression-introduction-machine-learning-tutorial/\n",
      "https://pythonprogramming.net/svm-optimization-python-machine-learning-tutorial/\n",
      "https://pythonprogramming.net/why-use-kernel-with-svm-machine-learning-tutorial/\n",
      "https://pythonprogramming.net/k-means-titanic-dataset-machine-learning-tutorial/\n",
      "https://pythonprogramming.net/tensorflow-introduction-machine-learning-tutorial/\n",
      "https://pythonprogramming.net/how-to-cuda-gpu-tensorflow-deep-learning-tutorial/\n",
      "https://pythonprogramming.net/streaming-python-reddit-api-wrapper-praw-tutorial/\n",
      "https://pythonprogramming.net/finding-lanes-self-driving-car-python-plays-gta-v/\n",
      "https://pythonprogramming.net/operator-overloading-intermediate-python-tutorial/\n",
      "https://pythonprogramming.net/detecting-collisions-intermediate-python-tutorial/\n",
      "https://pythonprogramming.net/addition-python-playing-neural-network-tensorflow/\n",
      "https://pythonprogramming.net/sp500-company-list-python-programming-for-finance/\n",
      "https://pythonprogramming.net/scheduling-clock-kivy-application-python-tutorial/\n",
      "https://pythonprogramming.net/chat-application-kivy-application-python-tutorial/\n",
      "https://pythonprogramming.net/q-learning-reinforcement-learning-python-tutorial/\n",
      "https://pythonprogramming.net/introduction-deep-learning-neural-network-pytorch/\n",
      "https://pythonprogramming.net/buffering-chatbot-deep-learning-python-tensorflow/\n",
      "https://pythonprogramming.net/passing-functions-parameters-tkinter-using-lambda/\n",
      "https://pythonprogramming.net/natural-language-toolkit-nltk-part-speech-tagging/\n",
      "https://pythonprogramming.net/data-analysis-python-pandas-tutorial-introduction/\n",
      "https://pythonprogramming.net/input-output-data-analysis-python-pandas-tutorial/\n",
      "https://pythonprogramming.net/python-programming-finance-back-testing-strategy/\n",
      "https://pythonprogramming.net/more-choices-starcraft-ii-ai-python-sc2-tutorial/\n",
      "https://pythonprogramming.net/forecasting-predicting-machine-learning-tutorial/\n",
      "https://pythonprogramming.net/k-means-from-scratch-2-machine-learning-tutorial/\n",
      "https://pythonprogramming.net/more-interesting-self-driving-python-plays-gta-v/\n",
      "https://pythonprogramming.net/tensorflow-object-detection-api-self-driving-car/\n",
      "https://pythonprogramming.net/wrapping-up-tic-tac-toe-learn-python-3-tutorials/\n",
      "https://pythonprogramming.net/back-testing-machine-learning-investing-strategy/\n",
      "https://pythonprogramming.net/basemap-coordinates-plotting-matplotlib-tutorial/\n",
      "https://pythonprogramming.net/object-oriented-programming-crash-course-tkinter/\n",
      "https://pythonprogramming.net/decorator-wrappers-flask-tutorial-login-required/\n",
      "https://pythonprogramming.net/graph-visualization-python3-pandas-data-analysis/\n",
      "https://pythonprogramming.net/adding-color-graphs-python-matplotlib-tutorial-4/\n",
      "https://pythonprogramming.net/deep-learning-browser-introduction-tensorflowjs/\n",
      "https://pythonprogramming.net/installing-tensorflow-machine-learning-tutorial/\n",
      "https://pythonprogramming.net/preprocessing-tensorflow-deep-learning-tutorial/\n",
      "https://pythonprogramming.net/rnn-tensorflow-python-machine-learning-tutorial/\n",
      "https://pythonprogramming.net/python-pickle-module-save-objects-serialization/\n",
      "https://pythonprogramming.net/buttons-events-kivy-application-python-tutorial/\n",
      "https://pythonprogramming.net/geographic-basemap-plotting-matplotlib-tutorial/\n",
      "https://pythonprogramming.net/fundamental-investing-stock-screener-conclusion/\n",
      "https://pythonprogramming.net/mog-background-reduction-python-opencv-tutorial/\n",
      "https://pythonprogramming.net/combining-datasets-python3-pandas-data-analysis/\n",
      "https://pythonprogramming.net/join-merge-data-analysis-python-pandas-tutorial/\n",
      "https://pythonprogramming.net/k-means-from-scratch-machine-learning-tutorial/\n",
      "https://pythonprogramming.net/video-tensorflow-object-detection-api-tutorial/\n",
      "https://pythonprogramming.net/many-blob-objects-intermediate-python-tutorial/\n",
      "https://pythonprogramming.net/mnist-python-playing-neural-network-tensorflow/\n",
      "https://pythonprogramming.net/keras-tuner-optimizing-neural-network-tutorial/\n",
      "https://pythonprogramming.net/parse-website-using-regular-expressions-urllib/\n",
      "https://pythonprogramming.net/robot-remote-control-car-with-the-raspberry-pi/\n",
      "https://pythonprogramming.net/opengl-rotating-cube-example-pyopengl-tutorial/\n",
      "https://pythonprogramming.net/advanced-matplotlib-graphing-charting-tutorial/\n",
      "https://pythonprogramming.net/sentiment-analysis-natural-language-processing/\n",
      "https://pythonprogramming.net/image-arithmetics-logic-python-opencv-tutorial/\n",
      "https://pythonprogramming.net/correlation-table-python3-pandas-data-analysis/\n",
      "https://pythonprogramming.net/python-programming-finance-sentiment-analysis/\n",
      "https://pythonprogramming.net/introduction-halite-iii-ai-coding-competition/\n",
      "https://pythonprogramming.net/dropping-off-halite-iii-ai-coding-competition/\n",
      "https://pythonprogramming.net/version-2-starcraft-ii-ai-python-sc2-tutorial/\n",
      "https://pythonprogramming.net/machine-learning-tutorial-python-introduction/\n",
      "https://pythonprogramming.net/sample-data-testing-machine-learning-tutorial/\n",
      "https://pythonprogramming.net/__str__-__repr__-intermediate-python-tutorial/\n",
      "https://pythonprogramming.net/math-python-playing-neural-network-tensorflow/\n",
      "https://pythonprogramming.net/introduction-kivy-application-python-tutorial/\n",
      "https://pythonprogramming.net/building-deep-learning-neural-network-pytorch/\n",
      "https://pythonprogramming.net/training-deep-learning-neural-network-pytorch/\n",
      "https://pythonprogramming.net/tuples-strings-loops-learn-python-3-tutorials/\n",
      "https://pythonprogramming.net/sql-database-python-part-1-inserting-database/\n",
      "https://pythonprogramming.net/copying-backing-master-node-win32-disk-imager/\n",
      "https://pythonprogramming.net/installing-testing-mpi4py-mpi-python-tutorial/\n",
      "https://pythonprogramming.net/improving-infinite-3d-cubes-pyopengl-tutorial/\n",
      "https://pythonprogramming.net/machine-learning-python3-pandas-data-analysis/\n",
      "https://pythonprogramming.net/resample-data-analysis-python-pandas-tutorial/\n",
      "https://pythonprogramming.net/python-programming-finance-shorting-strategy/\n",
      "https://pythonprogramming.net/building-bot-commands-discordpy-bot-tutorial/\n",
      "https://pythonprogramming.net/cleaning-up-halite-iii-ai-coding-competition/\n",
      "https://pythonprogramming.net/euclidean-distance-machine-learning-tutorial/\n",
      "https://pythonprogramming.net/final-thoughts-knn-machine-learning-tutorial/\n",
      "https://pythonprogramming.net/train-test-tensorflow-deep-learning-tutorial/\n",
      "https://pythonprogramming.net/more-generators-intermediate-python-tutorial/\n",
      "https://pythonprogramming.net/function-parameters-learn-python-3-tutorials/\n",
      "https://pythonprogramming.net/sending-receiving-messages-nodes-dynamically/\n",
      "https://pythonprogramming.net/twitter-api-streaming-tweets-python-tutorial/\n",
      "https://pythonprogramming.net/drop-down-button-window-styles-pyqt-tutorial/\n",
      "https://pythonprogramming.net/subplot2grid-add_subplot-matplotlib-tutorial/\n",
      "https://pythonprogramming.net/tkinter-depth-tutorial-making-actual-program/\n",
      "https://pythonprogramming.net/named-entity-recognition-stanford-ner-tagger/\n",
      "https://pythonprogramming.net/programming-autonomous-robot-gopigo-tutorial/\n",
      "https://pythonprogramming.net/dataset-data-analysis-python-pandas-tutorial/\n",
      "https://pythonprogramming.net/matplotlib-reading-information-file-plotting/\n",
      "https://pythonprogramming.net/python-programming-finance-fundamental-data/\n",
      "https://pythonprogramming.net/python-programming-finance-trade-sell-logic/\n",
      "https://pythonprogramming.net/asyncio-basics-intermediate-python-tutorial/\n",
      "https://pythonprogramming.net/intro-alexa-skill-flask-ask-python-tutorial/\n",
      "https://pythonprogramming.net/function-parameter-defaults-python-3-basics/\n",
      "https://pythonprogramming.net/regular-expressions-regex-tutorial-python-3/\n",
      "https://pythonprogramming.net/built-in-functions-learn-python-3-tutorials/\n",
      "https://pythonprogramming.net/conditional-statements-alongside-mpi-mpi4py/\n",
      "https://pythonprogramming.net/pandas-column-manipulation-spreadsheet-data/\n",
      "https://pythonprogramming.net/pandas-statistics-correlation-tables-how-to/\n",
      "https://pythonprogramming.net/embedding-live-matplotlib-graph-tkinter-gui/\n",
      "https://pythonprogramming.net/combine-classifier-algorithms-nltk-tutorial/\n",
      "https://pythonprogramming.net/basics-data-analysis-python-pandas-tutorial/\n",
      "https://pythonprogramming.net/pickle-data-analysis-python-pandas-tutorial/\n",
      "https://pythonprogramming.net/cloud-gpu-compare-and-setup-linode-rtx-6000/\n",
      "https://pythonprogramming.net/moving-to-halite-iii-ai-coding-competition/\n",
      "https://pythonprogramming.net/training-testing-machine-learning-tutorial/\n",
      "https://pythonprogramming.net/pickling-scaling-machine-learning-tutorial/\n",
      "https://pythonprogramming.net/kernels-with-svm-machine-learning-tutorial/\n",
      "https://pythonprogramming.net/natural-language-api-google-cloud-tutorial/\n",
      "https://pythonprogramming.net/terminal-navigation-raspberry-pi-tutorials/\n",
      "https://pythonprogramming.net/lane-region-of-interest-python-plays-gta-v/\n",
      "https://pythonprogramming.net/horizontal-winner-learn-python-3-tutorials/\n",
      "https://pythonprogramming.net/bringing-together-learn-python-3-tutorials/\n",
      "https://pythonprogramming.net/download-and-install-mpi-for-supercomputer/\n",
      "https://pythonprogramming.net/mysql-live-database-example-streaming-data/\n",
      "https://pythonprogramming.net/getting-data-sp-500-index-value-comparison/\n",
      "https://pythonprogramming.net/linear-svc-example-scikit-learn-svm-python/\n",
      "https://pythonprogramming.net/raising-investment-suggestion-requirements/\n",
      "https://pythonprogramming.net/adding-js-plugins-flask-highcharts-example/\n",
      "https://pythonprogramming.net/infinite-3d-pyopengl-flying-cubes-tutorial/\n",
      "https://pythonprogramming.net/converting-date-stamps-matplotlib-tutorial/\n",
      "https://pythonprogramming.net/candlestick-ohlc-graph-matplotlib-tutorial/\n",
      "https://pythonprogramming.net/last-price-stock-chart-matplotlib-tutorial/\n",
      "https://pythonprogramming.net/graph-live-twitter-sentiment-nltk-tutorial/\n",
      "https://pythonprogramming.net/incorporating-graphing-into-stock-screener/\n",
      "https://pythonprogramming.net/twitter-sentiment-analysis-gui-dash-python/\n",
      "https://pythonprogramming.net/flask-connect-mysql-using-mysqldb-tutorial/\n",
      "https://pythonprogramming.net/loading-keras-model-tensorflowjs-tutorial/\n",
      "https://pythonprogramming.net/discordpy-basic-bot-tutorial-introduction/\n",
      "https://pythonprogramming.net/features-labels-machine-learning-tutorial/\n",
      "https://pythonprogramming.net/predictions-svm-machine-learning-tutorial/\n",
      "https://pythonprogramming.net/soft-margin-svm-machine-learning-tutorial/\n",
      "https://pythonprogramming.net/neural-networks-machine-learning-tutorial/\n",
      "https://pythonprogramming.net/introduction-intermediate-python-tutorial/\n",
      "https://pythonprogramming.net/argparse-cli-intermediate-python-tutorial/\n",
      "https://pythonprogramming.net/converting-python-scripts-exe-executables/\n",
      "https://pythonprogramming.net/server-chatroom-sockets-tutorial-python-3/\n",
      "https://pythonprogramming.net/client-chatroom-sockets-tutorial-python-3/\n",
      "https://pythonprogramming.net/data-deep-learning-neural-network-pytorch/\n",
      "https://pythonprogramming.net/vertical-winners-learn-python-3-tutorials/\n",
      "https://pythonprogramming.net/diagonal-winners-learn-python-3-tutorials/\n",
      "https://pythonprogramming.net/installing-supercomputer-operating-system/\n",
      "https://pythonprogramming.net/use-twitter-api-v1-1-python-stream-tweets/\n",
      "https://pythonprogramming.net/average-outcomes-as-predictions-forex-hft/\n",
      "https://pythonprogramming.net/legends-titles-labels-matplotlib-tutorial/\n",
      "https://pythonprogramming.net/implementing-subplots-matplotlib-tutorial/\n",
      "https://pythonprogramming.net/basemap-customization-matplotlib-tutorial/\n",
      "https://pythonprogramming.net/how-to-embed-matplotlib-graph-tkinter-gui/\n",
      "https://pythonprogramming.net/testing-stanford-ner-taggers-for-accuracy/\n",
      "https://pythonprogramming.net/flask-get-post-requests-handling-tutorial/\n",
      "https://pythonprogramming.net/dynamic-user-based-content-flask-tutorial/\n",
      "https://pythonprogramming.net/blurring-smoothing-python-opencv-tutorial/\n",
      "https://pythonprogramming.net/introduction-python3-pandas-data-analysis/\n",
      "https://pythonprogramming.net/database-migration-django-python-tutorial/\n",
      "https://pythonprogramming.net/supplies-needed-raspberry-pi-gopigo-robot/\n",
      "https://pythonprogramming.net/remote-control-robot-programming-tutorial/\n",
      "https://pythonprogramming.net/python-programming-finance-paper-trading/\n",
      "https://pythonprogramming.net/args-kwargs-intermediate-python-tutorial/\n",
      "https://pythonprogramming.net/tkinter-python-3-tutorial-adding-buttons/\n",
      "https://pythonprogramming.net/tkinter-tutorial-python-3-event-handling/\n",
      "https://pythonprogramming.net/pickle-objects-sockets-tutorial-python-3/\n",
      "https://pythonprogramming.net/gpu-deep-learning-neural-network-pytorch/\n",
      "https://pythonprogramming.net/linear-svc-machine-learning-testing-data/\n",
      "https://pythonprogramming.net/streaming-video-from-raspberry-pi-camera/\n",
      "https://pythonprogramming.net/low-latency-video-streaming-raspberry-pi/\n",
      "https://pythonprogramming.net/coloring-pyopengl-surfaces-python-opengl/\n",
      "https://pythonprogramming.net/converting-tkinter-to-exe-with-cx-freeze/\n",
      "https://pythonprogramming.net/tokenizing-words-sentences-nltk-tutorial/\n",
      "https://pythonprogramming.net/twitter-sentiment-analysis-nltk-tutorial/\n",
      "https://pythonprogramming.net/using-bio-tags-create-named-entity-lists/\n",
      "https://pythonprogramming.net/sentiment-analysis-python-textblob-vader/\n",
      "https://pythonprogramming.net/twitter-stream-sentiment-analysis-python/\n",
      "https://pythonprogramming.net/creating-dice-roll-monte-carlo-simulator/\n",
      "https://pythonprogramming.net/template-matching-python-opencv-tutorial/\n",
      "https://pythonprogramming.net/django-web-development-with-python-intro/\n",
      "https://pythonprogramming.net/django-web-server-https-lets-encrypt-ssl/\n",
      "https://pythonprogramming.net/python-programming-finance-back-testing/\n",
      "https://pythonprogramming.net/vector-basics-machine-learning-tutorial/\n",
      "https://pythonprogramming.net/svm-in-python-machine-learning-tutorial/\n",
      "https://pythonprogramming.net/garage-stoplight-raspberry-pi-tutorials/\n",
      "https://pythonprogramming.net/decorators-intermediate-python-tutorial/\n",
      "https://pythonprogramming.net/handling-exceptions-try-except-python-3/\n",
      "https://pythonprogramming.net/indexes-slices-learn-python-3-tutorials/\n",
      "https://pythonprogramming.net/error-handling-learn-python-3-tutorials/\n",
      "https://pythonprogramming.net/current-yahoo-data-for-machine-learning/\n",
      "https://pythonprogramming.net/investment-suggestions-machine-learning/\n",
      "https://pythonprogramming.net/pygame-tutorial-moving-images-key-input/\n",
      "https://pythonprogramming.net/chatbot-deep-learning-python-tensorflow/\n",
      "https://pythonprogramming.net/basemap-python-plotting-tutorial-part-4/\n",
      "https://pythonprogramming.net/basemap-python-plotting-tutorial-part-5/\n",
      "https://pythonprogramming.net/drawing-application-with-screen-manager/\n",
      "https://pythonprogramming.net/bar-chart-histogram-matplotlib-tutorial/\n",
      "https://pythonprogramming.net/basic-customization-matplotlib-tutorial/\n",
      "https://pythonprogramming.net/more-indicator-data-matplotlib-tutorial/\n",
      "https://pythonprogramming.net/share-x-axis-sharex-matplotlib-tutorial/\n",
      "https://pythonprogramming.net/introduction-and-basics-cython-tutorial/\n",
      "https://pythonprogramming.net/sentiment-analysis-module-nltk-tutorial/\n",
      "https://pythonprogramming.net/image-operations-python-opencv-tutorial/\n",
      "https://pythonprogramming.net/corner-detection-python-opencv-tutorial/\n",
      "https://pythonprogramming.net/design-bootstrap-django-python-tutorial/\n",
      "https://pythonprogramming.net/plotting-sql-database-python-matplotlib/\n",
      "https://pythonprogramming.net/vision-api-intro-google-cloud-tutorial/\n",
      "https://pythonprogramming.net/vision-api-contd-google-cloud-tutorial/\n",
      "https://pythonprogramming.net/game-frames-open-cv-python-plays-gta-v/\n",
      "https://pythonprogramming.net/enumerate-intermediate-python-tutorial/\n",
      "https://pythonprogramming.net/python-tutorial-print-function-strings/\n",
      "https://pythonprogramming.net/math-basics-python-3-beginner-tutorial/\n",
      "https://pythonprogramming.net/module-import-syntax-python-3-tutorial/\n",
      "https://pythonprogramming.net/sending-receiving-data-messages-mpi4py/\n",
      "https://pythonprogramming.net/tagging-messages-mpi-multiple-messages/\n",
      "https://pythonprogramming.net/streamlining-changing-machine-learning/\n",
      "https://pythonprogramming.net/pygame-buttons-part-1-button-rectangle/\n",
      "https://pythonprogramming.net/converting-pygame-executable-cx_freeze/\n",
      "https://pythonprogramming.net/opengl-pyopengl-python-pygame-tutorial/\n",
      "https://pythonprogramming.net/random-cube-position-pyopengl-tutorial/\n",
      "https://pythonprogramming.net/python-matplotlib-live-updating-graphs/\n",
      "https://pythonprogramming.net/geographical-plotting-basemap-tutorial/\n",
      "https://pythonprogramming.net/map-plotting-basemap-matplotlib-part-2/\n",
      "https://pythonprogramming.net/multi-y-axis-twinx-matplotlib-tutorial/\n",
      "https://pythonprogramming.net/named-entity-recognition-nltk-tutorial/\n",
      "https://pythonprogramming.net/testing-stanford-ner-taggers-for-speed/\n",
      "https://pythonprogramming.net/drawing-writing-python-opencv-tutorial/\n",
      "https://pythonprogramming.net/django-web-development-python-tutorial/\n",
      "https://pythonprogramming.net/jinja-templates-django-python-tutorial/\n",
      "https://pythonprogramming.net/jinja-variables-django-python-tutorial/\n",
      "https://pythonprogramming.net/views-templates-django-python-tutorial/\n",
      "https://pythonprogramming.net/timing-actions-discordpy-bot-tutorial/\n",
      "https://pythonprogramming.net/virtual-machine-google-cloud-tutorial/\n",
      "https://pythonprogramming.net/translation-api-google-cloud-tutorial/\n",
      "https://pythonprogramming.net/quantum-computer-programming-tutorial/\n",
      "https://pythonprogramming.net/beginner-python-programming-tutorials/\n",
      "https://pythonprogramming.net/if-statement-python-3-basics-tutorial/\n",
      "https://pythonprogramming.net/horizonal-bar-chart-python-matplotlib/\n",
      "https://pythonprogramming.net/introduction-learn-python-3-tutorials/\n",
      "https://pythonprogramming.net/sqlite-part-3-reading-database-python/\n",
      "https://pythonprogramming.net/learning-use-mpi-python-mpi4py-module/\n",
      "https://pythonprogramming.net/basic-mpi4py-script-getting-node-rank/\n",
      "https://pythonprogramming.net/machine-learning-python-sklearn-intro/\n",
      "https://pythonprogramming.net/parsing-data-website-machine-learning/\n",
      "https://pythonprogramming.net/labeling-data-machine-learning-part-2/\n",
      "https://pythonprogramming.net/pandas-column-operations-calculations/\n",
      "https://pythonprogramming.net/modifying-data-granularity-matplotlib/\n",
      "https://pythonprogramming.net/kivy-application-development-tutorial/\n",
      "https://pythonprogramming.net/loading-file-data-matplotlib-tutorial/\n",
      "https://pythonprogramming.net/flask-user-registration-form-tutorial/\n",
      "https://pythonprogramming.net/loading-images-python-opencv-tutorial/\n",
      "https://pythonprogramming.net/usb-foam-cannon-robot-gopigo-tutorial/\n",
      "https://pythonprogramming.net/python-programming-finance-stop-loss/\n",
      "https://pythonprogramming.net/remote-access-raspberry-pi-tutorials/\n",
      "https://pythonprogramming.net/camera-module-raspberry-pi-tutorials/\n",
      "https://pythonprogramming.net/direct-input-game-python-plays-gta-v/\n",
      "https://pythonprogramming.net/detecting-distances-self-driving-car/\n",
      "https://pythonprogramming.net/acquiring-vehicle-python-plays-gta-v/\n",
      "https://pythonprogramming.net/logging-intermediate-python-tutorial/\n",
      "https://pythonprogramming.net/using-pip-install-for-python-modules/\n",
      "https://pythonprogramming.net/collecting-features-machine-learning/\n",
      "https://pythonprogramming.net/building-yahoo-data-machine-learning/\n",
      "https://pythonprogramming.net/testing-visualization-and-conclusion/\n",
      "https://pythonprogramming.net/getting-mouse-press-touch-input-kivy/\n",
      "https://pythonprogramming.net/annotations-text-matplotlib-tutorial/\n",
      "https://pythonprogramming.net/customizing-tkinter-matplotlib-graph/\n",
      "https://pythonprogramming.net/graphing-ohlc-candlestick-in-tkinter/\n",
      "https://pythonprogramming.net/named-entity-recognition-nltk-python/\n",
      "https://pythonprogramming.net/part-of-speech-tagging-nltk-tutorial/\n",
      "https://pythonprogramming.net/naive-bayes-classifier-nltk-tutorial/\n",
      "https://pythonprogramming.net/pickle-classifier-save-nltk-tutorial/\n",
      "https://pythonprogramming.net/ssl-https-letsencrypt-flask-tutorial/\n",
      "https://pythonprogramming.net/loading-video-python-opencv-tutorial/\n",
      "https://pythonprogramming.net/groupby-python3-pandas-data-analysis/\n",
      "https://pythonprogramming.net/working-foreign-keys-django-tutorial/\n",
      "https://pythonprogramming.net/finished-blog-django-python-tutorial/\n",
      "https://pythonprogramming.net/quadcopter-flight-and-legal-tutorial/\n",
      "https://pythonprogramming.net/python-programming-finance-leverage/\n",
      "https://pythonprogramming.net/starcraft-ii-ai-python-sc2-tutorial/\n",
      "https://pythonprogramming.net/introduction-raspberry-pi-tutorials/\n",
      "https://pythonprogramming.net/self-driving-car-python-plays-gta-v/\n",
      "https://pythonprogramming.net/timeit-intermediate-python-tutorial/\n",
      "https://pythonprogramming.net/function-parameters-python-3-basics/\n",
      "https://pythonprogramming.net/frequently-asked-questions-python-3/\n",
      "https://pythonprogramming.net/matplotlib-python-3-basics-tutorial/\n",
      "https://pythonprogramming.net/mutability-learn-python-3-tutorials/\n",
      "https://pythonprogramming.net/conclusion-learn-python-3-tutorials/\n",
      "https://pythonprogramming.net/using-pandas-structure-process-data/\n",
      "https://pythonprogramming.net/improving-analysis-machine-learning/\n",
      "https://pythonprogramming.net/forward-reverse-motors-raspberry-pi/\n",
      "https://pythonprogramming.net/testing-autonomous-raspberry-pi-car/\n",
      "https://pythonprogramming.net/adding-boundaries-pygame-video-game/\n",
      "https://pythonprogramming.net/automated-image-thresholding-python/\n",
      "https://pythonprogramming.net/application-structure-pyqt-tutorial/\n",
      "https://pythonprogramming.net/matplotlib-python-3-basics-tutorial/\n",
      "https://pythonprogramming.net/3d-scatter-plot-matplotlib-tutorial/\n",
      "https://pythonprogramming.net/new-data-set-training-nltk-tutorial/\n",
      "https://pythonprogramming.net/color-filter-python-opencv-tutorial/\n",
      "https://pythonprogramming.net/deploying-to-server-django-tutorial/\n",
      "https://pythonprogramming.net/quadcopter-esc-calibration-tutorial/\n",
      "https://pythonprogramming.net/basic-webapp-tutorial-tensorflowjs/\n",
      "https://pythonprogramming.net/finding-vehicle-python-plays-gta-v/\n",
      "https://pythonprogramming.net/introduction-to-python-programming\n",
      "https://pythonprogramming.net/introduction-to-python-programming/\n",
      "https://pythonprogramming.net/functions-python-3-basics-tutorial/\n",
      "https://pythonprogramming.net/converting-python2-to-python3-2to3/\n",
      "https://pythonprogramming.net/functions-learn-python-3-tutorials/\n",
      "https://pythonprogramming.net/scatter-gather-mpi-mpi4py-tutorial/\n",
      "https://pythonprogramming.net/average-outcomes-as-predictions-p2/\n",
      "https://pythonprogramming.net/flask-web-development-introduction/\n",
      "https://pythonprogramming.net/matplotlib-3d-scatterplot-tutorial/\n",
      "https://pythonprogramming.net/custom-legends-matplotlib-tutorial/\n",
      "https://pythonprogramming.net/embed-matplotlib-graph-tkinter-gui/\n",
      "https://pythonprogramming.net/sklearn-scikit-learn-nltk-tutorial/\n",
      "https://pythonprogramming.net/graphing-finance-data-fundamentals/\n",
      "https://pythonprogramming.net/deploy-vps-dash-data-visualization/\n",
      "https://pythonprogramming.net/mysql-database-with-flask-tutorial/\n",
      "https://pythonprogramming.net/django-web-server-publish-tutorial/\n",
      "https://pythonprogramming.net/building-quadcopter-tutorial-intro/\n",
      "https://pythonprogramming.net/tflearn-machine-learning-tutorial/\n",
      "https://pythonprogramming.net/gpio-input-raspberry-pi-tutorials/\n",
      "https://pythonprogramming.net/open-cv-basics-python-plays-gta-v/\n",
      "https://pythonprogramming.net/data-acquisition-machine-learning/\n",
      "https://pythonprogramming.net/machine-learning-testing-new-algo/\n",
      "https://pythonprogramming.net/past-pattern-outcomes-predictions/\n",
      "https://pythonprogramming.net/making-interactive-pygame-buttons/\n",
      "https://pythonprogramming.net/color-picker-widget-pyqt-tutorial/\n",
      "https://pythonprogramming.net/kivy-drawing-application-tutorial/\n",
      "https://pythonprogramming.net/internet-data-matplotlib-tutorial/\n",
      "https://pythonprogramming.net/getting-macd-data-for-tkinter-gui/\n",
      "https://pythonprogramming.net/text-classification-nltk-tutorial/\n",
      "https://pythonprogramming.net/preparing-figure-for-finance-data/\n",
      "https://pythonprogramming.net/mapping-function-pandas-sentiment/\n",
      "https://pythonprogramming.net/flask-user-log-in-system-tutorial/\n",
      "https://pythonprogramming.net/user-registration-django-tutorial/\n",
      "https://pythonprogramming.net/user-login-logout-django-tutorial/\n",
      "https://pythonprogramming.net/first-site-django-python-tutorial/\n",
      "https://pythonprogramming.net/robot-programming-basics-tutorial/\n",
      "https://pythonprogramming.net/quantopian-pipeline-api-tutorial/\n",
      "https://pythonprogramming.net/zip-intermediate-python-tutorial/\n",
      "https://pythonprogramming.net/appending-file-python-3-tutorial/\n",
      "https://pythonprogramming.net/classes-python-3-basics-tutorial/\n",
      "https://pythonprogramming.net/python-3-tkinter-basics-tutorial/\n",
      "https://pythonprogramming.net/customizing-bar-chart-matplotlib/\n",
      "https://pythonprogramming.net/python-binding-listening-sockets/\n",
      "https://pythonprogramming.net/build-supercomputer-raspberry-pi/\n",
      "https://pythonprogramming.net/mpi-gather-command-mpi4py-python/\n",
      "https://pythonprogramming.net/machine-learning-testing-with-na/\n",
      "https://pythonprogramming.net/running-gpio-python-raspberry-pi/\n",
      "https://pythonprogramming.net/raspberry-pi-car-distance-sensor/\n",
      "https://pythonprogramming.net/raspberry-pi-hc-sr04-programming/\n",
      "https://pythonprogramming.net/font-picker-widget-pyqt-tutorial/\n",
      "https://pythonprogramming.net/scatter-plot-matplotlib-tutorial/\n",
      "https://pythonprogramming.net/colors-fills-matplotlib-tutorial/\n",
      "https://pythonprogramming.net/spines-hline-matplotlib-tutorial/\n",
      "https://pythonprogramming.net/fill-pruning-matplotlib-tutorial/\n",
      "https://pythonprogramming.net/3d-bar-chart-matplotlib-tutorial/\n",
      "https://pythonprogramming.net/getting-rsi-data-for-tkinter-gui/\n",
      "https://pythonprogramming.net/compiling-russell-3000-tickers-2/\n",
      "https://pythonprogramming.net/snooping-best-dalembert-multiple/\n",
      "https://pythonprogramming.net/python-3-multi-dimensional-list/\n",
      "https://pythonprogramming.net/predicting-outcomes-of-patterns/\n",
      "https://pythonprogramming.net/gpio-motor-control-raspberry-pi/\n",
      "https://pythonprogramming.net/raspberry-pi-car-remote-control/\n",
      "https://pythonprogramming.net/pygame-python-3-tutorial-series/\n",
      "https://pythonprogramming.net/drawing-objects-pygame-tutorial/\n",
      "https://pythonprogramming.net/basic-image-recognition-testing/\n",
      "https://pythonprogramming.net/adding-ground-pyopengl-tutorial/\n",
      "https://pythonprogramming.net/python-2-7-pandas-data-analysis/\n",
      "https://pythonprogramming.net/3d-bar-charts-python-matplotlib/\n",
      "https://pythonprogramming.net/live-graphs-matplotlib-tutorial/\n",
      "https://pythonprogramming.net/learning-for-sentiment-analysis/\n",
      "https://pythonprogramming.net/words-as-features-nltk-tutorial/\n",
      "https://pythonprogramming.net/completing-basic-stock-screener/\n",
      "https://pythonprogramming.net/plotting-monte-carlo-matplotlib/\n",
      "https://pythonprogramming.net/two-dimension-graph-monte-carlo/\n",
      "https://pythonprogramming.net/bootstrap-jinja-templates-flask/\n",
      "https://pythonprogramming.net/flask-content-management-basics/\n",
      "https://pythonprogramming.net/password-hashing-flask-tutorial/\n",
      "https://pythonprogramming.net/views-templates-django-tutorial/\n",
      "https://pythonprogramming.net/dynamic-sidebar-django-tutorial/\n",
      "https://pythonprogramming.net/hough-lines-python-plays-gta-v/\n",
      "https://pythonprogramming.net/reading-file-python-3-tutorial/\n",
      "https://pythonprogramming.net/dictionaries-tutorial-python-3/\n",
      "https://pythonprogramming.net/lists-learn-python-3-tutorials/\n",
      "https://pythonprogramming.net/labeling-data-machine-learning/\n",
      "https://pythonprogramming.net/preprocessing-machine-learning/\n",
      "https://pythonprogramming.net/connecting-motors-raspberry-pi/\n",
      "https://pythonprogramming.net/adding-score-pygame-video-game/\n",
      "https://pythonprogramming.net/flask-web-development-tutorial/\n",
      "https://pythonprogramming.net/templates-flask-variables-html/\n",
      "https://pythonprogramming.net/button-functions-pyqt-tutorial/\n",
      "https://pythonprogramming.net/pandas-saving-reading-csv-file/\n",
      "https://pythonprogramming.net/python-function-mapping-pandas/\n",
      "https://pythonprogramming.net/dynamic-kivy-content-placement/\n",
      "https://pythonprogramming.net/stack-plot-matplotlib-tutorial/\n",
      "https://pythonprogramming.net/conclusion-matplotlib-tutorial/\n",
      "https://pythonprogramming.net/time-frame-sample-size-options/\n",
      "https://pythonprogramming.net/create-a-stock-screener-python/\n",
      "https://pythonprogramming.net/compiling-russell-3000-tickers/\n",
      "https://pythonprogramming.net/finishing-fundamental-graphing/\n",
      "https://pythonprogramming.net/fixing-debt-issues-monte-carlo/\n",
      "https://pythonprogramming.net/flask-content-management-contd/\n",
      "https://pythonprogramming.net/flask-protected-files-tutorial/\n",
      "https://pythonprogramming.net/pong-ai-tensorflowjs-tutorial/\n",
      "https://pythonprogramming.net/next-steps-python-plays-gta-v/\n",
      "https://pythonprogramming.net/loop-python-3-basics-tutorial/\n",
      "https://pythonprogramming.net/common-errors-python-3-basics/\n",
      "https://pythonprogramming.net/matplotlib-basics-first-graph/\n",
      "https://pythonprogramming.net/graphing-from-sqlite-database/\n",
      "https://pythonprogramming.net/sqlite-update-delete-tutorial/\n",
      "https://pythonprogramming.net/mpi-broadcast-tutorial-mpi4py/\n",
      "https://pythonprogramming.net/getting-data-machine-learning/\n",
      "https://pythonprogramming.net/forex-algo-pattern-rec-basics/\n",
      "https://pythonprogramming.net/increasing-pattern-complexity/\n",
      "https://pythonprogramming.net/displaying-our-forex-patterns/\n",
      "https://pythonprogramming.net/user-control-raspberry-pi-car/\n",
      "https://pythonprogramming.net/displaying-text-pygame-screen/\n",
      "https://pythonprogramming.net/pygame-drawing-shapes-objects/\n",
      "https://pythonprogramming.net/pygame-button-function-events/\n",
      "https://pythonprogramming.net/pop-up-messages-pyqt-tutorial/\n",
      "https://pythonprogramming.net/python-web-development-django/\n",
      "https://pythonprogramming.net/3d-graphing-pandas-matplotlib/\n",
      "https://pythonprogramming.net/3d-graphing-python-matplotlib/\n",
      "https://pythonprogramming.net/pie-chart-matplotlib-tutorial/\n",
      "https://pythonprogramming.net/unix-time-matplotlib-tutorial/\n",
      "https://pythonprogramming.net/3d-graphs-matplotlib-tutorial/\n",
      "https://pythonprogramming.net/change-show-new-frame-tkinter/\n",
      "https://pythonprogramming.net/tutorial-for-tkinter-tutorial/\n",
      "https://pythonprogramming.net/more-named-entity-recognition/\n",
      "https://pythonprogramming.net/back-testing-basics-sentiment/\n",
      "https://pythonprogramming.net/bettor-statistics-monte-carlo/\n",
      "https://pythonprogramming.net/analyzing-monte-carlo-results/\n",
      "https://pythonprogramming.net/jinja-template-flask-tutorial/\n",
      "https://pythonprogramming.net/flask-url-converters-tutorial/\n",
      "https://pythonprogramming.net/python-fundamental-tutorials/\n",
      "https://pythonprogramming.net/python-programming-tutorials/\n",
      "https://pythonprogramming.net/quantopian-pipeline-strategy/\n",
      "https://pythonprogramming.net/writing-file-python-3-basics/\n",
      "https://pythonprogramming.net/user-input-python-3-tutorial/\n",
      "https://pythonprogramming.net/multi-line-printing-python-3/\n",
      "https://pythonprogramming.net/python-3-subprocess-tutorial/\n",
      "https://pythonprogramming.net/python-threaded-port-scanner/\n",
      "https://pythonprogramming.net/client-server-python-sockets/\n",
      "https://pythonprogramming.net/pygame-python-3-part-1-intro/\n",
      "https://pythonprogramming.net/creating-first-flask-web-app/\n",
      "https://pythonprogramming.net/thresholding-python-function/\n",
      "https://pythonprogramming.net/moving-towards-pyopengl-cube/\n",
      "https://pythonprogramming.net/plotting-maps-python-basemap/\n",
      "https://pythonprogramming.net/kivy-screen-manager-tutorial/\n",
      "https://pythonprogramming.net/tkinter-popup-message-window/\n",
      "https://pythonprogramming.net/adding-indicator-choice-menu/\n",
      "https://pythonprogramming.net/nltk-corpus-corpora-tutorial/\n",
      "https://pythonprogramming.net/python-fundamental-investing/\n",
      "https://pythonprogramming.net/monte-carlo-simulator-python/\n",
      "https://pythonprogramming.net/practical-flask-introduction/\n",
      "https://pythonprogramming.net/basic-flask-website-tutorial/\n",
      "https://pythonprogramming.net/flask-user-register-tutorial/\n",
      "https://pythonprogramming.net/foreign-keys-django-tutorial/\n",
      "https://pythonprogramming.net/admin-django-python-tutorial/\n",
      "https://pythonprogramming.net/quadcopter-assembly-tutorial/\n",
      "https://pythonprogramming.net/googled4c03d669c9855ca.html\n",
      "https://pythonprogramming.net/data-analysis-tutorials-dev/\n",
      "https://pythonprogramming.net/gpio-raspberry-pi-tutorials/\n",
      "https://pythonprogramming.net/python-3-variables-tutorial/\n",
      "https://pythonprogramming.net/elif-else-python-3-tutorial/\n",
      "https://pythonprogramming.net/installing-modules-python-3/\n",
      "https://pythonprogramming.net/ftp-transfers-python-ftplib/\n",
      "https://pythonprogramming.net/python-port-scanner-sockets/\n",
      "https://pythonprogramming.net/label-data-machine-learning/\n",
      "https://pythonprogramming.net/pattern-recognition-dataset/\n",
      "https://pythonprogramming.net/finding-forex-algo-patterns/\n",
      "https://pythonprogramming.net/recognizing-current-pattern/\n",
      "https://pythonprogramming.net/variables-in-forex-patterns/\n",
      "https://pythonprogramming.net/gpio-raspberry-pi-car-intro/\n",
      "https://pythonprogramming.net/autonomous-raspberry-pi-car/\n",
      "https://pythonprogramming.net/placing-text-pygame-buttons/\n",
      "https://pythonprogramming.net/python-pandas-data-analysis/\n",
      "https://pythonprogramming.net/3d-scatter-plot-customizing/\n",
      "https://pythonprogramming.net/kivy-application-navigation/\n",
      "https://pythonprogramming.net/adding-tkinter-menu-options/\n",
      "https://pythonprogramming.net/subplots-within-tkinter-gui/\n",
      "https://pythonprogramming.net/building-nlp-knowledge-base/\n",
      "https://pythonprogramming.net/investigating-nltk-tutorial/\n",
      "https://pythonprogramming.net/removing-outliers-sentiment/\n",
      "https://pythonprogramming.net/more-monte-carlo-comparison/\n",
      "https://pythonprogramming.net/flask-homepage-improvements/\n",
      "https://pythonprogramming.net/flask-error-handling-basics/\n",
      "https://pythonprogramming.net/flask-registration-tutorial/\n",
      "https://pythonprogramming.net/blog-django-python-tutorial/\n",
      "https://pythonprogramming.net/machine-learning-tutorials/\n",
      "https://pythonprogramming.net/game-development-tutorials/\n",
      "https://pythonprogramming.net/python-3-list-manipulation/\n",
      "https://pythonprogramming.net/reading-csv-files-python-3/\n",
      "https://pythonprogramming.net/tkinter-adding-text-images/\n",
      "https://pythonprogramming.net/matplotlib-graphing-series/\n",
      "https://pythonprogramming.net/matplotlib-styles-tutorial/\n",
      "https://pythonprogramming.net/supplies-for-supercomputer/\n",
      "https://pythonprogramming.net/create-mysql-tables-insert/\n",
      "https://pythonprogramming.net/mysql-update-select-delete/\n",
      "https://pythonprogramming.net/more-on-patterns-hft-forex/\n",
      "https://pythonprogramming.net/autopilot-raspberry-pi-car/\n",
      "https://pythonprogramming.net/pygame-making-games-python/\n",
      "https://pythonprogramming.net/pygame-start-menu-tutorial/\n",
      "https://pythonprogramming.net/adding-sounds-music-pygame/\n",
      "https://pythonprogramming.net/graphing-images-matplotlib/\n",
      "https://pythonprogramming.net/progress-bar-pyqt-tutorial/\n",
      "https://pythonprogramming.net/graphing-pandas-matplotlib/\n",
      "https://pythonprogramming.net/styles-matplotlib-tutorial/\n",
      "https://pythonprogramming.net/creating-main-menu-tkinter/\n",
      "https://pythonprogramming.net/pulling-data-from-seaofbtc/\n",
      "https://pythonprogramming.net/installing-nltk-nlp-python/\n",
      "https://pythonprogramming.net/accuracy-testing-basic-nlp/\n",
      "https://pythonprogramming.net/price-to-earnings-screener/\n",
      "https://pythonprogramming.net/adding-historical-earnings/\n",
      "https://pythonprogramming.net/strategy-function-tutorial/\n",
      "https://pythonprogramming.net/using-monte-carlo-to-snoop/\n",
      "https://pythonprogramming.net/admin-apps-django-tutorial/\n",
      "https://pythonprogramming.net/web-development-tutorials/\n",
      "https://pythonprogramming.net/gui-development-tutorials/\n",
      "https://pythonprogramming.net/facial-recognition-python/\n",
      "https://pythonprogramming.net/tkinter-menu-bar-tutorial/\n",
      "https://pythonprogramming.net/threading-tutorial-python/\n",
      "https://pythonprogramming.net/sockets-tutorial-python-3/\n",
      "https://pythonprogramming.net/gpio-example-raspberry-pi/\n",
      "https://pythonprogramming.net/raspberry-pi-car-supplies/\n",
      "https://pythonprogramming.net/pivoting-raspberry-pi-car/\n",
      "https://pythonprogramming.net/image-thresholding-python/\n",
      "https://pythonprogramming.net/text-editor-pyqt-tutorial/\n",
      "https://pythonprogramming.net/file-saving-pyqt-tutorial/\n",
      "https://pythonprogramming.net/navigating-3d-environment/\n",
      "https://pythonprogramming.net/pandas-standard-deviation/\n",
      "https://pythonprogramming.net/matplotlib-intro-tutorial/\n",
      "https://pythonprogramming.net/styling-gui-bit-using-ttk/\n",
      "https://pythonprogramming.net/scraping-parsing-rss-feed/\n",
      "https://pythonprogramming.net/finding-related-sentiment/\n",
      "https://pythonprogramming.net/lemmatizing-nltk-tutorial/\n",
      "https://pythonprogramming.net/monte-carlo-dice-function/\n",
      "https://pythonprogramming.net/quadcopter-parts-tutorial/\n",
      "https://pythonprogramming.net/yahoo_finance_replacement\n",
      "https://pythonprogramming.net/correlation-one-terminal/\n",
      "https://pythonprogramming.net/built-functions-python-3/\n",
      "https://pythonprogramming.net/urllib-tutorial-python-3/\n",
      "https://pythonprogramming.net/learning-and-testing-svm/\n",
      "https://pythonprogramming.net/more-predicting-outcomes/\n",
      "https://pythonprogramming.net/predicting-from-patterns/\n",
      "https://pythonprogramming.net/turning-raspberry-pi-car/\n",
      "https://pythonprogramming.net/displaying-images-pygame/\n",
      "https://pythonprogramming.net/image-recognition-python/\n",
      "https://pythonprogramming.net/open-files-pyqt-tutorial/\n",
      "https://pythonprogramming.net/exchange-choice-handling/\n",
      "https://pythonprogramming.net/adding-indicator-support/\n",
      "https://pythonprogramming.net/stop-words-nltk-tutorial/\n",
      "https://pythonprogramming.net/fundamental-company-data/\n",
      "https://pythonprogramming.net/peg-ratio-stock-screener/\n",
      "https://pythonprogramming.net/organizing-earnings-data/\n",
      "https://pythonprogramming.net/simple-data-manipulation/\n",
      "https://pythonprogramming.net/running-multiple-scripts/\n",
      "https://pythonprogramming.net/flask-homepage-completed/\n",
      "https://pythonprogramming.net/flask-send-file-tutorial/\n",
      "https://pythonprogramming.net/messages-django-tutorial/\n",
      "https://pythonprogramming.net/data-analysis-tutorials/\n",
      "https://pythonprogramming.net/mpi4py-size-command-mpi/\n",
      "https://pythonprogramming.net/shuffling-data-learning/\n",
      "https://pythonprogramming.net/pygame-crashing-objects/\n",
      "https://pythonprogramming.net/basic-gui-pyqt-tutorial/\n",
      "https://pythonprogramming.net/check-box-pyqt-tutorial/\n",
      "https://pythonprogramming.net/website-scraping-basics/\n",
      "https://pythonprogramming.net/populating-nlp-database/\n",
      "https://pythonprogramming.net/pandas-basics-sentiment/\n",
      "https://pythonprogramming.net/sentiment-analysis-data/\n",
      "https://pythonprogramming.net/dynamic-moving-averages/\n",
      "https://pythonprogramming.net/more-analysis-sentiment/\n",
      "https://pythonprogramming.net/checking-bettor-results/\n",
      "https://pythonprogramming.net/comparing-profitability/\n",
      "https://pythonprogramming.net/website-home-page-flask/\n",
      "https://pythonprogramming.net/crontab-tutorial-basics/\n",
      "https://pythonprogramming.net/flask-includes-tutorial/\n",
      "https://pythonprogramming.net/python-3-loop-tutorial/\n",
      "https://pythonprogramming.net/else-python-3-tutorial/\n",
      "https://pythonprogramming.net/global-local-variables/\n",
      "https://pythonprogramming.net/python-lists-vs-tuples/\n",
      "https://pythonprogramming.net/storing-found-patterns/\n",
      "https://pythonprogramming.net/pygame-button-function/\n",
      "https://pythonprogramming.net/web-development-python/\n",
      "https://pythonprogramming.net/flask-template-extends/\n",
      "https://pythonprogramming.net/wireframe-graph-python/\n",
      "https://pythonprogramming.net/kivy-language-tutorial/\n",
      "https://pythonprogramming.net/scraping-text-websites/\n",
      "https://pythonprogramming.net/what-next-nlp-tutorial/\n",
      "https://pythonprogramming.net/stemming-nltk-tutorial/\n",
      "https://pythonprogramming.net/chunking-nltk-tutorial/\n",
      "https://pythonprogramming.net/chinking-nltk-tutorial/\n",
      "https://pythonprogramming.net/connecting-with-quandl/\n",
      "https://pythonprogramming.net/models-django-tutorial/\n",
      "https://pythonprogramming.net/interactive-tutorials/\n",
      "https://pythonprogramming.net/testing-supercomputer/\n",
      "https://pythonprogramming.net/mysql-insert-variable/\n",
      "https://pythonprogramming.net/percent-change-python/\n",
      "https://pythonprogramming.net/buttons-pyqt-tutorial/\n",
      "https://pythonprogramming.net/menubar-pyqt-tutorial/\n",
      "https://pythonprogramming.net/toolbar-pyqt-tutorial/\n",
      "https://pythonprogramming.net/multiple-opengl-cubes/\n",
      "https://pythonprogramming.net/basemap-possibilities/\n",
      "https://pythonprogramming.net/kivy-loader-for-style/\n",
      "https://pythonprogramming.net/adding-trading-option/\n",
      "https://pythonprogramming.net/back-testing-nlp-nltk/\n",
      "https://pythonprogramming.net/wordnet-nltk-tutorial/\n",
      "https://pythonprogramming.net/jquery-flask-tutorial/\n",
      "https://pythonprogramming.net/paypal-flask-tutorial/\n",
      "https://pythonprogramming.net/python-eval-tutorial/\n",
      "https://pythonprogramming.net/python-exec-tutorial/\n",
      "https://pythonprogramming.net/changing-pygame-icon/\n",
      "https://pythonprogramming.net/more-stock-screening/\n",
      "https://pythonprogramming.net/simple-strategy-idea/\n",
      "https://pythonprogramming.net/sentiment-conclusion/\n",
      "https://pythonprogramming.net/graphing-monte-carlo/\n",
      "https://pythonprogramming.net/flask-user-dashboard/\n",
      "https://pythonprogramming.net/flash-flask-tutorial/\n",
      "https://pythonprogramming.net/flask-users-tutorial/\n",
      "https://pythonprogramming.net/flask-cms-conclusion/\n",
      "https://pythonprogramming.net/flask-email-tutorial/\n",
      "https://pythonprogramming.net/question_incorrect_/\n",
      "https://pythonprogramming.net/graph-user-tracking/\n",
      "https://pythonprogramming.net/sys-module-python-3/\n",
      "https://pythonprogramming.net/supercomputer-intro/\n",
      "https://pythonprogramming.net/python-pixel-arrays/\n",
      "https://pythonprogramming.net/kivy-widgets-labels/\n",
      "https://pythonprogramming.net/price-to-book-ratio/\n",
      "https://pythonprogramming.net/martingale-strategy/\n",
      "https://pythonprogramming.net/navigating-terminal/\n",
      "https://pythonprogramming.net/terminal-navigation/\n",
      "https://pythonprogramming.net/css-django-tutorial/\n",
      "https://pythonprogramming.net/challenge_attempt_/\n",
      "https://pythonprogramming.net/robotics-tutorials/\n",
      "https://pythonprogramming.net/parsememcparseface/\n",
      "https://pythonprogramming.net/python-3-os-module/\n",
      "https://pythonprogramming.net/more-kivy-language/\n",
      "https://pythonprogramming.net/adding-exchanges-2/\n",
      "https://pythonprogramming.net/adding-exchanges-3/\n",
      "https://pythonprogramming.net/dalembert-strategy/\n",
      "https://pythonprogramming.net/dalembert-analysis/\n",
      "https://pythonprogramming.net/monte-carlo-python/\n",
      "https://pythonprogramming.net/testing-labouchere/\n",
      "https://pythonprogramming.net/flask-seo-tutorial/\n",
      "https://pythonprogramming.net/question_correct_/\n",
      "https://pythonprogramming.net/finance-tutorials/\n",
      "https://pythonprogramming.net/using-quandl-data/\n",
      "https://pythonprogramming.net/pause-game-pygame/\n",
      "https://pythonprogramming.net/image-recognition/\n",
      "https://pythonprogramming.net/more-pixel-arrays/\n",
      "https://pythonprogramming.net/saving-image-data/\n",
      "https://pythonprogramming.net/kivy-float-layout/\n",
      "https://pythonprogramming.net/cron-tutorial-vps/\n",
      "https://pythonprogramming.net/background_tasks/\n",
      "https://pythonprogramming.net/guided-tutorials/\n",
      "https://pythonprogramming.net/python-vps-intro/\n",
      "https://pythonprogramming.net/forgot-password/\n",
      "https://pythonprogramming.net/support-us-info/\n",
      "https://pythonprogramming.net/flask-bootstrap/\n",
      "https://pythonprogramming.net/python-anywhere/\n",
      "https://pythonprogramming.net/reset-password/\n",
      "https://pythonprogramming.net/support-donate/\n",
      "https://pythonprogramming.net/making-modules/\n",
      "https://pythonprogramming.net/python-sockets/\n",
      "https://pythonprogramming.net/organizing-gui/\n",
      "https://pythonprogramming.net/pygal-tutorial/\n",
      "https://pythonprogramming.net/bot-tutorials/\n",
      "https://pythonprogramming.net/data-analysis/\n",
      "https://pythonprogramming.net/simple-bettor/\n",
      "https://pythonprogramming.net/nohup-command/\n",
      "https://pythonprogramming.net/udemy-piracy/\n",
      "https://pythonprogramming.net/raspberry-pi/\n",
      "https://pythonprogramming.net/_add_numbers\n",
      "https://pythonprogramming.net/search_index/\n",
      "https://pythonprogramming.net/gdpr-testing/\n",
      "https://pythonprogramming.net/sitemap.xml\n",
      "https://pythonprogramming.net/mysql-intro/\n",
      "https://pythonprogramming.net/pong-ai-dev/\n",
      "https://pythonprogramming.net/robots.txt/\n",
      "https://pythonprogramming.net/consulting/\n",
      "https://pythonprogramming.net/50-50-odds/\n",
      "https://pythonprogramming.net/pagination/\n",
      "https://pythonprogramming.net/paperspace/\n",
      "https://pythonprogramming.net/community/\n",
      "https://pythonprogramming.net/dashboard/\n",
      "https://pythonprogramming.net/storedev/\n",
      "https://pythonprogramming.net/register\n",
      "https://pythonprogramming.net/register/\n",
      "https://pythonprogramming.net/ads.txt\n",
      "https://pythonprogramming.net/ads.txt/\n",
      "https://pythonprogramming.net/welcome/\n",
      "https://pythonprogramming.net/contact/\n",
      "https://pythonprogramming.net/support/\n",
      "https://pythonprogramming.net/pong-ai/\n",
      "https://pythonprogramming.net/search/\n",
      "https://pythonprogramming.net/logout/\n",
      "https://pythonprogramming.net/topics/\n",
      "https://pythonprogramming.net/howsdb/\n",
      "https://pythonprogramming.net/store/\n",
      "https://pythonprogramming.net/login/\n",
      "https://pythonprogramming.net/begin/\n",
      "https://pythonprogramming.net/about/\n",
      "https://pythonprogramming.net/blog/\n",
      "https://pythonprogramming.net/user/\n",
      "https://pythonprogramming.net/+=1/\n",
      "https://pythonprogramming.net/db2/\n",
      "https://pythonprogramming.net/qe/\n",
      "https://pythonprogramming.net/go/\n",
      "https://pythonprogramming.net/\n"
     ]
    }
   ],
   "source": [
    "import bs4 as bs\n",
    "import urllib.request\n",
    "\n",
    "s = ('internalNodes', 'loc')\n",
    "file = (\n",
    "    open('haarcascade_frontalcatface_extended.xml', 'r').read(),\n",
    "    urllib.request.urlopen('https://pythonprogramming.net/sitemap.xml').read()\n",
    "    )\n",
    "\n",
    "soup = bs.BeautifulSoup(file[1], 'xml')\n",
    "for i in soup.find_all(s[1]):\n",
    "    print(i.get_text(strip = True))"
   ]
  },
  {
   "cell_type": "code",
   "execution_count": 1,
   "metadata": {
    "scrolled": true
   },
   "outputs": [
    {
     "name": "stdout",
     "output_type": "stream",
     "text": [
      "Enter Username : \n",
      "\n"
     ]
    },
    {
     "data": {
      "text/html": [
       "<div>\n",
       "<style scoped>\n",
       "    .dataframe tbody tr th:only-of-type {\n",
       "        vertical-align: middle;\n",
       "    }\n",
       "\n",
       "    .dataframe tbody tr th {\n",
       "        vertical-align: top;\n",
       "    }\n",
       "\n",
       "    .dataframe thead th {\n",
       "        text-align: right;\n",
       "    }\n",
       "</style>\n",
       "<table border=\"1\" class=\"dataframe\">\n",
       "  <thead>\n",
       "    <tr style=\"text-align: right;\">\n",
       "      <th></th>\n",
       "      <th>0</th>\n",
       "    </tr>\n",
       "  </thead>\n",
       "  <tbody>\n",
       "    <tr>\n",
       "      <th>1</th>\n",
       "      <td>stuti24m</td>\n",
       "    </tr>\n",
       "    <tr>\n",
       "      <th>2</th>\n",
       "      <td>sv6375261073</td>\n",
       "    </tr>\n",
       "    <tr>\n",
       "      <th>3</th>\n",
       "      <td>ankit1975</td>\n",
       "    </tr>\n",
       "    <tr>\n",
       "      <th>4</th>\n",
       "      <td>nnavnit90n</td>\n",
       "    </tr>\n",
       "    <tr>\n",
       "      <th>5</th>\n",
       "      <td>aayushi-droid</td>\n",
       "    </tr>\n",
       "    <tr>\n",
       "      <th>6</th>\n",
       "      <td>Rajesh-Royal</td>\n",
       "    </tr>\n",
       "    <tr>\n",
       "      <th>7</th>\n",
       "      <td>joydipdutta001</td>\n",
       "    </tr>\n",
       "    <tr>\n",
       "      <th>8</th>\n",
       "      <td>ayushsaini29</td>\n",
       "    </tr>\n",
       "    <tr>\n",
       "      <th>9</th>\n",
       "      <td>aditi1122000</td>\n",
       "    </tr>\n",
       "    <tr>\n",
       "      <th>10</th>\n",
       "      <td>mohanrawat</td>\n",
       "    </tr>\n",
       "    <tr>\n",
       "      <th>11</th>\n",
       "      <td>alvianharyanto</td>\n",
       "    </tr>\n",
       "    <tr>\n",
       "      <th>12</th>\n",
       "      <td>matnex-mix</td>\n",
       "    </tr>\n",
       "    <tr>\n",
       "      <th>13</th>\n",
       "      <td>surajgazi100</td>\n",
       "    </tr>\n",
       "    <tr>\n",
       "      <th>14</th>\n",
       "      <td>JohannGordillo</td>\n",
       "    </tr>\n",
       "    <tr>\n",
       "      <th>15</th>\n",
       "      <td>jpieczar</td>\n",
       "    </tr>\n",
       "    <tr>\n",
       "      <th>16</th>\n",
       "      <td>oyerohabib</td>\n",
       "    </tr>\n",
       "    <tr>\n",
       "      <th>17</th>\n",
       "      <td>muktida02</td>\n",
       "    </tr>\n",
       "    <tr>\n",
       "      <th>18</th>\n",
       "      <td>kpsingh88</td>\n",
       "    </tr>\n",
       "    <tr>\n",
       "      <th>19</th>\n",
       "      <td>KiLJ4EdeN</td>\n",
       "    </tr>\n",
       "    <tr>\n",
       "      <th>20</th>\n",
       "      <td>Abbazz2020</td>\n",
       "    </tr>\n",
       "    <tr>\n",
       "      <th>21</th>\n",
       "      <td>princemumba</td>\n",
       "    </tr>\n",
       "    <tr>\n",
       "      <th>22</th>\n",
       "      <td>sagarjangid41</td>\n",
       "    </tr>\n",
       "    <tr>\n",
       "      <th>23</th>\n",
       "      <td>singleton11</td>\n",
       "    </tr>\n",
       "    <tr>\n",
       "      <th>24</th>\n",
       "      <td>nitish770</td>\n",
       "    </tr>\n",
       "    <tr>\n",
       "      <th>25</th>\n",
       "      <td>imvickykumar999</td>\n",
       "    </tr>\n",
       "  </tbody>\n",
       "</table>\n",
       "</div>"
      ],
      "text/plain": [
       "                  0\n",
       "1          stuti24m\n",
       "2      sv6375261073\n",
       "3         ankit1975\n",
       "4        nnavnit90n\n",
       "5     aayushi-droid\n",
       "6      Rajesh-Royal\n",
       "7    joydipdutta001\n",
       "8      ayushsaini29\n",
       "9      aditi1122000\n",
       "10       mohanrawat\n",
       "11   alvianharyanto\n",
       "12       matnex-mix\n",
       "13     surajgazi100\n",
       "14   JohannGordillo\n",
       "15         jpieczar\n",
       "16       oyerohabib\n",
       "17        muktida02\n",
       "18        kpsingh88\n",
       "19        KiLJ4EdeN\n",
       "20       Abbazz2020\n",
       "21      princemumba\n",
       "22    sagarjangid41\n",
       "23      singleton11\n",
       "24        nitish770\n",
       "25  imvickykumar999"
      ]
     },
     "execution_count": 1,
     "metadata": {},
     "output_type": "execute_result"
    }
   ],
   "source": [
    "import requests\n",
    "from bs4 import BeautifulSoup\n",
    "from matplotlib import pyplot as plt \n",
    "import pandas as pd\n",
    "\n",
    "user = input('Enter Username : ')\n",
    "if user == '':\n",
    "    user = 'imvickykumar999'\n",
    "    \n",
    "print()\n",
    "followers = requests.get('https://api.github.com/users/'+ user +'/followers').json()\n",
    "\n",
    "follower = []\n",
    "for i, j in enumerate(followers):\n",
    "    value = list(j.values())[0]\n",
    "    follower.append(value)\n",
    "    \n",
    "follower.append(user)\n",
    "df = pd.DataFrame(follower)\n",
    "df.index += 1\n",
    "\n",
    "df"
   ]
  },
  {
   "cell_type": "code",
   "execution_count": 2,
   "metadata": {},
   "outputs": [
    {
     "name": "stdout",
     "output_type": "stream",
     "text": [
      "\n",
      "Enter index : \n",
      " => [ imvickykumar999 ] having (Public Repositories = 103) ---------------------------------------------------------------------->\n",
      "\n"
     ]
    }
   ],
   "source": [
    "# index = True\n",
    "# while index:\n",
    "index = input('\\nEnter index : ')\n",
    "\n",
    "if index == '':\n",
    "    index = 0\n",
    "else:\n",
    "    index = int(index)\n",
    "\n",
    "select = follower[index-1]\n",
    "url = 'https://github.com/' + select\n",
    "\n",
    "page = requests.get(url)\n",
    "soup = BeautifulSoup(page.content, 'html5lib')\n",
    "\n",
    "repo = soup.findAll('div',\n",
    "        attrs= {'class' : 'UnderlineNav width-full box-shadow-none'})\n",
    "repo = ' = '.join(repo[0].findAll('a')[1].text.split())\n",
    "print(f\" => [ {select} ] having (Public {repo}) {'-'*70}>\\n\")\n",
    "\n",
    "s = ('color-text-primary ws-normal text-left',\n",
    "     'ml-0 py-1 d-flex', \n",
    "     'float-left ws-normal text-left color-text-primary', \n",
    "     'd-flex py-1', )"
   ]
  },
  {
   "cell_type": "code",
   "execution_count": 3,
   "metadata": {},
   "outputs": [
    {
     "name": "stdout",
     "output_type": "stream",
     "text": [
      ">>> Created 75 commits in 6 repositories \n",
      " ==================================================================================================== \n",
      "\n"
     ]
    },
    {
     "data": {
      "text/html": [
       "<div>\n",
       "<style scoped>\n",
       "    .dataframe tbody tr th:only-of-type {\n",
       "        vertical-align: middle;\n",
       "    }\n",
       "\n",
       "    .dataframe tbody tr th {\n",
       "        vertical-align: top;\n",
       "    }\n",
       "\n",
       "    .dataframe thead th {\n",
       "        text-align: right;\n",
       "    }\n",
       "</style>\n",
       "<table border=\"1\" class=\"dataframe\">\n",
       "  <thead>\n",
       "    <tr style=\"text-align: right;\">\n",
       "      <th></th>\n",
       "      <th>repo</th>\n",
       "      <th>commit</th>\n",
       "    </tr>\n",
       "  </thead>\n",
       "  <tbody>\n",
       "    <tr>\n",
       "      <th>0</th>\n",
       "      <td>/imvickykumar999/100th-Repository-Morsetor-pyt...</td>\n",
       "      <td>45 commits</td>\n",
       "    </tr>\n",
       "    <tr>\n",
       "      <th>1</th>\n",
       "      <td>/imvickykumar999/imvickykumar999/commits?autho...</td>\n",
       "      <td>19 commits</td>\n",
       "    </tr>\n",
       "    <tr>\n",
       "      <th>2</th>\n",
       "      <td>/imvickykumar999/Portfolio-with-Flask/commits?...</td>\n",
       "      <td>7 commits</td>\n",
       "    </tr>\n",
       "    <tr>\n",
       "      <th>3</th>\n",
       "      <td>/stuti24m/Amazon-Price-Tracker-Python/commits?...</td>\n",
       "      <td>2 commits</td>\n",
       "    </tr>\n",
       "    <tr>\n",
       "      <th>4</th>\n",
       "      <td>/stuti24m/COVIDstats/commits?author=imvickykum...</td>\n",
       "      <td>1 commit</td>\n",
       "    </tr>\n",
       "    <tr>\n",
       "      <th>5</th>\n",
       "      <td>/imvickykumar999/git-bash/commits?author=imvic...</td>\n",
       "      <td>1 commit</td>\n",
       "    </tr>\n",
       "  </tbody>\n",
       "</table>\n",
       "</div>"
      ],
      "text/plain": [
       "                                                repo      commit\n",
       "0  /imvickykumar999/100th-Repository-Morsetor-pyt...  45 commits\n",
       "1  /imvickykumar999/imvickykumar999/commits?autho...  19 commits\n",
       "2  /imvickykumar999/Portfolio-with-Flask/commits?...   7 commits\n",
       "3  /stuti24m/Amazon-Price-Tracker-Python/commits?...   2 commits\n",
       "4  /stuti24m/COVIDstats/commits?author=imvickykum...    1 commit\n",
       "5  /imvickykumar999/git-bash/commits?author=imvic...    1 commit"
      ]
     },
     "execution_count": 3,
     "metadata": {},
     "output_type": "execute_result"
    }
   ],
   "source": [
    "try:\n",
    "    lst = soup.findAll('span', attrs= {'class' : s[0]})\n",
    "    created = lst[0].text.strip().replace('\\n', '').split(' ')\n",
    "    print('>>>', end=' ')\n",
    "    for i in created:\n",
    "        if i != '':\n",
    "            print(i, end=' ')\n",
    "    print('\\n', '='*100, '\\n')\n",
    "\n",
    "    lst = soup.findAll(class_= s[1])\n",
    "    repolist, commitlist = [], []\n",
    "    for i in range(len(lst)):\n",
    "\n",
    "        repo = lst[i].findAll('a')[1]['href']\n",
    "        repolist.append(repo)\n",
    "\n",
    "        commit = lst[i].findAll('a')[1].text.strip()\n",
    "        commitlist.append(commit)\n",
    "\n",
    "    d = {'repo' : pd.Series(repolist), \n",
    "         'commit' : pd.Series(commitlist)}\n",
    "\n",
    "    df = pd.DataFrame(d)\n",
    "except Exception as e:\n",
    "    pass\n",
    "df"
   ]
  },
  {
   "cell_type": "code",
   "execution_count": 4,
   "metadata": {},
   "outputs": [
    {
     "name": "stdout",
     "output_type": "stream",
     "text": [
      ">>> Created 11 repositories \n",
      " ==================================================================================================== \n",
      "\n"
     ]
    },
    {
     "data": {
      "text/html": [
       "<div>\n",
       "<style scoped>\n",
       "    .dataframe tbody tr th:only-of-type {\n",
       "        vertical-align: middle;\n",
       "    }\n",
       "\n",
       "    .dataframe tbody tr th {\n",
       "        vertical-align: top;\n",
       "    }\n",
       "\n",
       "    .dataframe thead th {\n",
       "        text-align: right;\n",
       "    }\n",
       "</style>\n",
       "<table border=\"1\" class=\"dataframe\">\n",
       "  <thead>\n",
       "    <tr style=\"text-align: right;\">\n",
       "      <th></th>\n",
       "      <th>link</th>\n",
       "      <th>lang</th>\n",
       "      <th>date</th>\n",
       "    </tr>\n",
       "  </thead>\n",
       "  <tbody>\n",
       "    <tr>\n",
       "      <th>0</th>\n",
       "      <td>https://github.com/imvickykumar999/Face-Mask-D...</td>\n",
       "      <td>HTML</td>\n",
       "      <td>Nov 15</td>\n",
       "    </tr>\n",
       "    <tr>\n",
       "      <th>1</th>\n",
       "      <td>https://github.com/imvickykumar999/developer-p...</td>\n",
       "      <td>JavaScript</td>\n",
       "      <td>Nov 15</td>\n",
       "    </tr>\n",
       "    <tr>\n",
       "      <th>2</th>\n",
       "      <td>https://github.com/imvickykumar999/ecommerce</td>\n",
       "      <td>HTML</td>\n",
       "      <td>Nov 12</td>\n",
       "    </tr>\n",
       "    <tr>\n",
       "      <th>3</th>\n",
       "      <td>https://github.com/imvickykumar999/COVIDstats</td>\n",
       "      <td>R</td>\n",
       "      <td>Nov 12</td>\n",
       "    </tr>\n",
       "    <tr>\n",
       "      <th>4</th>\n",
       "      <td>https://github.com/imvickykumar999/Amazon-Pric...</td>\n",
       "      <td>Jupyter Notebook</td>\n",
       "      <td>Nov 12</td>\n",
       "    </tr>\n",
       "    <tr>\n",
       "      <th>5</th>\n",
       "      <td>https://github.com/imvickykumar999/whatsapp-an...</td>\n",
       "      <td>Python</td>\n",
       "      <td>Nov 10</td>\n",
       "    </tr>\n",
       "    <tr>\n",
       "      <th>6</th>\n",
       "      <td>https://github.com/imvickykumar999/Build-OLX-C...</td>\n",
       "      <td>Python</td>\n",
       "      <td>Nov 8</td>\n",
       "    </tr>\n",
       "    <tr>\n",
       "      <th>7</th>\n",
       "      <td>https://github.com/imvickykumar999/100th-Repos...</td>\n",
       "      <td>Python</td>\n",
       "      <td>Nov 7</td>\n",
       "    </tr>\n",
       "    <tr>\n",
       "      <th>8</th>\n",
       "      <td>https://github.com/imvickykumar999/morse-pro</td>\n",
       "      <td>JavaScript</td>\n",
       "      <td>Nov 5</td>\n",
       "    </tr>\n",
       "    <tr>\n",
       "      <th>9</th>\n",
       "      <td>https://github.com/imvickykumar999/git-bash</td>\n",
       "      <td></td>\n",
       "      <td>Nov 5</td>\n",
       "    </tr>\n",
       "    <tr>\n",
       "      <th>10</th>\n",
       "      <td>https://github.com/imvickykumar999/goselftaught</td>\n",
       "      <td>Python</td>\n",
       "      <td>Nov 1</td>\n",
       "    </tr>\n",
       "  </tbody>\n",
       "</table>\n",
       "</div>"
      ],
      "text/plain": [
       "                                                 link              lang  \\\n",
       "0   https://github.com/imvickykumar999/Face-Mask-D...              HTML   \n",
       "1   https://github.com/imvickykumar999/developer-p...        JavaScript   \n",
       "2        https://github.com/imvickykumar999/ecommerce              HTML   \n",
       "3       https://github.com/imvickykumar999/COVIDstats                 R   \n",
       "4   https://github.com/imvickykumar999/Amazon-Pric...  Jupyter Notebook   \n",
       "5   https://github.com/imvickykumar999/whatsapp-an...            Python   \n",
       "6   https://github.com/imvickykumar999/Build-OLX-C...            Python   \n",
       "7   https://github.com/imvickykumar999/100th-Repos...            Python   \n",
       "8        https://github.com/imvickykumar999/morse-pro        JavaScript   \n",
       "9         https://github.com/imvickykumar999/git-bash                     \n",
       "10    https://github.com/imvickykumar999/goselftaught            Python   \n",
       "\n",
       "      date  \n",
       "0   Nov 15  \n",
       "1   Nov 15  \n",
       "2   Nov 12  \n",
       "3   Nov 12  \n",
       "4   Nov 12  \n",
       "5   Nov 10  \n",
       "6    Nov 8  \n",
       "7    Nov 7  \n",
       "8    Nov 5  \n",
       "9    Nov 5  \n",
       "10   Nov 1  "
      ]
     },
     "execution_count": 4,
     "metadata": {},
     "output_type": "execute_result"
    }
   ],
   "source": [
    "lst = soup.findAll('span', attrs= {'class' : s[2]})\n",
    "created = lst[0].text.strip().replace('\\n', '').split(' ')\n",
    "print('>>>', end=' ')\n",
    "for i in created:\n",
    "    if i != '':\n",
    "        print(i, end=' ')\n",
    "print('\\n', '='*100, '\\n')\n",
    "    \n",
    "lst = soup.findAll(class_= s[3])\n",
    "linklist, langlist, datelist = [], [], []\n",
    "for i in range(len(lst)):\n",
    "    \n",
    "    link = 'https://github.com' + lst[i].a['href']\n",
    "    linklist.append(link)\n",
    "    \n",
    "    lang = lst[i].findAll('span')[-1].text.replace('\\n', '')\n",
    "    langlist.append(lang)\n",
    "    \n",
    "    date = lst[i].time.text.strip()\n",
    "    datelist.append(date)\n",
    "\n",
    "d = {'link' : pd.Series(linklist), \n",
    "     'lang' : pd.Series(langlist), \n",
    "     'date' : pd.Series(datelist)}\n",
    "\n",
    "df = pd.DataFrame(d)\n",
    "df"
   ]
  },
  {
   "cell_type": "code",
   "execution_count": 5,
   "metadata": {},
   "outputs": [
    {
     "name": "stdout",
     "output_type": "stream",
     "text": [
      "\n",
      "Printing Contribution Graph\n",
      "\n",
      "Last n days (e.g, 10 <= 365) : \n",
      "For no. of Days (e.g, 7 < nd) : \n"
     ]
    },
    {
     "data": {
      "image/png": "[encoded data removed]",
      "text/plain": [
       "<Figure size 432x288 with 1 Axes>"
      ]
     },
     "metadata": {
      "needs_background": "light"
     },
     "output_type": "display_data"
    },
    {
     "name": "stdout",
     "output_type": "stream",
     "text": [
      " >>> max. Contribution b/w,\n",
      "\n",
      "    2020-11-02\n",
      "    and, 2020-11-15\n",
      "    \n",
      "...is 37\n",
      "    \n"
     ]
    }
   ],
   "source": [
    "lst = soup.find (class_= 'border py-2 graph-before-activity-overview')\n",
    "glist = lst.g.findAll('rect')\n",
    "x, y = [], []\n",
    "\n",
    "for i in range (len (glist)):\n",
    "    dc = int (glist [i]['data-count'])\n",
    "    y.append(dc)\n",
    "    dd = int (glist [i]['data-date'].split('-')[2])\n",
    "    x.append(dd)\n",
    "\n",
    "print('\\nPrinting Contribution Graph\\n')\n",
    "#     nd = True\n",
    "#     while nd:\n",
    "nd = input('Last n days (e.g, 10 <= 365) : ')\n",
    "d = input('For no. of Days (e.g, 7 < nd) : ')\n",
    "\n",
    "if nd == '' or d == '':\n",
    "    d = nd = 14\n",
    "else:\n",
    "    nd = int(nd)\n",
    "    d = int(d)\n",
    "\n",
    "if nd:\n",
    "    if d==nd:\n",
    "        ux = x[-nd:] + [x[-1]]\n",
    "        uy = y[-nd:] + [y[-1]]\n",
    "    else:\n",
    "        ux = x[-nd : d-nd]\n",
    "        uy = y[-nd : d-nd]\n",
    "\n",
    "    plt.xlabel ('\\n' + ' / '.join (glist[-nd]['data-date'].split('-')[:-1]) + ' / Date -->', \n",
    "               fontweight = \"bold\") \n",
    "    plt.ylabel ('No. of Contribution -->\\n', fontweight = \"bold\")\n",
    "\n",
    "    plt.title (f\"GitHub Public Contribution\\nTracker of {select}\\n\",\n",
    "               fontweight = \"bold\")\n",
    "    plt.grid (True, color = \"grey\", linewidth = \"1\", linestyle = \"-.\")\n",
    "\n",
    "    if d<14:\n",
    "        plt.xlim([ux[0]-1, ux[-1]+1])\n",
    "    plt.ylim(0, max(uy)+5)\n",
    "\n",
    "    for i_x, i_y in zip(ux, uy):\n",
    "        if i_y > max(uy)/4 or d<14:\n",
    "            plt.text (i_x, i_y +2, f'({i_x}, {i_y})', \n",
    "                      fontweight = \"bold\")\n",
    "\n",
    "    plt.bar (ux, uy) \n",
    "    plt.show ()\n",
    "\n",
    "    print(f''' >>> max. Contribution b/w,\\n\n",
    "    {glist[-nd]['data-date']}\n",
    "    and, {glist[d-nd-1]['data-date']}\n",
    "    \\n...is {max(uy)}\n",
    "    ''')"
   ]
  },
  {
   "cell_type": "code",
   "execution_count": null,
   "metadata": {},
   "outputs": [],
   "source": []
  }
 ],
 "metadata": {
  "kernelspec": {
   "display_name": "Python 3",
   "language": "python",
   "name": "python3"
  },
  "language_info": {
   "codemirror_mode": {
    "name": "ipython",
    "version": 3
   },
   "file_extension": ".py",
   "mimetype": "text/x-python",
   "name": "python",
   "nbconvert_exporter": "python",
   "pygments_lexer": "ipython3",
   "version": "3.8.3"
  }
 },
 "nbformat": 4,
 "nbformat_minor": 4
}
